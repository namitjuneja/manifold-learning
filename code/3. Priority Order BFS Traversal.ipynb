{
 "cells": [
  {
   "cell_type": "markdown",
   "metadata": {},
   "source": [
    "# Converting Images to Region Adjacency Graphs (RAGs)\n",
    "---"
   ]
  },
  {
   "cell_type": "markdown",
   "metadata": {},
   "source": [
    "## Dependencies\n",
    "\n",
    "1. **pickle**\n",
    "  - Import RAG objects\n",
    "2. **numpy**\n",
    "  - For calculating L1 distance between two vectors\n"
   ]
  },
  {
   "cell_type": "code",
   "execution_count": 15,
   "metadata": {},
   "outputs": [],
   "source": [
    "import pickle\n",
    "import numpy as np"
   ]
  },
  {
   "cell_type": "markdown",
   "metadata": {},
   "source": [
    "---"
   ]
  },
  {
   "cell_type": "markdown",
   "metadata": {},
   "source": [
    "#### Importing graph objects created earlier"
   ]
  },
  {
   "cell_type": "code",
   "execution_count": 4,
   "metadata": {},
   "outputs": [
    {
     "name": "stdout",
     "output_type": "stream",
     "text": [
      "1280 loaded from file.\n"
     ]
    }
   ],
   "source": [
    "graphs = pickle.load(open(\"../outputs/pickle/graphs.file\", 'rb'))\n",
    "print(f\"{len(graphs)} loaded from file.\")"
   ]
  },
  {
   "cell_type": "markdown",
   "metadata": {},
   "source": [
    "---"
   ]
  },
  {
   "cell_type": "code",
   "execution_count": 5,
   "metadata": {},
   "outputs": [],
   "source": [
    "def get_max_degree_node(graph):\n",
    "    max_degree = 0\n",
    "    max_degree_node = None\n",
    "    \n",
    "    for degree in graph.degree:\n",
    "        if degree[1] > max_degree:\n",
    "            max_degree = degree[1]\n",
    "            max_degree_node = degree[0]\n",
    "    \n",
    "    return max_degree_node"
   ]
  },
  {
   "cell_type": "code",
   "execution_count": 12,
   "metadata": {},
   "outputs": [],
   "source": [
    "error_graphs = []\n",
    "def priority_bfs(graph, root):\n",
    "    if root is None:\n",
    "        return [(1,40000)]\n",
    "    vector  = []\n",
    "    visited = []\n",
    "    queue   = []\n",
    "    \n",
    "    visited.append(root)\n",
    "    queue.append(root)\n",
    "    \n",
    "    #set_trace()\n",
    "    \n",
    "    while queue:\n",
    "        current_node = queue.pop(0)\n",
    "        try:\n",
    "            vector.append((current_node, graph.nodes()[current_node]['area']))\n",
    "        except Exception as e:\n",
    "            print(\"xxxxxxxxxxxxxxxxxxxxx\")\n",
    "            print(root)\n",
    "            print(e)\n",
    "            error_graphs.append(graph)\n",
    "            return \"\"\n",
    "            #nx.draw_networkx(graph)\n",
    "        \n",
    "        # populating neigbors of the current node \n",
    "        # and sorting them based on size\n",
    "\n",
    "        current_node_neighbors = []\n",
    "        current_node_neighbors_with_size = []\n",
    "        for neighbor in graph.neighbors(current_node):\n",
    "            current_node_neighbors_with_size.append((neighbor, graph.nodes()[current_node]['area']))\n",
    "        current_node_neighbors_with_size.sort(key = lambda x: x[1])\n",
    "        for i in current_node_neighbors_with_size:\n",
    "            current_node_neighbors.append(i[0])\n",
    "            \n",
    "            \n",
    "        for neighbor in current_node_neighbors:\n",
    "            if neighbor not in visited:\n",
    "                visited.append(neighbor)\n",
    "                queue.append(neighbor)\n",
    "                \n",
    "    return vector      \n",
    "        "
   ]
  },
  {
   "cell_type": "code",
   "execution_count": 13,
   "metadata": {},
   "outputs": [],
   "source": [
    "vectors = []\n",
    "for graph in graphs:\n",
    "    # set the node with the highest edges as root\n",
    "    root = get_max_degree_node(graph)\n",
    "    \n",
    "    # get BFS vector\n",
    "    vector = priority_bfs(graph, root)\n",
    "    vectors.append(vector)"
   ]
  },
  {
   "cell_type": "code",
   "execution_count": 16,
   "metadata": {},
   "outputs": [],
   "source": [
    "# normalize dimensions of all vectores\n",
    "max_dimensions = max((map(len, vectors)))\n",
    "\n",
    "new_vectors = []\n",
    "for i in vectors:\n",
    "    vector = [j[1] for j in i]\n",
    "    vector += [0]*(max_dimensions-len(i))\n",
    "    new_vectors.append(np.array(vector))"
   ]
  },
  {
   "cell_type": "code",
   "execution_count": 17,
   "metadata": {},
   "outputs": [],
   "source": [
    "D = []\n",
    "for vector_1 in new_vectors:\n",
    "    D_row = []\n",
    "    for vector_2 in new_vectors:\n",
    "        diff = np.linalg.norm((vector_1 - vector_2), ord=1)\n",
    "        D_row.append(diff)\n",
    "    D.append(D_row)"
   ]
  },
  {
   "cell_type": "code",
   "execution_count": 19,
   "metadata": {},
   "outputs": [],
   "source": [
    "a = np.asarray(D)\n",
    "np.savetxt(\"../outputs/distance/bfs_D.csv\", a, delimiter=\",\")"
   ]
  },
  {
   "cell_type": "markdown",
   "metadata": {},
   "source": [
    "#### Creating smaller dataset to test with Entropy-Isomap"
   ]
  },
  {
   "cell_type": "markdown",
   "metadata": {},
   "source": [
    "(first 30 points of the first 2 trajectories)"
   ]
  },
  {
   "cell_type": "code",
   "execution_count": 63,
   "metadata": {},
   "outputs": [],
   "source": [
    "small_data = []\n",
    "small_data += new_vectors[:30]\n",
    "small_data += new_vectors[80:110]\n",
    "\n",
    "D_small_data = []\n",
    "for vector_1 in small_data:\n",
    "    D_row = []\n",
    "    for vector_2 in small_data:\n",
    "        diff = np.linalg.norm((vector_1 - vector_2), ord=1)\n",
    "        D_row.append(diff)\n",
    "    D_small_data.append(D_row)\n",
    "\n",
    "a = np.asarray(D_small_data)\n",
    "np.savetxt(\"bfs_D_small_data.csv\", a, delimiter=\",\")"
   ]
  }
 ],
 "metadata": {
  "kernelspec": {
   "display_name": "Python 3",
   "language": "python",
   "name": "python3"
  },
  "language_info": {
   "codemirror_mode": {
    "name": "ipython",
    "version": 3
   },
   "file_extension": ".py",
   "mimetype": "text/x-python",
   "name": "python",
   "nbconvert_exporter": "python",
   "pygments_lexer": "ipython3",
   "version": "3.6.8"
  }
 },
 "nbformat": 4,
 "nbformat_minor": 2
}
