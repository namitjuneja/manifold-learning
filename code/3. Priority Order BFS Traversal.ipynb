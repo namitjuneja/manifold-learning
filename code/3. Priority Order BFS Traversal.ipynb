{
 "cells": [
  {
   "cell_type": "markdown",
   "metadata": {},
   "source": [
    "# Converting Images to Region Adjacency Graphs (RAGs)\n",
    "---"
   ]
  },
  {
   "cell_type": "markdown",
   "metadata": {},
   "source": [
    "## Dependencies\n",
    "\n",
    "1. **pickle**\n",
    "  - Import RAG objects\n",
    "2. **numpy**\n",
    "  - For calculating L1 distance between two vectors\n",
    "3. **tqdm**\n",
    "  - For progress bars\n"
   ]
  },
  {
   "cell_type": "code",
   "execution_count": 1,
   "metadata": {},
   "outputs": [],
   "source": [
    "import pickle\n",
    "import numpy as np\n",
    "from tqdm.notebook import tqdm"
   ]
  },
  {
   "cell_type": "markdown",
   "metadata": {},
   "source": [
    "## Dev Dependencies"
   ]
  },
  {
   "cell_type": "code",
   "execution_count": 2,
   "metadata": {},
   "outputs": [],
   "source": [
    "import networkx as nx\n",
    "from IPython.core.debugger import set_trace\n",
    "from matplotlib import pyplot as plt\n",
    "%matplotlib inline\n",
    "import copy"
   ]
  },
  {
   "cell_type": "markdown",
   "metadata": {},
   "source": [
    "---"
   ]
  },
  {
   "cell_type": "markdown",
   "metadata": {},
   "source": [
    "#### Importing graph objects created earlier"
   ]
  },
  {
   "cell_type": "code",
   "execution_count": 3,
   "metadata": {},
   "outputs": [
    {
     "name": "stdout",
     "output_type": "stream",
     "text": [
      "1280 loaded from file.\n"
     ]
    }
   ],
   "source": [
    "graphs = pickle.load(open(\"../outputs/pickle/graphs.file\", 'rb'))\n",
    "print(f\"{len(graphs)} loaded from file.\")"
   ]
  },
  {
   "cell_type": "markdown",
   "metadata": {},
   "source": [
    "---"
   ]
  },
  {
   "cell_type": "markdown",
   "metadata": {},
   "source": [
    "### Find the Node with maximum degree"
   ]
  },
  {
   "cell_type": "code",
   "execution_count": 39,
   "metadata": {},
   "outputs": [],
   "source": [
    "def get_max_degree_node(graph):\n",
    "    max_degree = 0\n",
    "    # default node 1 is always black\n",
    "    max_degree_node = 1\n",
    "    \n",
    "    for degree in graph.degree:\n",
    "        # check if a \"black\" node of degree higher than the default node exusts\n",
    "        # black is chosen because there will always be atleast\n",
    "        if degree[1] >= max_degree and graph.nodes[degree[0]]['color']==0:\n",
    "            max_degree = degree[1]\n",
    "            max_degree_node = degree[0]\n",
    "    \n",
    "    if graph.nodes(data=True)[max_degree_node]['color'] == 1 and len(graph.nodes) != 1:\n",
    "        print(graph.nodes(data=True)[max_degree_node]['color'], max_degree_node )\n",
    "        #set_trace()\n",
    "        raise Exception\n",
    "    return max_degree_node"
   ]
  },
  {
   "cell_type": "markdown",
   "metadata": {},
   "source": [
    "### Priority order BFS Implemented\n",
    "#### Steps\n",
    "*Similar to simple BFS but Queueing is done based on volume to surface ratio*\n",
    "1. Enqueue root node\n",
    "2. While queue is not empty\n",
    "    1. Dequeue the first element\n",
    "    2. Append it the vector\n",
    "    3. Get all of elements children \n",
    "    4. Enqueue them in priority order \\\n",
    "       (priority = area:shared boundary ratio)"
   ]
  },
  {
   "cell_type": "code",
   "execution_count": 41,
   "metadata": {},
   "outputs": [],
   "source": [
    "def priority_bfs(graph, root):\n",
    "    vector  = []\n",
    "    visited = []\n",
    "    queue   = []\n",
    "    \n",
    "    visited.append(root)\n",
    "    queue.append((root,graph.nodes[root]['perimeter']))\n",
    "    \n",
    "    while queue:\n",
    "        \n",
    "        # Step A: Dequeue it to the vector\n",
    "        current_node = queue.pop(0)\n",
    "        \n",
    "        \n",
    "        # Step B: Append it to the vector\n",
    "        vector.append(((-1)**(graph.nodes[current_node[0]]['color']+1)) * (current_node[1]))\n",
    "        #vector.append(current_node[1])\n",
    "        #vector.append(graph.nodes[current_node[0]]['area'])\n",
    "        \n",
    "        #set_trace()\n",
    "        \n",
    "        # Step C: Get all of elements children \n",
    "        # Storage format : [ (<node>, <node_area>) , (<node>, <node_area>), ... ]\n",
    "        current_node_neighbors = []\n",
    "        for neighbor in graph.neighbors(current_node[0]):\n",
    "            volume_to_surface_ratio = graph.nodes()[neighbor]['area'] / graph[current_node[0]][neighbor]['weight']\n",
    "            current_node_neighbors.append((neighbor, volume_to_surface_ratio))\n",
    "        \n",
    "        #current_node_neighbors = [(neighbor, graph.nodes()[neighbor]['area']) for neighbor in graph.neighbors(current_node[0])]\n",
    "        \n",
    "            \n",
    "        # Step D: Sort them by their area and enqueue them\n",
    "        # sorting\n",
    "        current_node_neighbors.sort(key = lambda x: x[1])\n",
    "        # enqueueing\n",
    "        # make sure that node has not been visited first\n",
    "        # althugh that should not happen since the graph is\n",
    "        # always acyclic\n",
    "        for neighbor in current_node_neighbors:\n",
    "            if neighbor[0] not in visited:\n",
    "                visited.append(neighbor[0])\n",
    "                queue.append(neighbor)\n",
    "                \n",
    "    return vector      \n",
    "        "
   ]
  },
  {
   "cell_type": "markdown",
   "metadata": {},
   "source": [
    "### Generate vectors for each point in the trajectory"
   ]
  },
  {
   "cell_type": "code",
   "execution_count": 42,
   "metadata": {},
   "outputs": [
    {
     "data": {
      "application/vnd.jupyter.widget-view+json": {
       "model_id": "bc3c3f722d01442f98b72410c36d4e2a",
       "version_major": 2,
       "version_minor": 0
      },
      "text/plain": [
       "HBox(children=(FloatProgress(value=0.0, max=1280.0), HTML(value='')))"
      ]
     },
     "metadata": {},
     "output_type": "display_data"
    },
    {
     "name": "stdout",
     "output_type": "stream",
     "text": [
      "\n"
     ]
    }
   ],
   "source": [
    "vectors = []\n",
    "for graph in tqdm(graphs):\n",
    "    # set the node with the highest edges as root\n",
    "    root = get_max_degree_node(graph)\n",
    "    \n",
    "    # get BFS vector\n",
    "    vector = priority_bfs(graph, root)\n",
    "    vectors.append(vector)"
   ]
  },
  {
   "cell_type": "markdown",
   "metadata": {},
   "source": [
    "### Pad all vectors such that each vector has same number of dimensions\n",
    "This is useful when calculating L1 norm between each vector"
   ]
  },
  {
   "cell_type": "code",
   "execution_count": 43,
   "metadata": {},
   "outputs": [],
   "source": [
    "# normalize dimensions of all vectores\n",
    "max_dimension = max((map(len, vectors)))\n",
    "\n",
    "#padded_vectors = np.empty((0, max_dimension))\n",
    "padded_vectors = []\n",
    "#plt.imshow(padded_vectors)\n",
    "for vector in vectors:\n",
    "    a = len(vector)\n",
    "    vector += [0]*(max_dimension-len(vector))\n",
    "    #padded_vectors = np.append(padded_vectors, np.array(vector), axis=0)\n",
    "    padded_vectors.append(np.array(vector))"
   ]
  },
  {
   "cell_type": "code",
   "execution_count": 44,
   "metadata": {},
   "outputs": [],
   "source": [
    "padded_vectors =  np.array(padded_vectors)"
   ]
  },
  {
   "cell_type": "markdown",
   "metadata": {},
   "source": [
    "### Create distance matrix"
   ]
  },
  {
   "cell_type": "markdown",
   "metadata": {},
   "source": [
    "Subset of vectors to easily obserce the distance matrix"
   ]
  },
  {
   "cell_type": "code",
   "execution_count": 45,
   "metadata": {},
   "outputs": [],
   "source": [
    "# adding 30 points of the first 2 trajectories\n",
    "small_data = padded_vectors[:30, :]\n",
    "small_data = np.concatenate((small_data, padded_vectors[80:110, :]), axis=0)"
   ]
  },
  {
   "cell_type": "code",
   "execution_count": 46,
   "metadata": {},
   "outputs": [],
   "source": [
    "D = np.empty([len(small_data), len(small_data)])\n",
    "for i in range(len(small_data)):\n",
    "    for j in range(i+1):\n",
    "        D[i][j] = D[j][i] = np.linalg.norm((small_data[i] - small_data[j]), ord=1)"
   ]
  },
  {
   "cell_type": "code",
   "execution_count": 56,
   "metadata": {},
   "outputs": [],
   "source": [
    "D = np.empty([len(padded_vectors), len(padded_vectors)])\n",
    "for i in range(len(padded_vectors)):\n",
    "    for j in range(i+1):\n",
    "        D[i][j] = D[j][i] = np.linalg.norm((padded_vectors[i] - padded_vectors[j]), ord=1)\n",
    "        "
   ]
  },
  {
   "cell_type": "code",
   "execution_count": 23,
   "metadata": {
    "collapsed": true
   },
   "outputs": [
    {
     "data": {
      "image/png": "[encoded data removed]",
      "text/plain": [
       "<Figure size 1080x1080 with 2 Axes>"
      ]
     },
     "metadata": {
      "needs_background": "light"
     },
     "output_type": "display_data"
    }
   ],
   "source": [
    "fig = plt.figure(figsize=(15,15))\n",
    "plt.imshow(D)\n",
    "cbar = plt.colorbar()"
   ]
  },
  {
   "cell_type": "code",
   "execution_count": 42,
   "metadata": {
    "collapsed": true
   },
   "outputs": [],
   "source": [
    "x = copy.deepcopy(small_data)\n",
    "\n",
    "xmax, xmin = x.max(), x.min()\n",
    "x = (x - xmin)/(xmax - xmin)"
   ]
  },
  {
   "cell_type": "code",
   "execution_count": 47,
   "metadata": {},
   "outputs": [
    {
     "data": {
      "image/png": "[encoded data removed]",
      "text/plain": [
       "<Figure size 720x720 with 2 Axes>"
      ]
     },
     "metadata": {
      "needs_background": "light"
     },
     "output_type": "display_data"
    }
   ],
   "source": [
    "fig = plt.figure(figsize=(10,10))\n",
    "plt.imshow(D)\n",
    "\n",
    "cbar = plt.colorbar(fraction=0.046, pad=0.04)\n",
    "_ = plt.title(\"3. Always start traversing from the most connected black node\", y=-0.1)"
   ]
  },
  {
   "cell_type": "markdown",
   "metadata": {},
   "source": [
    "Save the distance matrix to be used in matlab implementation of Entropy-Isomap"
   ]
  },
  {
   "cell_type": "code",
   "execution_count": 131,
   "metadata": {},
   "outputs": [],
   "source": [
    "a = np.asarray(D)\n",
    "np.savetxt(\"../outputs/distance/small/bfs_D_3.csv\", a, delimiter=\",\")"
   ]
  },
  {
   "cell_type": "code",
   "execution_count": 72,
   "metadata": {
    "collapsed": true
   },
   "outputs": [],
   "source": [
    "import copy\n",
    "D_original = copy.deepcopy(D)\n",
    "D_1 = copy.deepcopy(D_new)"
   ]
  }
 ],
 "metadata": {
  "kernelspec": {
   "display_name": "Python 3",
   "language": "python",
   "name": "python3"
  },
  "language_info": {
   "codemirror_mode": {
    "name": "ipython",
    "version": 3
   },
   "file_extension": ".py",
   "mimetype": "text/x-python",
   "name": "python",
   "nbconvert_exporter": "python",
   "pygments_lexer": "ipython3",
   "version": "3.6.8"
  }
 },
 "nbformat": 4,
 "nbformat_minor": 2
}
