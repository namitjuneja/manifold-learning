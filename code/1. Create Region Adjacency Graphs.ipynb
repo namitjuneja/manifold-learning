{
 "cells": [
  {
   "cell_type": "markdown",
   "metadata": {},
   "source": [
    "# Converting Images into a Region Adjacency Graph\n",
    "---"
   ]
  },
  {
   "cell_type": "markdown",
   "metadata": {},
   "source": [
    "## Dependencies\n",
    "1. **skimage**\n",
    "  - for creating labelled components from the image (skimage.measure)\n",
    "  - for finding centroid of each label (skimage.measure)\n",
    "  - converting the labelled image into a RAG (skimage.future.graph)\n",
    "  \n",
    "2. **numpy**\n",
    "  - image array manipulation operations\n",
    "  \n",
    "3. **pickle**\n",
    "  - dumping the graphs in a file\n",
    "  \n",
    "4. **tqdm**\n",
    "  - for progress bars\n",
    "\n",
    "5. **cv2**\n",
    "  - create video files\n",
    "\n",
    "6. **networkx**\n",
    "  - for visualizing the graphs\n",
    "7. **os**\n",
    "  - saving images and videos\n",
    "8. **scipy**\n",
    "  - for developing kdtree to find lenght of shared boundary\n",
    "9. **copy**\n",
    "  - create a deep copy of the graphs and remove their edge \n",
    "  - weights for more visual plotting\n",
    "10. **pathlib**\n",
    "  - listing all the images and trajectories\n",
    "  "
   ]
  },
  {
   "cell_type": "code",
   "execution_count": 3,
   "metadata": {},
   "outputs": [
    {
     "name": "stdout",
     "output_type": "stream",
     "text": [
      "The autoreload extension is already loaded. To reload it, use:\n",
      "  %reload_ext autoreload\n"
     ]
    }
   ],
   "source": [
    "from skimage import measure, io, draw\n",
    "from skimage.color import rgb2gray\n",
    "from skimage.future import graph\n",
    "import numpy as np\n",
    "import pickle\n",
    "from tqdm.notebook import tqdm\n",
    "import cv2\n",
    "import networkx as nx\n",
    "import os\n",
    "from scipy.spatial import KDTree\n",
    "import copy\n",
    "from pathlib import Path\n",
    "from helper import *\n",
    "%load_ext autoreload\n",
    "%aimport helper\n",
    "%autoreload 1"
   ]
  },
  {
   "cell_type": "markdown",
   "metadata": {},
   "source": [
    "### Dev Dependencies"
   ]
  },
  {
   "cell_type": "code",
   "execution_count": 4,
   "metadata": {},
   "outputs": [
    {
     "data": {
      "text/plain": [
       "<Figure size 432x288 with 0 Axes>"
      ]
     },
     "metadata": {},
     "output_type": "display_data"
    }
   ],
   "source": [
    "# %matplotlib notebook\n",
    "from matplotlib import pyplot as plt\n",
    "\n",
    "plt.set_cmap('gray')\n",
    "import networkx\n",
    "from IPython.core.debugger import set_trace"
   ]
  },
  {
   "cell_type": "markdown",
   "metadata": {},
   "source": [
    "---"
   ]
  },
  {
   "cell_type": "markdown",
   "metadata": {},
   "source": [
    "## Utility Functions"
   ]
  },
  {
   "cell_type": "markdown",
   "metadata": {},
   "source": [
    "#### Draw RAG edges and nodes over the image"
   ]
  },
  {
   "cell_type": "code",
   "execution_count": 5,
   "metadata": {},
   "outputs": [],
   "source": [
    "def draw_edges(img, rag):\n",
    "    edge_img = img.copy() # to avoid modifying the original image\n",
    "    for edge in rag.edges:\n",
    "        # get the node pair for the edge\n",
    "        node_1, node_2 = edge\n",
    "        \n",
    "        # get the cordinated of the centroid of the node\n",
    "        x1, y1 = map(int, rag.nodes[node_1]['centroid'])\n",
    "        x2, y2 = map(int, rag.nodes[node_2]['centroid'])\n",
    "        \n",
    "        # draw the line joining the centroid of the 2 nodes\n",
    "        line_x, line_y = draw.line(x1,y1,x2,y2)\n",
    "        edge_img[line_x, line_y] = 127\n",
    " \n",
    "    return edge_img"
   ]
  },
  {
   "cell_type": "code",
   "execution_count": 6,
   "metadata": {},
   "outputs": [],
   "source": [
    "def draw_nodes(img, rag):\n",
    "    node_img = img.copy() # to avoid modifying the original image\n",
    "    for node in rag.nodes(data=True):\n",
    "        \n",
    "        # get the coordinates of the centroid of the node\n",
    "        node_x, node_y = node[1]['centroid']\n",
    "        \n",
    "        # draw the circle at the centroid of the node\n",
    "        circle_x, circle_y = draw.circle(node_x, node_y, 2)\n",
    "        node_img[circle_x-1, circle_y-1] = 127\n",
    " \n",
    "    return node_img"
   ]
  },
  {
   "cell_type": "markdown",
   "metadata": {},
   "source": [
    "#### Save graph overlay images\n",
    "Create output images containing the original image, labeled_image and graph overlayed over labeled image"
   ]
  },
  {
   "cell_type": "code",
   "execution_count": 7,
   "metadata": {},
   "outputs": [],
   "source": [
    "def generate_overalay_graph_images(img, label_img, graph_img, img_name, trajectory_name):\n",
    "    \"\"\"\n",
    "    Style 1 has 3 images stacked over each other. \n",
    "    The original image, the label image(where each blob has a different label) \n",
    "    and graph overlay image.\n",
    "    Args:\n",
    "        img: original grayscale image\n",
    "        label_img: labelled_image\n",
    "        graph_img: label_img with graph pverlay on it\n",
    "        img_name: name of tghe image\n",
    "        combined: store each trajectory images in a\n",
    "                  separate folder if False. Default=True.\n",
    "    Returns:\n",
    "        Boolean describing the success of the operation\n",
    "    \"\"\"\n",
    "    #combined_img = np.concatenate([img,label_img,graph_img], axis=0)\n",
    "    \n",
    "    fig = plt.figure(figsize=(10,10))\n",
    "    \n",
    "    # plot the original image\n",
    "    ax = fig.add_subplot(3, 1, 1)\n",
    "    ax.imshow(img, cmap=\"gray\")\n",
    "    ax.set_title(\"Original Image\")\n",
    "    \n",
    "    # Plot the labeled Image\n",
    "    ax = fig.add_subplot(3, 1, 2)\n",
    "    ax.imshow(label_img, cmap=\"nipy_spectral\")\n",
    "    ax.set_title(\"Labelled Image\")\n",
    "\n",
    "    # Plot the Graph Overlay Image\n",
    "    ax = fig.add_subplot(3, 1, 3)\n",
    "    ax.imshow(graph_img, cmap=\"nipy_spectral\")\n",
    "    ax.set_title(\"Graph Overlay Image\")\n",
    "    \n",
    "    title = f\"{trajectory_name} #{int(img_name)%80} ({img_name})\"\n",
    "    \n",
    "    fig.suptitle(title, fontsize=15, y=0.03)    \n",
    "    plt.tight_layout(rect=[0, 0.05, 1, 1])\n",
    "    \n",
    "    target_dir = Path(\"/home/namit/codes/Entropy-Isomap/outputs/non_periodic/graph_overlay/\")/trajectory_name\n",
    "    \n",
    "    # create if path does not exist\n",
    "    target_dir.mkdir(parents=True, exist_ok=True)\n",
    "    plt.savefig(target_dir/(img_name+\".png\"))\n",
    "    \n",
    "    plt.close()   \n"
   ]
  },
  {
   "cell_type": "markdown",
   "metadata": {},
   "source": [
    "#### Save graph videos\n",
    "Create a video of the saved images"
   ]
  },
  {
   "cell_type": "code",
   "execution_count": 8,
   "metadata": {},
   "outputs": [],
   "source": [
    "def generate_overalay_graph_video(source_dir, target_dir):\n",
    "    \"\"\"\n",
    "    Find all the images in a given \n",
    "    directory and create a video of them.\n",
    "    Args:\n",
    "        dir: path to the directory where all the images\n",
    "             are stored\n",
    "    \"\"\"\n",
    "    # read all the images from the source directory\n",
    "    source_dir += \"/*.jpg\" #asuming files are always written in jpg\n",
    "    imgs = io.imread_collection(source_dir, conserve_memory=True)\n",
    "    \n",
    "    # create a video writer in the target location\n",
    "    height, width, layers = imgs[0].shape\n",
    "    size = (width,height)\n",
    "    target_dir += \"/graph_overlay.avi\"\n",
    "    out = cv2.VideoWriter(target_dir,cv2.VideoWriter_fourcc(*'DIVX'), 15, size)\n",
    "    \n",
    "    # write the frames to the video writer \n",
    "    for img in imgs:\n",
    "        out.write(img)\n",
    "        out.write(img)\n",
    "    out.release()\n",
    "    "
   ]
  },
  {
   "cell_type": "markdown",
   "metadata": {},
   "source": [
    "#### Save networkx graph visualization images\n",
    "Graphs created using networkx's draw_networkx function"
   ]
  },
  {
   "cell_type": "code",
   "execution_count": 9,
   "metadata": {},
   "outputs": [],
   "source": [
    "def generate_graph_visualization_images(graphs, trajectory_name, combined=True):\n",
    "    \"\"\"\n",
    "    Save graph visualizations as images.\n",
    "    Args:\n",
    "        graphs: list of graphs to be visualized\n",
    "        combined: if False, directory name will\n",
    "                  be determined based on index number \n",
    "                  of the graph. Default=True.\n",
    "    \"\"\"\n",
    "    root_nodes = []\n",
    "    for graph_num,gg in enumerate(tqdm(graphs)):\n",
    "        \n",
    "        fig,axes = plt.subplots()\n",
    "        \n",
    "        # setting node size\n",
    "        node_size = [i[1]['area'] for i in gg.nodes(data=True)]\n",
    "        sum_node_size = sum(node_size)\n",
    "        node_size_normalized = [(i/sum_node_size)*5000 for i in node_size]\n",
    "        \n",
    "        # setting node color\n",
    "        node_color = []\n",
    "\n",
    "        for i in gg.nodes(data=True):\n",
    "            current_color = i[1]['color']\n",
    "            if current_color == 1:\n",
    "                # this is white\n",
    "                # set to light grey\n",
    "                node_color.append(np.array([0.7,0.7,0.7]))\n",
    "            elif current_color == 0:\n",
    "                # this is black\n",
    "                # set to dark grey\n",
    "                node_color.append(np.array([0.3,0.3,0.3]))\n",
    "            else:\n",
    "                # this should never happen\n",
    "                print(\"Unknown color of node.\")\n",
    "        \n",
    "        # setting node label\n",
    "        node_labels = {}\n",
    "        for index, size in enumerate(node_size):\n",
    "            node_labels[index+1] = f\"{size} ({index+1})\"\n",
    "            \n",
    "        # setting node edge colors\n",
    "        edgecolors = ['k']*len(node_color)\n",
    "        root_node = get_max_degree_node_color(gg)\n",
    "        print(f\"{graph_num} - {root_node}\")\n",
    "        try:\n",
    "            edgecolors[root_node-1] = 'y'\n",
    "        except:\n",
    "            nx.draw_kamada_kawai(graph)\n",
    "            return None\n",
    "        root_nodes.append(root_node)\n",
    "        \n",
    "        #set_trace()\n",
    "        \n",
    "        # create the graph and save it\n",
    "        aa = nx.draw_kamada_kawai(gg, \n",
    "                             node_size   = node_size_normalized, \n",
    "                             node_color  = node_color,\n",
    "                             edgecolors  = edgecolors,\n",
    "                             labels      = node_labels,\n",
    "                             with_labels = True,\n",
    "                             ax          = axes)\n",
    "        \n",
    "        target_dir = Path(\"/home/namit/codes/Entropy-Isomap/outputs/non_periodic/graph_visualization/\")/trajectory_name\n",
    "    \n",
    "        # create if path does not exist\n",
    "        target_dir.mkdir(parents=True, exist_ok=True)\n",
    "        \n",
    "        title = trajectory_name+f\" #{graph_num%80} ({graph_num})\"\n",
    "        plt.title(title, y=-0.1)\n",
    "        \n",
    "        plt.savefig(target_dir/(title+\".png\"))\n",
    "        \n",
    "        plt.cla()\n",
    "        plt.close()\n",
    "    return root_nodes\n",
    "    "
   ]
  },
  {
   "cell_type": "markdown",
   "metadata": {},
   "source": [
    "---"
   ]
  },
  {
   "cell_type": "markdown",
   "metadata": {},
   "source": [
    "## Generate Region Adjacency Graph (RAG)"
   ]
  },
  {
   "cell_type": "markdown",
   "metadata": {},
   "source": [
    "#### Steps\n",
    "1. Read the image, convert to grescale and thresh\n",
    "2. Assign labels to every black and white region(blob).\n",
    "3. Generate the Region Adjacency Graph(RAG).\n",
    "4. Add other attributes to the labels such as node area, color and centroid.\n",
    "5. Add weight of edges based on length of boundary shared between the 2 regions\n",
    "\n",
    "*Adaptive thresholding is not a good idea here because we need a constant threshold for all images as we will be calculating similarities in consecutive threshed images*"
   ]
  },
  {
   "cell_type": "code",
   "execution_count": 10,
   "metadata": {},
   "outputs": [],
   "source": [
    "def create_rag(imgs, trajectory_name):\n",
    "    graphs = []\n",
    "    kdtree = {}\n",
    "    for index,img in enumerate(tqdm(imgs), start=0):\n",
    "\n",
    "        # convert to grayscale and threshold\n",
    "        gray_img = rgb2gray(img)\n",
    "        thresh_img = gray_img > 0.5\n",
    "\n",
    "        # generate disinct labels for every region\n",
    "        # background set to -1 so that black blobs \n",
    "        # do not neglected and are assigned a label\n",
    "        label_img = measure.label(thresh_img, background=-1)\n",
    "\n",
    "        # generate the Region Adjacency Graph\n",
    "        rag = graph.RAG(label_img)\n",
    "\n",
    "        # RAG doesn't add a node if there is only \n",
    "        # one label in label_image\n",
    "        if len(np.unique(label_img)) == 1:\n",
    "            rag.add_node(1)\n",
    "\n",
    "        # add centroid, area and color attributes \n",
    "        # to each node using regionprops\n",
    "        regions = measure.regionprops(label_img, thresh_img)\n",
    "        for region in regions:\n",
    "            rag.nodes[region['label']] ['area'] = region['area']\n",
    "            rag.nodes[region['label']] ['color'] = region['mean_intensity']\n",
    "            rag.nodes[region['label']] ['centroid'] = region['centroid']\n",
    "            rag.nodes[region['label']] ['perimeter'] = region['perimeter']\n",
    "            # will be used to count the number pixels shared on the boundary of 2 regions\n",
    "            kdtree[region['label']] = KDTree(region.coords)\n",
    "\n",
    "        # add weight of edges\n",
    "        # weight = number of neghbouring pixels \n",
    "        # of the two regions/nodes\n",
    "        for edge in rag.edges:\n",
    "            node1, node2 = edge\n",
    "            rag[node1][node2]['weight'] = kdtree[node1].count_neighbors(kdtree[node2], 1)\n",
    "\n",
    "\n",
    "\n",
    "        graph_img = draw_edges(draw_nodes(label_img, rag), rag)\n",
    "\n",
    "        generate_overalay_graph_images(img, label_img, graph_img, str(index), trajectory_name)\n",
    "        #generate_overalay_graph_images(img, label_img, graph_img, str(index), combined=False)\n",
    "\n",
    "        graphs.append(rag)\n",
    "    return graphs"
   ]
  },
  {
   "cell_type": "code",
   "execution_count": 9,
   "metadata": {},
   "outputs": [
    {
     "ename": "TypeError",
     "evalue": "create_rag() missing 1 required positional argument: 'trajectory_name'",
     "output_type": "error",
     "traceback": [
      "\u001b[0;31m---------------------------------------------------------------------------\u001b[0m",
      "\u001b[0;31mTypeError\u001b[0m                                 Traceback (most recent call last)",
      "\u001b[0;32m<ipython-input-9-6c0d61809b30>\u001b[0m in \u001b[0;36m<module>\u001b[0;34m\u001b[0m\n\u001b[1;32m      2\u001b[0m \u001b[0mimg_filenames\u001b[0m \u001b[0;34m=\u001b[0m \u001b[0;34m[\u001b[0m\u001b[0;34m\"../outputs/images/\"\u001b[0m\u001b[0;34m+\u001b[0m\u001b[0mstr\u001b[0m\u001b[0;34m(\u001b[0m\u001b[0mi\u001b[0m\u001b[0;34m)\u001b[0m\u001b[0;34m+\u001b[0m\u001b[0;34m\".jpg\"\u001b[0m \u001b[0;32mfor\u001b[0m \u001b[0mi\u001b[0m \u001b[0;32min\u001b[0m \u001b[0mrange\u001b[0m\u001b[0;34m(\u001b[0m\u001b[0;36m1\u001b[0m\u001b[0;34m,\u001b[0m\u001b[0;36m1281\u001b[0m\u001b[0;34m)\u001b[0m\u001b[0;34m]\u001b[0m\u001b[0;34m\u001b[0m\u001b[0;34m\u001b[0m\u001b[0m\n\u001b[1;32m      3\u001b[0m \u001b[0mimgs\u001b[0m \u001b[0;34m=\u001b[0m \u001b[0mio\u001b[0m\u001b[0;34m.\u001b[0m\u001b[0mimread_collection\u001b[0m\u001b[0;34m(\u001b[0m\u001b[0mimg_filenames\u001b[0m\u001b[0;34m,\u001b[0m \u001b[0mconserve_memory\u001b[0m\u001b[0;34m=\u001b[0m\u001b[0;32mTrue\u001b[0m\u001b[0;34m)\u001b[0m\u001b[0;34m\u001b[0m\u001b[0;34m\u001b[0m\u001b[0m\n\u001b[0;32m----> 4\u001b[0;31m \u001b[0mgraphs\u001b[0m \u001b[0;34m=\u001b[0m \u001b[0mcreate_rag\u001b[0m\u001b[0;34m(\u001b[0m\u001b[0mimgs\u001b[0m\u001b[0;34m)\u001b[0m\u001b[0;34m\u001b[0m\u001b[0;34m\u001b[0m\u001b[0m\n\u001b[0m\u001b[1;32m      5\u001b[0m \u001b[0mpickle\u001b[0m\u001b[0;34m.\u001b[0m\u001b[0mdump\u001b[0m\u001b[0;34m(\u001b[0m\u001b[0mgraphs\u001b[0m\u001b[0;34m,\u001b[0m \u001b[0mopen\u001b[0m\u001b[0;34m(\u001b[0m\u001b[0;34m'../outputs/pickle/graphs.file'\u001b[0m\u001b[0;34m,\u001b[0m \u001b[0;34m'wb'\u001b[0m\u001b[0;34m)\u001b[0m\u001b[0;34m)\u001b[0m\u001b[0;34m\u001b[0m\u001b[0;34m\u001b[0m\u001b[0m\n",
      "\u001b[0;31mTypeError\u001b[0m: create_rag() missing 1 required positional argument: 'trajectory_name'"
     ]
    }
   ],
   "source": [
    "# read all the images\n",
    "img_filenames = [\"../outputs/images/\"+str(i)+\".jpg\" for i in range(1,1281)]\n",
    "imgs = io.imread_collection(img_filenames, conserve_memory=True)\n",
    "graphs = create_rag(imgs)\n",
    "pickle.dump(graphs, open('../outputs/pickle/graphs.file', 'wb'))"
   ]
  },
  {
   "cell_type": "code",
   "execution_count": 11,
   "metadata": {},
   "outputs": [
    {
     "data": {
      "application/vnd.jupyter.widget-view+json": {
       "model_id": "3d1d2858fb924190a2f4825c5c7b1c02",
       "version_major": 2,
       "version_minor": 0
      },
      "text/plain": [
       "HBox(children=(FloatProgress(value=1.0, bar_style='info', max=1.0), HTML(value='')))"
      ]
     },
     "metadata": {},
     "output_type": "display_data"
    },
    {
     "name": "stdout",
     "output_type": "stream",
     "text": [
      "BR0.54-CHI2.6-R5\n"
     ]
    },
    {
     "data": {
      "application/vnd.jupyter.widget-view+json": {
       "model_id": "d42758810bd44d07b1f19cbc32efc9fc",
       "version_major": 2,
       "version_minor": 0
      },
      "text/plain": [
       "HBox(children=(FloatProgress(value=0.0, max=95.0), HTML(value='')))"
      ]
     },
     "metadata": {},
     "output_type": "display_data"
    },
    {
     "ename": "KeyboardInterrupt",
     "evalue": "",
     "output_type": "error",
     "traceback": [
      "\u001b[0;31m---------------------------------------------------------------------------\u001b[0m",
      "\u001b[0;31mKeyboardInterrupt\u001b[0m                         Traceback (most recent call last)",
      "\u001b[0;32m<ipython-input-11-a9a4b53d2991>\u001b[0m in \u001b[0;36m<module>\u001b[0;34m\u001b[0m\n\u001b[1;32m      7\u001b[0m     \u001b[0mimg_filenames\u001b[0m \u001b[0;34m=\u001b[0m \u001b[0msorted\u001b[0m\u001b[0;34m(\u001b[0m\u001b[0;34m[\u001b[0m\u001b[0mstr\u001b[0m\u001b[0;34m(\u001b[0m\u001b[0mx\u001b[0m\u001b[0;34m)\u001b[0m \u001b[0;32mfor\u001b[0m \u001b[0mx\u001b[0m \u001b[0;32min\u001b[0m \u001b[0mtrajectory\u001b[0m\u001b[0;34m.\u001b[0m\u001b[0miterdir\u001b[0m\u001b[0;34m(\u001b[0m\u001b[0;34m)\u001b[0m\u001b[0;34m]\u001b[0m\u001b[0;34m)\u001b[0m\u001b[0;34m\u001b[0m\u001b[0;34m\u001b[0m\u001b[0m\n\u001b[1;32m      8\u001b[0m     \u001b[0mimgs\u001b[0m \u001b[0;34m=\u001b[0m \u001b[0mio\u001b[0m\u001b[0;34m.\u001b[0m\u001b[0mimread_collection\u001b[0m\u001b[0;34m(\u001b[0m\u001b[0mimg_filenames\u001b[0m\u001b[0;34m,\u001b[0m \u001b[0mconserve_memory\u001b[0m\u001b[0;34m=\u001b[0m\u001b[0;32mTrue\u001b[0m\u001b[0;34m)\u001b[0m\u001b[0;34m\u001b[0m\u001b[0;34m\u001b[0m\u001b[0m\n\u001b[0;32m----> 9\u001b[0;31m     \u001b[0mgraphs\u001b[0m \u001b[0;34m=\u001b[0m \u001b[0mcreate_rag\u001b[0m\u001b[0;34m(\u001b[0m\u001b[0mimgs\u001b[0m\u001b[0;34m,\u001b[0m \u001b[0mtrajectory\u001b[0m\u001b[0;34m.\u001b[0m\u001b[0mname\u001b[0m\u001b[0;34m)\u001b[0m\u001b[0;34m\u001b[0m\u001b[0;34m\u001b[0m\u001b[0m\n\u001b[0m\u001b[1;32m     10\u001b[0m \u001b[0;34m\u001b[0m\u001b[0m\n\u001b[1;32m     11\u001b[0m     \u001b[0mpickle\u001b[0m\u001b[0;34m.\u001b[0m\u001b[0mdump\u001b[0m\u001b[0;34m(\u001b[0m\u001b[0mgraphs\u001b[0m\u001b[0;34m,\u001b[0m \u001b[0mopen\u001b[0m\u001b[0;34m(\u001b[0m\u001b[0moutput_dir\u001b[0m\u001b[0;34m/\u001b[0m\u001b[0;34m(\u001b[0m\u001b[0mtrajectory\u001b[0m\u001b[0;34m.\u001b[0m\u001b[0mname\u001b[0m\u001b[0;34m+\u001b[0m\u001b[0;34m'.file'\u001b[0m\u001b[0;34m)\u001b[0m\u001b[0;34m,\u001b[0m \u001b[0;34m'wb'\u001b[0m\u001b[0;34m)\u001b[0m\u001b[0;34m)\u001b[0m\u001b[0;34m\u001b[0m\u001b[0;34m\u001b[0m\u001b[0m\n",
      "\u001b[0;32m<ipython-input-10-4e8783cb1f43>\u001b[0m in \u001b[0;36mcreate_rag\u001b[0;34m(imgs, trajectory_name)\u001b[0m\n\u001b[1;32m     37\u001b[0m         \u001b[0;32mfor\u001b[0m \u001b[0medge\u001b[0m \u001b[0;32min\u001b[0m \u001b[0mrag\u001b[0m\u001b[0;34m.\u001b[0m\u001b[0medges\u001b[0m\u001b[0;34m:\u001b[0m\u001b[0;34m\u001b[0m\u001b[0;34m\u001b[0m\u001b[0m\n\u001b[1;32m     38\u001b[0m             \u001b[0mnode1\u001b[0m\u001b[0;34m,\u001b[0m \u001b[0mnode2\u001b[0m \u001b[0;34m=\u001b[0m \u001b[0medge\u001b[0m\u001b[0;34m\u001b[0m\u001b[0;34m\u001b[0m\u001b[0m\n\u001b[0;32m---> 39\u001b[0;31m             \u001b[0mrag\u001b[0m\u001b[0;34m[\u001b[0m\u001b[0mnode1\u001b[0m\u001b[0;34m]\u001b[0m\u001b[0;34m[\u001b[0m\u001b[0mnode2\u001b[0m\u001b[0;34m]\u001b[0m\u001b[0;34m[\u001b[0m\u001b[0;34m'weight'\u001b[0m\u001b[0;34m]\u001b[0m \u001b[0;34m=\u001b[0m \u001b[0mkdtree\u001b[0m\u001b[0;34m[\u001b[0m\u001b[0mnode1\u001b[0m\u001b[0;34m]\u001b[0m\u001b[0;34m.\u001b[0m\u001b[0mcount_neighbors\u001b[0m\u001b[0;34m(\u001b[0m\u001b[0mkdtree\u001b[0m\u001b[0;34m[\u001b[0m\u001b[0mnode2\u001b[0m\u001b[0;34m]\u001b[0m\u001b[0;34m,\u001b[0m \u001b[0;36m1\u001b[0m\u001b[0;34m)\u001b[0m\u001b[0;34m\u001b[0m\u001b[0;34m\u001b[0m\u001b[0m\n\u001b[0m\u001b[1;32m     40\u001b[0m \u001b[0;34m\u001b[0m\u001b[0m\n\u001b[1;32m     41\u001b[0m \u001b[0;34m\u001b[0m\u001b[0m\n",
      "\u001b[0;32m~/.local/lib/python3.6/site-packages/scipy/spatial/kdtree.py\u001b[0m in \u001b[0;36mcount_neighbors\u001b[0;34m(self, other, r, p)\u001b[0m\n\u001b[1;32m    878\u001b[0m             \u001b[0mr\u001b[0m \u001b[0;34m=\u001b[0m \u001b[0mnp\u001b[0m\u001b[0;34m.\u001b[0m\u001b[0marray\u001b[0m\u001b[0;34m(\u001b[0m\u001b[0;34m[\u001b[0m\u001b[0mr\u001b[0m\u001b[0;34m]\u001b[0m\u001b[0;34m)\u001b[0m\u001b[0;34m\u001b[0m\u001b[0;34m\u001b[0m\u001b[0m\n\u001b[1;32m    879\u001b[0m             \u001b[0mresult\u001b[0m \u001b[0;34m=\u001b[0m \u001b[0mnp\u001b[0m\u001b[0;34m.\u001b[0m\u001b[0mzeros\u001b[0m\u001b[0;34m(\u001b[0m\u001b[0;36m1\u001b[0m\u001b[0;34m,\u001b[0m\u001b[0mdtype\u001b[0m\u001b[0;34m=\u001b[0m\u001b[0mint\u001b[0m\u001b[0;34m)\u001b[0m\u001b[0;34m\u001b[0m\u001b[0;34m\u001b[0m\u001b[0m\n\u001b[0;32m--> 880\u001b[0;31m             \u001b[0mtraverse\u001b[0m\u001b[0;34m(\u001b[0m\u001b[0mself\u001b[0m\u001b[0;34m.\u001b[0m\u001b[0mtree\u001b[0m\u001b[0;34m,\u001b[0m \u001b[0mR1\u001b[0m\u001b[0;34m,\u001b[0m \u001b[0mother\u001b[0m\u001b[0;34m.\u001b[0m\u001b[0mtree\u001b[0m\u001b[0;34m,\u001b[0m \u001b[0mR2\u001b[0m\u001b[0;34m,\u001b[0m \u001b[0mnp\u001b[0m\u001b[0;34m.\u001b[0m\u001b[0marange\u001b[0m\u001b[0;34m(\u001b[0m\u001b[0;36m1\u001b[0m\u001b[0;34m)\u001b[0m\u001b[0;34m)\u001b[0m\u001b[0;34m\u001b[0m\u001b[0;34m\u001b[0m\u001b[0m\n\u001b[0m\u001b[1;32m    881\u001b[0m             \u001b[0;32mreturn\u001b[0m \u001b[0mresult\u001b[0m\u001b[0;34m[\u001b[0m\u001b[0;36m0\u001b[0m\u001b[0;34m]\u001b[0m\u001b[0;34m\u001b[0m\u001b[0;34m\u001b[0m\u001b[0m\n\u001b[1;32m    882\u001b[0m         \u001b[0;32melif\u001b[0m \u001b[0mlen\u001b[0m\u001b[0;34m(\u001b[0m\u001b[0mnp\u001b[0m\u001b[0;34m.\u001b[0m\u001b[0mshape\u001b[0m\u001b[0;34m(\u001b[0m\u001b[0mr\u001b[0m\u001b[0;34m)\u001b[0m\u001b[0;34m)\u001b[0m \u001b[0;34m==\u001b[0m \u001b[0;36m1\u001b[0m\u001b[0;34m:\u001b[0m\u001b[0;34m\u001b[0m\u001b[0;34m\u001b[0m\u001b[0m\n",
      "\u001b[0;32m~/.local/lib/python3.6/site-packages/scipy/spatial/kdtree.py\u001b[0m in \u001b[0;36mtraverse\u001b[0;34m(node1, rect1, node2, rect2, idx)\u001b[0m\n\u001b[1;32m    871\u001b[0m                     \u001b[0mtraverse\u001b[0m\u001b[0;34m(\u001b[0m\u001b[0mnode1\u001b[0m\u001b[0;34m.\u001b[0m\u001b[0mless\u001b[0m\u001b[0;34m,\u001b[0m\u001b[0mless1\u001b[0m\u001b[0;34m,\u001b[0m\u001b[0mnode2\u001b[0m\u001b[0;34m.\u001b[0m\u001b[0mgreater\u001b[0m\u001b[0;34m,\u001b[0m\u001b[0mgreater2\u001b[0m\u001b[0;34m,\u001b[0m\u001b[0midx\u001b[0m\u001b[0;34m)\u001b[0m\u001b[0;34m\u001b[0m\u001b[0;34m\u001b[0m\u001b[0m\n\u001b[1;32m    872\u001b[0m                     \u001b[0mtraverse\u001b[0m\u001b[0;34m(\u001b[0m\u001b[0mnode1\u001b[0m\u001b[0;34m.\u001b[0m\u001b[0mgreater\u001b[0m\u001b[0;34m,\u001b[0m\u001b[0mgreater1\u001b[0m\u001b[0;34m,\u001b[0m\u001b[0mnode2\u001b[0m\u001b[0;34m.\u001b[0m\u001b[0mless\u001b[0m\u001b[0;34m,\u001b[0m\u001b[0mless2\u001b[0m\u001b[0;34m,\u001b[0m\u001b[0midx\u001b[0m\u001b[0;34m)\u001b[0m\u001b[0;34m\u001b[0m\u001b[0;34m\u001b[0m\u001b[0m\n\u001b[0;32m--> 873\u001b[0;31m                     \u001b[0mtraverse\u001b[0m\u001b[0;34m(\u001b[0m\u001b[0mnode1\u001b[0m\u001b[0;34m.\u001b[0m\u001b[0mgreater\u001b[0m\u001b[0;34m,\u001b[0m\u001b[0mgreater1\u001b[0m\u001b[0;34m,\u001b[0m\u001b[0mnode2\u001b[0m\u001b[0;34m.\u001b[0m\u001b[0mgreater\u001b[0m\u001b[0;34m,\u001b[0m\u001b[0mgreater2\u001b[0m\u001b[0;34m,\u001b[0m\u001b[0midx\u001b[0m\u001b[0;34m)\u001b[0m\u001b[0;34m\u001b[0m\u001b[0;34m\u001b[0m\u001b[0m\n\u001b[0m\u001b[1;32m    874\u001b[0m \u001b[0;34m\u001b[0m\u001b[0m\n\u001b[1;32m    875\u001b[0m         \u001b[0mR1\u001b[0m \u001b[0;34m=\u001b[0m \u001b[0mRectangle\u001b[0m\u001b[0;34m(\u001b[0m\u001b[0mself\u001b[0m\u001b[0;34m.\u001b[0m\u001b[0mmaxes\u001b[0m\u001b[0;34m,\u001b[0m \u001b[0mself\u001b[0m\u001b[0;34m.\u001b[0m\u001b[0mmins\u001b[0m\u001b[0;34m)\u001b[0m\u001b[0;34m\u001b[0m\u001b[0;34m\u001b[0m\u001b[0m\n",
      "\u001b[0;32m~/.local/lib/python3.6/site-packages/scipy/spatial/kdtree.py\u001b[0m in \u001b[0;36mtraverse\u001b[0;34m(node1, rect1, node2, rect2, idx)\u001b[0m\n\u001b[1;32m    871\u001b[0m                     \u001b[0mtraverse\u001b[0m\u001b[0;34m(\u001b[0m\u001b[0mnode1\u001b[0m\u001b[0;34m.\u001b[0m\u001b[0mless\u001b[0m\u001b[0;34m,\u001b[0m\u001b[0mless1\u001b[0m\u001b[0;34m,\u001b[0m\u001b[0mnode2\u001b[0m\u001b[0;34m.\u001b[0m\u001b[0mgreater\u001b[0m\u001b[0;34m,\u001b[0m\u001b[0mgreater2\u001b[0m\u001b[0;34m,\u001b[0m\u001b[0midx\u001b[0m\u001b[0;34m)\u001b[0m\u001b[0;34m\u001b[0m\u001b[0;34m\u001b[0m\u001b[0m\n\u001b[1;32m    872\u001b[0m                     \u001b[0mtraverse\u001b[0m\u001b[0;34m(\u001b[0m\u001b[0mnode1\u001b[0m\u001b[0;34m.\u001b[0m\u001b[0mgreater\u001b[0m\u001b[0;34m,\u001b[0m\u001b[0mgreater1\u001b[0m\u001b[0;34m,\u001b[0m\u001b[0mnode2\u001b[0m\u001b[0;34m.\u001b[0m\u001b[0mless\u001b[0m\u001b[0;34m,\u001b[0m\u001b[0mless2\u001b[0m\u001b[0;34m,\u001b[0m\u001b[0midx\u001b[0m\u001b[0;34m)\u001b[0m\u001b[0;34m\u001b[0m\u001b[0;34m\u001b[0m\u001b[0m\n\u001b[0;32m--> 873\u001b[0;31m                     \u001b[0mtraverse\u001b[0m\u001b[0;34m(\u001b[0m\u001b[0mnode1\u001b[0m\u001b[0;34m.\u001b[0m\u001b[0mgreater\u001b[0m\u001b[0;34m,\u001b[0m\u001b[0mgreater1\u001b[0m\u001b[0;34m,\u001b[0m\u001b[0mnode2\u001b[0m\u001b[0;34m.\u001b[0m\u001b[0mgreater\u001b[0m\u001b[0;34m,\u001b[0m\u001b[0mgreater2\u001b[0m\u001b[0;34m,\u001b[0m\u001b[0midx\u001b[0m\u001b[0;34m)\u001b[0m\u001b[0;34m\u001b[0m\u001b[0;34m\u001b[0m\u001b[0m\n\u001b[0m\u001b[1;32m    874\u001b[0m \u001b[0;34m\u001b[0m\u001b[0m\n\u001b[1;32m    875\u001b[0m         \u001b[0mR1\u001b[0m \u001b[0;34m=\u001b[0m \u001b[0mRectangle\u001b[0m\u001b[0;34m(\u001b[0m\u001b[0mself\u001b[0m\u001b[0;34m.\u001b[0m\u001b[0mmaxes\u001b[0m\u001b[0;34m,\u001b[0m \u001b[0mself\u001b[0m\u001b[0;34m.\u001b[0m\u001b[0mmins\u001b[0m\u001b[0;34m)\u001b[0m\u001b[0;34m\u001b[0m\u001b[0;34m\u001b[0m\u001b[0m\n",
      "\u001b[0;32m~/.local/lib/python3.6/site-packages/scipy/spatial/kdtree.py\u001b[0m in \u001b[0;36mtraverse\u001b[0;34m(node1, rect1, node2, rect2, idx)\u001b[0m\n\u001b[1;32m    869\u001b[0m                     \u001b[0mless2\u001b[0m\u001b[0;34m,\u001b[0m \u001b[0mgreater2\u001b[0m \u001b[0;34m=\u001b[0m \u001b[0mrect2\u001b[0m\u001b[0;34m.\u001b[0m\u001b[0msplit\u001b[0m\u001b[0;34m(\u001b[0m\u001b[0mnode2\u001b[0m\u001b[0;34m.\u001b[0m\u001b[0msplit_dim\u001b[0m\u001b[0;34m,\u001b[0m \u001b[0mnode2\u001b[0m\u001b[0;34m.\u001b[0m\u001b[0msplit\u001b[0m\u001b[0;34m)\u001b[0m\u001b[0;34m\u001b[0m\u001b[0;34m\u001b[0m\u001b[0m\n\u001b[1;32m    870\u001b[0m                     \u001b[0mtraverse\u001b[0m\u001b[0;34m(\u001b[0m\u001b[0mnode1\u001b[0m\u001b[0;34m.\u001b[0m\u001b[0mless\u001b[0m\u001b[0;34m,\u001b[0m\u001b[0mless1\u001b[0m\u001b[0;34m,\u001b[0m\u001b[0mnode2\u001b[0m\u001b[0;34m.\u001b[0m\u001b[0mless\u001b[0m\u001b[0;34m,\u001b[0m\u001b[0mless2\u001b[0m\u001b[0;34m,\u001b[0m\u001b[0midx\u001b[0m\u001b[0;34m)\u001b[0m\u001b[0;34m\u001b[0m\u001b[0;34m\u001b[0m\u001b[0m\n\u001b[0;32m--> 871\u001b[0;31m                     \u001b[0mtraverse\u001b[0m\u001b[0;34m(\u001b[0m\u001b[0mnode1\u001b[0m\u001b[0;34m.\u001b[0m\u001b[0mless\u001b[0m\u001b[0;34m,\u001b[0m\u001b[0mless1\u001b[0m\u001b[0;34m,\u001b[0m\u001b[0mnode2\u001b[0m\u001b[0;34m.\u001b[0m\u001b[0mgreater\u001b[0m\u001b[0;34m,\u001b[0m\u001b[0mgreater2\u001b[0m\u001b[0;34m,\u001b[0m\u001b[0midx\u001b[0m\u001b[0;34m)\u001b[0m\u001b[0;34m\u001b[0m\u001b[0;34m\u001b[0m\u001b[0m\n\u001b[0m\u001b[1;32m    872\u001b[0m                     \u001b[0mtraverse\u001b[0m\u001b[0;34m(\u001b[0m\u001b[0mnode1\u001b[0m\u001b[0;34m.\u001b[0m\u001b[0mgreater\u001b[0m\u001b[0;34m,\u001b[0m\u001b[0mgreater1\u001b[0m\u001b[0;34m,\u001b[0m\u001b[0mnode2\u001b[0m\u001b[0;34m.\u001b[0m\u001b[0mless\u001b[0m\u001b[0;34m,\u001b[0m\u001b[0mless2\u001b[0m\u001b[0;34m,\u001b[0m\u001b[0midx\u001b[0m\u001b[0;34m)\u001b[0m\u001b[0;34m\u001b[0m\u001b[0;34m\u001b[0m\u001b[0m\n\u001b[1;32m    873\u001b[0m                     \u001b[0mtraverse\u001b[0m\u001b[0;34m(\u001b[0m\u001b[0mnode1\u001b[0m\u001b[0;34m.\u001b[0m\u001b[0mgreater\u001b[0m\u001b[0;34m,\u001b[0m\u001b[0mgreater1\u001b[0m\u001b[0;34m,\u001b[0m\u001b[0mnode2\u001b[0m\u001b[0;34m.\u001b[0m\u001b[0mgreater\u001b[0m\u001b[0;34m,\u001b[0m\u001b[0mgreater2\u001b[0m\u001b[0;34m,\u001b[0m\u001b[0midx\u001b[0m\u001b[0;34m)\u001b[0m\u001b[0;34m\u001b[0m\u001b[0;34m\u001b[0m\u001b[0m\n",
      "\u001b[0;32m~/.local/lib/python3.6/site-packages/scipy/spatial/kdtree.py\u001b[0m in \u001b[0;36mtraverse\u001b[0;34m(node1, rect1, node2, rect2, idx)\u001b[0m\n\u001b[1;32m    868\u001b[0m                     \u001b[0mless1\u001b[0m\u001b[0;34m,\u001b[0m \u001b[0mgreater1\u001b[0m \u001b[0;34m=\u001b[0m \u001b[0mrect1\u001b[0m\u001b[0;34m.\u001b[0m\u001b[0msplit\u001b[0m\u001b[0;34m(\u001b[0m\u001b[0mnode1\u001b[0m\u001b[0;34m.\u001b[0m\u001b[0msplit_dim\u001b[0m\u001b[0;34m,\u001b[0m \u001b[0mnode1\u001b[0m\u001b[0;34m.\u001b[0m\u001b[0msplit\u001b[0m\u001b[0;34m)\u001b[0m\u001b[0;34m\u001b[0m\u001b[0;34m\u001b[0m\u001b[0m\n\u001b[1;32m    869\u001b[0m                     \u001b[0mless2\u001b[0m\u001b[0;34m,\u001b[0m \u001b[0mgreater2\u001b[0m \u001b[0;34m=\u001b[0m \u001b[0mrect2\u001b[0m\u001b[0;34m.\u001b[0m\u001b[0msplit\u001b[0m\u001b[0;34m(\u001b[0m\u001b[0mnode2\u001b[0m\u001b[0;34m.\u001b[0m\u001b[0msplit_dim\u001b[0m\u001b[0;34m,\u001b[0m \u001b[0mnode2\u001b[0m\u001b[0;34m.\u001b[0m\u001b[0msplit\u001b[0m\u001b[0;34m)\u001b[0m\u001b[0;34m\u001b[0m\u001b[0;34m\u001b[0m\u001b[0m\n\u001b[0;32m--> 870\u001b[0;31m                     \u001b[0mtraverse\u001b[0m\u001b[0;34m(\u001b[0m\u001b[0mnode1\u001b[0m\u001b[0;34m.\u001b[0m\u001b[0mless\u001b[0m\u001b[0;34m,\u001b[0m\u001b[0mless1\u001b[0m\u001b[0;34m,\u001b[0m\u001b[0mnode2\u001b[0m\u001b[0;34m.\u001b[0m\u001b[0mless\u001b[0m\u001b[0;34m,\u001b[0m\u001b[0mless2\u001b[0m\u001b[0;34m,\u001b[0m\u001b[0midx\u001b[0m\u001b[0;34m)\u001b[0m\u001b[0;34m\u001b[0m\u001b[0;34m\u001b[0m\u001b[0m\n\u001b[0m\u001b[1;32m    871\u001b[0m                     \u001b[0mtraverse\u001b[0m\u001b[0;34m(\u001b[0m\u001b[0mnode1\u001b[0m\u001b[0;34m.\u001b[0m\u001b[0mless\u001b[0m\u001b[0;34m,\u001b[0m\u001b[0mless1\u001b[0m\u001b[0;34m,\u001b[0m\u001b[0mnode2\u001b[0m\u001b[0;34m.\u001b[0m\u001b[0mgreater\u001b[0m\u001b[0;34m,\u001b[0m\u001b[0mgreater2\u001b[0m\u001b[0;34m,\u001b[0m\u001b[0midx\u001b[0m\u001b[0;34m)\u001b[0m\u001b[0;34m\u001b[0m\u001b[0;34m\u001b[0m\u001b[0m\n\u001b[1;32m    872\u001b[0m                     \u001b[0mtraverse\u001b[0m\u001b[0;34m(\u001b[0m\u001b[0mnode1\u001b[0m\u001b[0;34m.\u001b[0m\u001b[0mgreater\u001b[0m\u001b[0;34m,\u001b[0m\u001b[0mgreater1\u001b[0m\u001b[0;34m,\u001b[0m\u001b[0mnode2\u001b[0m\u001b[0;34m.\u001b[0m\u001b[0mless\u001b[0m\u001b[0;34m,\u001b[0m\u001b[0mless2\u001b[0m\u001b[0;34m,\u001b[0m\u001b[0midx\u001b[0m\u001b[0;34m)\u001b[0m\u001b[0;34m\u001b[0m\u001b[0;34m\u001b[0m\u001b[0m\n",
      "\u001b[0;32m~/.local/lib/python3.6/site-packages/scipy/spatial/kdtree.py\u001b[0m in \u001b[0;36mtraverse\u001b[0;34m(node1, rect1, node2, rect2, idx)\u001b[0m\n\u001b[1;32m    868\u001b[0m                     \u001b[0mless1\u001b[0m\u001b[0;34m,\u001b[0m \u001b[0mgreater1\u001b[0m \u001b[0;34m=\u001b[0m \u001b[0mrect1\u001b[0m\u001b[0;34m.\u001b[0m\u001b[0msplit\u001b[0m\u001b[0;34m(\u001b[0m\u001b[0mnode1\u001b[0m\u001b[0;34m.\u001b[0m\u001b[0msplit_dim\u001b[0m\u001b[0;34m,\u001b[0m \u001b[0mnode1\u001b[0m\u001b[0;34m.\u001b[0m\u001b[0msplit\u001b[0m\u001b[0;34m)\u001b[0m\u001b[0;34m\u001b[0m\u001b[0;34m\u001b[0m\u001b[0m\n\u001b[1;32m    869\u001b[0m                     \u001b[0mless2\u001b[0m\u001b[0;34m,\u001b[0m \u001b[0mgreater2\u001b[0m \u001b[0;34m=\u001b[0m \u001b[0mrect2\u001b[0m\u001b[0;34m.\u001b[0m\u001b[0msplit\u001b[0m\u001b[0;34m(\u001b[0m\u001b[0mnode2\u001b[0m\u001b[0;34m.\u001b[0m\u001b[0msplit_dim\u001b[0m\u001b[0;34m,\u001b[0m \u001b[0mnode2\u001b[0m\u001b[0;34m.\u001b[0m\u001b[0msplit\u001b[0m\u001b[0;34m)\u001b[0m\u001b[0;34m\u001b[0m\u001b[0;34m\u001b[0m\u001b[0m\n\u001b[0;32m--> 870\u001b[0;31m                     \u001b[0mtraverse\u001b[0m\u001b[0;34m(\u001b[0m\u001b[0mnode1\u001b[0m\u001b[0;34m.\u001b[0m\u001b[0mless\u001b[0m\u001b[0;34m,\u001b[0m\u001b[0mless1\u001b[0m\u001b[0;34m,\u001b[0m\u001b[0mnode2\u001b[0m\u001b[0;34m.\u001b[0m\u001b[0mless\u001b[0m\u001b[0;34m,\u001b[0m\u001b[0mless2\u001b[0m\u001b[0;34m,\u001b[0m\u001b[0midx\u001b[0m\u001b[0;34m)\u001b[0m\u001b[0;34m\u001b[0m\u001b[0;34m\u001b[0m\u001b[0m\n\u001b[0m\u001b[1;32m    871\u001b[0m                     \u001b[0mtraverse\u001b[0m\u001b[0;34m(\u001b[0m\u001b[0mnode1\u001b[0m\u001b[0;34m.\u001b[0m\u001b[0mless\u001b[0m\u001b[0;34m,\u001b[0m\u001b[0mless1\u001b[0m\u001b[0;34m,\u001b[0m\u001b[0mnode2\u001b[0m\u001b[0;34m.\u001b[0m\u001b[0mgreater\u001b[0m\u001b[0;34m,\u001b[0m\u001b[0mgreater2\u001b[0m\u001b[0;34m,\u001b[0m\u001b[0midx\u001b[0m\u001b[0;34m)\u001b[0m\u001b[0;34m\u001b[0m\u001b[0;34m\u001b[0m\u001b[0m\n\u001b[1;32m    872\u001b[0m                     \u001b[0mtraverse\u001b[0m\u001b[0;34m(\u001b[0m\u001b[0mnode1\u001b[0m\u001b[0;34m.\u001b[0m\u001b[0mgreater\u001b[0m\u001b[0;34m,\u001b[0m\u001b[0mgreater1\u001b[0m\u001b[0;34m,\u001b[0m\u001b[0mnode2\u001b[0m\u001b[0;34m.\u001b[0m\u001b[0mless\u001b[0m\u001b[0;34m,\u001b[0m\u001b[0mless2\u001b[0m\u001b[0;34m,\u001b[0m\u001b[0midx\u001b[0m\u001b[0;34m)\u001b[0m\u001b[0;34m\u001b[0m\u001b[0;34m\u001b[0m\u001b[0m\n",
      "\u001b[0;32m~/.local/lib/python3.6/site-packages/scipy/spatial/kdtree.py\u001b[0m in \u001b[0;36mtraverse\u001b[0;34m(node1, rect1, node2, rect2, idx)\u001b[0m\n\u001b[1;32m    870\u001b[0m                     \u001b[0mtraverse\u001b[0m\u001b[0;34m(\u001b[0m\u001b[0mnode1\u001b[0m\u001b[0;34m.\u001b[0m\u001b[0mless\u001b[0m\u001b[0;34m,\u001b[0m\u001b[0mless1\u001b[0m\u001b[0;34m,\u001b[0m\u001b[0mnode2\u001b[0m\u001b[0;34m.\u001b[0m\u001b[0mless\u001b[0m\u001b[0;34m,\u001b[0m\u001b[0mless2\u001b[0m\u001b[0;34m,\u001b[0m\u001b[0midx\u001b[0m\u001b[0;34m)\u001b[0m\u001b[0;34m\u001b[0m\u001b[0;34m\u001b[0m\u001b[0m\n\u001b[1;32m    871\u001b[0m                     \u001b[0mtraverse\u001b[0m\u001b[0;34m(\u001b[0m\u001b[0mnode1\u001b[0m\u001b[0;34m.\u001b[0m\u001b[0mless\u001b[0m\u001b[0;34m,\u001b[0m\u001b[0mless1\u001b[0m\u001b[0;34m,\u001b[0m\u001b[0mnode2\u001b[0m\u001b[0;34m.\u001b[0m\u001b[0mgreater\u001b[0m\u001b[0;34m,\u001b[0m\u001b[0mgreater2\u001b[0m\u001b[0;34m,\u001b[0m\u001b[0midx\u001b[0m\u001b[0;34m)\u001b[0m\u001b[0;34m\u001b[0m\u001b[0;34m\u001b[0m\u001b[0m\n\u001b[0;32m--> 872\u001b[0;31m                     \u001b[0mtraverse\u001b[0m\u001b[0;34m(\u001b[0m\u001b[0mnode1\u001b[0m\u001b[0;34m.\u001b[0m\u001b[0mgreater\u001b[0m\u001b[0;34m,\u001b[0m\u001b[0mgreater1\u001b[0m\u001b[0;34m,\u001b[0m\u001b[0mnode2\u001b[0m\u001b[0;34m.\u001b[0m\u001b[0mless\u001b[0m\u001b[0;34m,\u001b[0m\u001b[0mless2\u001b[0m\u001b[0;34m,\u001b[0m\u001b[0midx\u001b[0m\u001b[0;34m)\u001b[0m\u001b[0;34m\u001b[0m\u001b[0;34m\u001b[0m\u001b[0m\n\u001b[0m\u001b[1;32m    873\u001b[0m                     \u001b[0mtraverse\u001b[0m\u001b[0;34m(\u001b[0m\u001b[0mnode1\u001b[0m\u001b[0;34m.\u001b[0m\u001b[0mgreater\u001b[0m\u001b[0;34m,\u001b[0m\u001b[0mgreater1\u001b[0m\u001b[0;34m,\u001b[0m\u001b[0mnode2\u001b[0m\u001b[0;34m.\u001b[0m\u001b[0mgreater\u001b[0m\u001b[0;34m,\u001b[0m\u001b[0mgreater2\u001b[0m\u001b[0;34m,\u001b[0m\u001b[0midx\u001b[0m\u001b[0;34m)\u001b[0m\u001b[0;34m\u001b[0m\u001b[0;34m\u001b[0m\u001b[0m\n\u001b[1;32m    874\u001b[0m \u001b[0;34m\u001b[0m\u001b[0m\n",
      "\u001b[0;32m~/.local/lib/python3.6/site-packages/scipy/spatial/kdtree.py\u001b[0m in \u001b[0;36mtraverse\u001b[0;34m(node1, rect1, node2, rect2, idx)\u001b[0m\n\u001b[1;32m    841\u001b[0m         \"\"\"\n\u001b[1;32m    842\u001b[0m         \u001b[0;32mdef\u001b[0m \u001b[0mtraverse\u001b[0m\u001b[0;34m(\u001b[0m\u001b[0mnode1\u001b[0m\u001b[0;34m,\u001b[0m \u001b[0mrect1\u001b[0m\u001b[0;34m,\u001b[0m \u001b[0mnode2\u001b[0m\u001b[0;34m,\u001b[0m \u001b[0mrect2\u001b[0m\u001b[0;34m,\u001b[0m \u001b[0midx\u001b[0m\u001b[0;34m)\u001b[0m\u001b[0;34m:\u001b[0m\u001b[0;34m\u001b[0m\u001b[0;34m\u001b[0m\u001b[0m\n\u001b[0;32m--> 843\u001b[0;31m             \u001b[0mmin_r\u001b[0m \u001b[0;34m=\u001b[0m \u001b[0mrect1\u001b[0m\u001b[0;34m.\u001b[0m\u001b[0mmin_distance_rectangle\u001b[0m\u001b[0;34m(\u001b[0m\u001b[0mrect2\u001b[0m\u001b[0;34m,\u001b[0m\u001b[0mp\u001b[0m\u001b[0;34m)\u001b[0m\u001b[0;34m\u001b[0m\u001b[0;34m\u001b[0m\u001b[0m\n\u001b[0m\u001b[1;32m    844\u001b[0m             \u001b[0mmax_r\u001b[0m \u001b[0;34m=\u001b[0m \u001b[0mrect1\u001b[0m\u001b[0;34m.\u001b[0m\u001b[0mmax_distance_rectangle\u001b[0m\u001b[0;34m(\u001b[0m\u001b[0mrect2\u001b[0m\u001b[0;34m,\u001b[0m\u001b[0mp\u001b[0m\u001b[0;34m)\u001b[0m\u001b[0;34m\u001b[0m\u001b[0;34m\u001b[0m\u001b[0m\n\u001b[1;32m    845\u001b[0m             \u001b[0mc_greater\u001b[0m \u001b[0;34m=\u001b[0m \u001b[0mr\u001b[0m\u001b[0;34m[\u001b[0m\u001b[0midx\u001b[0m\u001b[0;34m]\u001b[0m \u001b[0;34m>\u001b[0m \u001b[0mmax_r\u001b[0m\u001b[0;34m\u001b[0m\u001b[0;34m\u001b[0m\u001b[0m\n",
      "\u001b[0;32m~/.local/lib/python3.6/site-packages/scipy/spatial/kdtree.py\u001b[0m in \u001b[0;36mmin_distance_rectangle\u001b[0;34m(self, other, p)\u001b[0m\n\u001b[1;32m    166\u001b[0m \u001b[0;34m\u001b[0m\u001b[0m\n\u001b[1;32m    167\u001b[0m         \"\"\"\n\u001b[0;32m--> 168\u001b[0;31m         \u001b[0;32mreturn\u001b[0m \u001b[0mminkowski_distance\u001b[0m\u001b[0;34m(\u001b[0m\u001b[0;36m0\u001b[0m\u001b[0;34m,\u001b[0m \u001b[0mnp\u001b[0m\u001b[0;34m.\u001b[0m\u001b[0mmaximum\u001b[0m\u001b[0;34m(\u001b[0m\u001b[0;36m0\u001b[0m\u001b[0;34m,\u001b[0m\u001b[0mnp\u001b[0m\u001b[0;34m.\u001b[0m\u001b[0mmaximum\u001b[0m\u001b[0;34m(\u001b[0m\u001b[0mself\u001b[0m\u001b[0;34m.\u001b[0m\u001b[0mmins\u001b[0m\u001b[0;34m-\u001b[0m\u001b[0mother\u001b[0m\u001b[0;34m.\u001b[0m\u001b[0mmaxes\u001b[0m\u001b[0;34m,\u001b[0m\u001b[0mother\u001b[0m\u001b[0;34m.\u001b[0m\u001b[0mmins\u001b[0m\u001b[0;34m-\u001b[0m\u001b[0mself\u001b[0m\u001b[0;34m.\u001b[0m\u001b[0mmaxes\u001b[0m\u001b[0;34m)\u001b[0m\u001b[0;34m)\u001b[0m\u001b[0;34m,\u001b[0m\u001b[0mp\u001b[0m\u001b[0;34m)\u001b[0m\u001b[0;34m\u001b[0m\u001b[0;34m\u001b[0m\u001b[0m\n\u001b[0m\u001b[1;32m    169\u001b[0m \u001b[0;34m\u001b[0m\u001b[0m\n\u001b[1;32m    170\u001b[0m     \u001b[0;32mdef\u001b[0m \u001b[0mmax_distance_rectangle\u001b[0m\u001b[0;34m(\u001b[0m\u001b[0mself\u001b[0m\u001b[0;34m,\u001b[0m \u001b[0mother\u001b[0m\u001b[0;34m,\u001b[0m \u001b[0mp\u001b[0m\u001b[0;34m=\u001b[0m\u001b[0;36m2.\u001b[0m\u001b[0;34m)\u001b[0m\u001b[0;34m:\u001b[0m\u001b[0;34m\u001b[0m\u001b[0;34m\u001b[0m\u001b[0m\n",
      "\u001b[0;32m~/.local/lib/python3.6/site-packages/scipy/spatial/kdtree.py\u001b[0m in \u001b[0;36mminkowski_distance\u001b[0;34m(x, y, p)\u001b[0m\n\u001b[1;32m     81\u001b[0m         \u001b[0;32mreturn\u001b[0m \u001b[0mminkowski_distance_p\u001b[0m\u001b[0;34m(\u001b[0m\u001b[0mx\u001b[0m\u001b[0;34m,\u001b[0m \u001b[0my\u001b[0m\u001b[0;34m,\u001b[0m \u001b[0mp\u001b[0m\u001b[0;34m)\u001b[0m\u001b[0;34m\u001b[0m\u001b[0;34m\u001b[0m\u001b[0m\n\u001b[1;32m     82\u001b[0m     \u001b[0;32melse\u001b[0m\u001b[0;34m:\u001b[0m\u001b[0;34m\u001b[0m\u001b[0;34m\u001b[0m\u001b[0m\n\u001b[0;32m---> 83\u001b[0;31m         \u001b[0;32mreturn\u001b[0m \u001b[0mminkowski_distance_p\u001b[0m\u001b[0;34m(\u001b[0m\u001b[0mx\u001b[0m\u001b[0;34m,\u001b[0m \u001b[0my\u001b[0m\u001b[0;34m,\u001b[0m \u001b[0mp\u001b[0m\u001b[0;34m)\u001b[0m\u001b[0;34m**\u001b[0m\u001b[0;34m(\u001b[0m\u001b[0;36m1.\u001b[0m\u001b[0;34m/\u001b[0m\u001b[0mp\u001b[0m\u001b[0;34m)\u001b[0m\u001b[0;34m\u001b[0m\u001b[0;34m\u001b[0m\u001b[0m\n\u001b[0m\u001b[1;32m     84\u001b[0m \u001b[0;34m\u001b[0m\u001b[0m\n\u001b[1;32m     85\u001b[0m \u001b[0;34m\u001b[0m\u001b[0m\n",
      "\u001b[0;32m~/.local/lib/python3.6/site-packages/scipy/spatial/kdtree.py\u001b[0m in \u001b[0;36mminkowski_distance_p\u001b[0;34m(x, y, p)\u001b[0m\n\u001b[1;32m     53\u001b[0m         \u001b[0;32mreturn\u001b[0m \u001b[0mnp\u001b[0m\u001b[0;34m.\u001b[0m\u001b[0msum\u001b[0m\u001b[0;34m(\u001b[0m\u001b[0mnp\u001b[0m\u001b[0;34m.\u001b[0m\u001b[0mabs\u001b[0m\u001b[0;34m(\u001b[0m\u001b[0my\u001b[0m\u001b[0;34m-\u001b[0m\u001b[0mx\u001b[0m\u001b[0;34m)\u001b[0m\u001b[0;34m,\u001b[0m \u001b[0maxis\u001b[0m\u001b[0;34m=\u001b[0m\u001b[0;34m-\u001b[0m\u001b[0;36m1\u001b[0m\u001b[0;34m)\u001b[0m\u001b[0;34m\u001b[0m\u001b[0;34m\u001b[0m\u001b[0m\n\u001b[1;32m     54\u001b[0m     \u001b[0;32melse\u001b[0m\u001b[0;34m:\u001b[0m\u001b[0;34m\u001b[0m\u001b[0;34m\u001b[0m\u001b[0m\n\u001b[0;32m---> 55\u001b[0;31m         \u001b[0;32mreturn\u001b[0m \u001b[0mnp\u001b[0m\u001b[0;34m.\u001b[0m\u001b[0msum\u001b[0m\u001b[0;34m(\u001b[0m\u001b[0mnp\u001b[0m\u001b[0;34m.\u001b[0m\u001b[0mabs\u001b[0m\u001b[0;34m(\u001b[0m\u001b[0my\u001b[0m\u001b[0;34m-\u001b[0m\u001b[0mx\u001b[0m\u001b[0;34m)\u001b[0m\u001b[0;34m**\u001b[0m\u001b[0mp\u001b[0m\u001b[0;34m,\u001b[0m \u001b[0maxis\u001b[0m\u001b[0;34m=\u001b[0m\u001b[0;34m-\u001b[0m\u001b[0;36m1\u001b[0m\u001b[0;34m)\u001b[0m\u001b[0;34m\u001b[0m\u001b[0;34m\u001b[0m\u001b[0m\n\u001b[0m\u001b[1;32m     56\u001b[0m \u001b[0;34m\u001b[0m\u001b[0m\n\u001b[1;32m     57\u001b[0m \u001b[0;34m\u001b[0m\u001b[0m\n",
      "\u001b[0;32m<__array_function__ internals>\u001b[0m in \u001b[0;36msum\u001b[0;34m(*args, **kwargs)\u001b[0m\n",
      "\u001b[0;32m~/.local/lib/python3.6/site-packages/numpy/core/fromnumeric.py\u001b[0m in \u001b[0;36msum\u001b[0;34m(a, axis, dtype, out, keepdims, initial, where)\u001b[0m\n\u001b[1;32m   2227\u001b[0m \u001b[0;34m\u001b[0m\u001b[0m\n\u001b[1;32m   2228\u001b[0m     return _wrapreduction(a, np.add, 'sum', axis, dtype, out, keepdims=keepdims,\n\u001b[0;32m-> 2229\u001b[0;31m                           initial=initial, where=where)\n\u001b[0m\u001b[1;32m   2230\u001b[0m \u001b[0;34m\u001b[0m\u001b[0m\n\u001b[1;32m   2231\u001b[0m \u001b[0;34m\u001b[0m\u001b[0m\n",
      "\u001b[0;32m~/.local/lib/python3.6/site-packages/numpy/core/fromnumeric.py\u001b[0m in \u001b[0;36m_wrapreduction\u001b[0;34m(obj, ufunc, method, axis, dtype, out, **kwargs)\u001b[0m\n\u001b[1;32m     88\u001b[0m                 \u001b[0;32mreturn\u001b[0m \u001b[0mreduction\u001b[0m\u001b[0;34m(\u001b[0m\u001b[0maxis\u001b[0m\u001b[0;34m=\u001b[0m\u001b[0maxis\u001b[0m\u001b[0;34m,\u001b[0m \u001b[0mout\u001b[0m\u001b[0;34m=\u001b[0m\u001b[0mout\u001b[0m\u001b[0;34m,\u001b[0m \u001b[0;34m**\u001b[0m\u001b[0mpasskwargs\u001b[0m\u001b[0;34m)\u001b[0m\u001b[0;34m\u001b[0m\u001b[0;34m\u001b[0m\u001b[0m\n\u001b[1;32m     89\u001b[0m \u001b[0;34m\u001b[0m\u001b[0m\n\u001b[0;32m---> 90\u001b[0;31m     \u001b[0;32mreturn\u001b[0m \u001b[0mufunc\u001b[0m\u001b[0;34m.\u001b[0m\u001b[0mreduce\u001b[0m\u001b[0;34m(\u001b[0m\u001b[0mobj\u001b[0m\u001b[0;34m,\u001b[0m \u001b[0maxis\u001b[0m\u001b[0;34m,\u001b[0m \u001b[0mdtype\u001b[0m\u001b[0;34m,\u001b[0m \u001b[0mout\u001b[0m\u001b[0;34m,\u001b[0m \u001b[0;34m**\u001b[0m\u001b[0mpasskwargs\u001b[0m\u001b[0;34m)\u001b[0m\u001b[0;34m\u001b[0m\u001b[0;34m\u001b[0m\u001b[0m\n\u001b[0m\u001b[1;32m     91\u001b[0m \u001b[0;34m\u001b[0m\u001b[0m\n\u001b[1;32m     92\u001b[0m \u001b[0;34m\u001b[0m\u001b[0m\n",
      "\u001b[0;31mKeyboardInterrupt\u001b[0m: "
     ]
    }
   ],
   "source": [
    "# read all the images\n",
    "source_dir = Path(\"/home/namit/codes/Entropy-Isomap/outputs/images_non_periodic/\")\n",
    "output_dir = Path(\"/home/namit/codes/Entropy-Isomap/outputs/graphs/\")\n",
    "\n",
    "for trajectory in tqdm(source_dir.iterdir()):\n",
    "    print(trajectory.name)\n",
    "    img_filenames = sorted([str(x) for x in trajectory.iterdir()])\n",
    "    imgs = io.imread_collection(img_filenames, conserve_memory=True)\n",
    "    graphs = create_rag(imgs, trajectory.name)\n",
    "    \n",
    "    pickle.dump(graphs, open(output_dir/(trajectory.name+'.file'), 'wb'))"
   ]
  },
  {
   "cell_type": "markdown",
   "metadata": {},
   "source": [
    "Generate video of all points combined and individual trajectories"
   ]
  },
  {
   "cell_type": "code",
   "execution_count": 53,
   "metadata": {},
   "outputs": [],
   "source": [
    "#generate_overalay_graph_video(\"../outputs/graph_overlay_combined_images/\", \n",
    "#                              \"../outputs/graph_overlay_combined_videos/\")\n",
    "\n",
    "# write the code for indivisual trajectories if it is needed"
   ]
  },
  {
   "cell_type": "markdown",
   "metadata": {},
   "source": [
    "Generate Networkx visualizations for each RAG\n",
    "\n",
    "(create a deepcopy of all the graphs first and remove their edges for plotting more understandable graphs)"
   ]
  },
  {
   "cell_type": "code",
   "execution_count": 27,
   "metadata": {},
   "outputs": [
    {
     "data": {
      "application/vnd.jupyter.widget-view+json": {
       "model_id": "57ee4903a340451ab2517a8f433a99ac",
       "version_major": 2,
       "version_minor": 0
      },
      "text/plain": [
       "HBox(children=(FloatProgress(value=1.0, bar_style='info', max=1.0), HTML(value='')))"
      ]
     },
     "metadata": {},
     "output_type": "display_data"
    },
    {
     "name": "stdout",
     "output_type": "stream",
     "text": [
      "BR0.54-CHI2.6-R2.file\n",
      "BR0.50-CHI2.4-R3.file\n",
      "BR0.54-CHI3.0-R5.file\n",
      "BR0.52-CHI2.4-R2.file\n",
      "BR0.54-CHI2.4-R4.file\n",
      "BR0.56-CHI2.4-R4.file\n",
      "BR0.50-CHI2.8-R2.file\n",
      "BR0.56-CHI3.0-R1.file\n",
      "BR0.56-CHI3.0-R4.file\n",
      "BR0.56-CHI2.8-R4.file\n",
      "> creating deep copy\n",
      "> Done\n",
      "\n",
      "> removing edge weights\n"
     ]
    },
    {
     "data": {
      "application/vnd.jupyter.widget-view+json": {
       "model_id": "836977edf244494883e7bd3c9fcc6112",
       "version_major": 2,
       "version_minor": 0
      },
      "text/plain": [
       "HBox(children=(FloatProgress(value=0.0, max=80.0), HTML(value='')))"
      ]
     },
     "metadata": {},
     "output_type": "display_data"
    },
    {
     "name": "stdout",
     "output_type": "stream",
     "text": [
      "\n",
      "> generating graph visualization images\n"
     ]
    },
    {
     "data": {
      "application/vnd.jupyter.widget-view+json": {
       "model_id": "446e8d6e157a41629a6887bd6f19ae92",
       "version_major": 2,
       "version_minor": 0
      },
      "text/plain": [
       "HBox(children=(FloatProgress(value=0.0, max=80.0), HTML(value='')))"
      ]
     },
     "metadata": {},
     "output_type": "display_data"
    },
    {
     "name": "stdout",
     "output_type": "stream",
     "text": [
      "0 - 2\n",
      "1 - 1\n",
      "2 - 2\n",
      "3 - 6\n",
      "4 - 4\n",
      "5 - 11\n",
      "6 - 10\n",
      "7 - 9\n",
      "8 - 9\n",
      "9 - 2\n",
      "10 - 2\n",
      "11 - 2\n",
      "12 - 2\n",
      "13 - 2\n",
      "14 - 2\n",
      "15 - 2\n",
      "16 - 2\n",
      "17 - 2\n",
      "18 - 2\n",
      "19 - 2\n",
      "20 - 2\n",
      "21 - 2\n",
      "22 - 2\n",
      "23 - 2\n",
      "24 - 2\n",
      "25 - 2\n",
      "26 - 2\n",
      "27 - 2\n",
      "28 - 2\n",
      "29 - 2\n",
      "30 - 2\n",
      "31 - 2\n",
      "32 - 2\n",
      "33 - 2\n",
      "34 - 2\n",
      "35 - 2\n",
      "36 - 2\n",
      "37 - 2\n",
      "38 - 2\n",
      "39 - 2\n",
      "40 - 2\n",
      "41 - 2\n",
      "42 - 2\n",
      "43 - 2\n",
      "44 - 2\n",
      "45 - 2\n",
      "46 - 2\n",
      "47 - 2\n",
      "48 - 2\n",
      "49 - 2\n",
      "50 - 2\n",
      "51 - 2\n",
      "52 - 2\n",
      "53 - 2\n",
      "54 - 2\n",
      "55 - 1\n",
      "56 - 1\n",
      "57 - 1\n",
      "58 - 1\n",
      "59 - 1\n",
      "60 - 1\n",
      "61 - 1\n",
      "62 - 1\n",
      "63 - 1\n",
      "64 - 1\n",
      "65 - 1\n",
      "66 - 1\n",
      "67 - 1\n",
      "68 - 1\n",
      "69 - 1\n",
      "70 - 1\n",
      "71 - 1\n",
      "72 - 1\n",
      "73 - 1\n",
      "74 - 1\n",
      "75 - 1\n",
      "76 - 1\n",
      "77 - 1\n",
      "78 - 1\n",
      "79 - 1\n",
      "\n",
      "BR0.52-CHI3.0-R3.file\n",
      "BR0.56-CHI2.6-R5.file\n",
      "BR0.56-CHI2.4-R1.file\n",
      "BR0.52-CHI2.6-R4.file\n",
      "BR0.50-CHI3.0-R3.file\n",
      "BR0.54-CHI2.6-R4.file\n",
      "BR0.54-CHI3.0-R3.file\n",
      "BR0.52-CHI2.4-R4.file\n",
      "BR0.50-CHI2.4-R5.file\n",
      "BR0.56-CHI2.6-R3.file\n",
      "BR0.50-CHI2.8-R3.file\n",
      "BR0.52-CHI2.8-R3.file\n",
      "BR0.56-CHI2.4-R5.file\n",
      "BR0.52-CHI2.4-R5.file\n",
      "BR0.56-CHI3.0-R2.file\n",
      "BR0.54-CHI3.0-R4.file\n",
      "BR0.54-CHI2.8-R5.file\n",
      "BR0.54-CHI2.6-R1.file\n",
      "BR0.56-CHI3.0-R5.file\n",
      "BR0.54-CHI2.4-R1.file\n",
      "BR0.50-CHI3.0-R4.file\n",
      "BR0.52-CHI2.6-R3.file\n",
      "BR0.56-CHI2.8-R2.file\n",
      "> creating deep copy\n",
      "> Done\n",
      "\n",
      "> removing edge weights\n"
     ]
    },
    {
     "data": {
      "application/vnd.jupyter.widget-view+json": {
       "model_id": "7224ac2d433f456d96c5a9b3bc688ac7",
       "version_major": 2,
       "version_minor": 0
      },
      "text/plain": [
       "HBox(children=(FloatProgress(value=0.0, max=80.0), HTML(value='')))"
      ]
     },
     "metadata": {},
     "output_type": "display_data"
    },
    {
     "name": "stdout",
     "output_type": "stream",
     "text": [
      "\n",
      "> generating graph visualization images\n"
     ]
    },
    {
     "data": {
      "application/vnd.jupyter.widget-view+json": {
       "model_id": "3ff4bc68b976423b982b7aeb92ed4716",
       "version_major": 2,
       "version_minor": 0
      },
      "text/plain": [
       "HBox(children=(FloatProgress(value=0.0, max=80.0), HTML(value='')))"
      ]
     },
     "metadata": {},
     "output_type": "display_data"
    },
    {
     "name": "stdout",
     "output_type": "stream",
     "text": [
      "0 - 1\n",
      "1 - 1\n",
      "2 - 2\n",
      "3 - 2\n",
      "4 - 8\n",
      "5 - 1\n",
      "6 - 1\n",
      "7 - 1\n",
      "8 - 1\n",
      "9 - 1\n",
      "10 - 1\n",
      "11 - 1\n",
      "12 - 1\n",
      "13 - 1\n",
      "14 - 1\n",
      "15 - 1\n",
      "16 - 1\n",
      "17 - 1\n",
      "18 - 1\n",
      "19 - 1\n",
      "20 - 3\n",
      "21 - 3\n",
      "22 - 3\n",
      "23 - 3\n",
      "24 - 3\n",
      "25 - 3\n",
      "26 - 3\n",
      "27 - 3\n",
      "28 - 3\n",
      "29 - 3\n",
      "30 - 3\n",
      "31 - 2\n",
      "32 - 2\n",
      "33 - 2\n",
      "34 - 2\n",
      "35 - 2\n",
      "36 - 2\n",
      "37 - 2\n",
      "38 - 2\n",
      "39 - 2\n",
      "40 - 2\n",
      "41 - 2\n",
      "42 - 2\n",
      "43 - 2\n",
      "44 - 2\n",
      "45 - 2\n",
      "46 - 2\n",
      "47 - 2\n",
      "48 - 2\n",
      "49 - 2\n",
      "50 - 2\n",
      "51 - 2\n",
      "52 - 2\n",
      "53 - 2\n",
      "54 - 2\n",
      "55 - 2\n",
      "56 - 2\n",
      "57 - 2\n",
      "58 - 2\n",
      "59 - 2\n",
      "60 - 2\n",
      "61 - 2\n",
      "62 - 2\n",
      "63 - 2\n",
      "64 - 2\n",
      "65 - 2\n",
      "66 - 2\n",
      "67 - 2\n",
      "68 - 2\n",
      "69 - 2\n",
      "70 - 2\n",
      "71 - 2\n",
      "72 - 2\n",
      "73 - 2\n",
      "74 - 2\n",
      "75 - 2\n",
      "76 - 2\n",
      "77 - 2\n",
      "78 - 2\n",
      "79 - 1\n",
      "\n",
      "BR0.54-CHI2.4-R2.file\n",
      "BR0.52-CHI2.4-R3.file\n",
      "BR0.54-CHI3.0-R1.file\n",
      "BR0.50-CHI2.4-R4.file\n",
      "BR0.50-CHI2.6-R5.file\n",
      "BR0.56-CHI2.8-R3.file\n",
      "> creating deep copy\n",
      "> Done\n",
      "\n",
      "> removing edge weights\n"
     ]
    },
    {
     "data": {
      "application/vnd.jupyter.widget-view+json": {
       "model_id": "76481738421043aa92f319cf426a5609",
       "version_major": 2,
       "version_minor": 0
      },
      "text/plain": [
       "HBox(children=(FloatProgress(value=0.0, max=80.0), HTML(value='')))"
      ]
     },
     "metadata": {},
     "output_type": "display_data"
    },
    {
     "name": "stdout",
     "output_type": "stream",
     "text": [
      "\n",
      "> generating graph visualization images\n"
     ]
    },
    {
     "data": {
      "application/vnd.jupyter.widget-view+json": {
       "model_id": "c5364828b5714166b78adbbd95e841d2",
       "version_major": 2,
       "version_minor": 0
      },
      "text/plain": [
       "HBox(children=(FloatProgress(value=0.0, max=80.0), HTML(value='')))"
      ]
     },
     "metadata": {},
     "output_type": "display_data"
    },
    {
     "name": "stdout",
     "output_type": "stream",
     "text": [
      "0 - 1\n",
      "1 - 5\n",
      "2 - 2\n",
      "3 - 4\n",
      "4 - 15\n",
      "5 - 2\n",
      "6 - 2\n",
      "7 - 2\n",
      "8 - 14\n",
      "9 - 7\n",
      "10 - 7\n",
      "11 - 2\n",
      "12 - 1\n",
      "13 - 1\n",
      "14 - 1\n",
      "15 - 1\n",
      "16 - 1\n",
      "17 - 1\n",
      "18 - 1\n",
      "19 - 1\n",
      "20 - 1\n",
      "21 - 1\n",
      "22 - 1\n",
      "23 - 1\n",
      "24 - 1\n",
      "25 - 1\n",
      "26 - 1\n",
      "27 - 1\n",
      "28 - 1\n",
      "29 - 1\n",
      "30 - 1\n",
      "31 - 1\n",
      "32 - 1\n",
      "33 - 1\n",
      "34 - 1\n",
      "35 - 1\n",
      "36 - 1\n",
      "37 - 1\n",
      "38 - 1\n",
      "39 - 1\n",
      "40 - 1\n",
      "41 - 1\n",
      "42 - 1\n",
      "43 - 1\n",
      "44 - 8\n",
      "45 - 8\n",
      "46 - 8\n",
      "47 - 8\n",
      "48 - 1\n",
      "49 - 1\n",
      "50 - 2\n",
      "51 - 8\n",
      "52 - 8\n",
      "53 - 8\n",
      "54 - 8\n",
      "55 - 2\n",
      "56 - 2\n",
      "57 - 2\n",
      "58 - 2\n",
      "59 - 2\n",
      "60 - 2\n",
      "61 - 2\n",
      "62 - 2\n",
      "63 - 2\n",
      "64 - 2\n",
      "65 - 2\n",
      "66 - 2\n",
      "67 - 2\n",
      "68 - 2\n",
      "69 - 2\n",
      "70 - 2\n",
      "71 - 7\n",
      "72 - 2\n",
      "73 - 8\n",
      "74 - 8\n",
      "75 - 8\n",
      "76 - 8\n",
      "77 - 8\n",
      "78 - 8\n",
      "79 - 8\n",
      "\n",
      "BR0.54-CHI3.0-R2.file\n",
      "BR0.56-CHI2.8-R5.file\n",
      "> creating deep copy\n",
      "> Done\n",
      "\n",
      "> removing edge weights\n"
     ]
    },
    {
     "data": {
      "application/vnd.jupyter.widget-view+json": {
       "model_id": "5aa570bf1fbe498eb89d7ee96b0bbc1c",
       "version_major": 2,
       "version_minor": 0
      },
      "text/plain": [
       "HBox(children=(FloatProgress(value=0.0, max=80.0), HTML(value='')))"
      ]
     },
     "metadata": {},
     "output_type": "display_data"
    },
    {
     "name": "stdout",
     "output_type": "stream",
     "text": [
      "\n",
      "> generating graph visualization images\n"
     ]
    },
    {
     "data": {
      "application/vnd.jupyter.widget-view+json": {
       "model_id": "e6eeec034b4d46aaadd0bd0e338b765b",
       "version_major": 2,
       "version_minor": 0
      },
      "text/plain": [
       "HBox(children=(FloatProgress(value=0.0, max=80.0), HTML(value='')))"
      ]
     },
     "metadata": {},
     "output_type": "display_data"
    },
    {
     "name": "stdout",
     "output_type": "stream",
     "text": [
      "0 - 2\n",
      "1 - 4\n",
      "2 - 7\n",
      "3 - 1\n",
      "4 - 1\n",
      "5 - 1\n",
      "6 - 1\n",
      "7 - 1\n",
      "8 - 1\n",
      "9 - 1\n",
      "10 - 1\n",
      "11 - 1\n",
      "12 - 1\n",
      "13 - 1\n",
      "14 - 1\n",
      "15 - 1\n",
      "16 - 1\n",
      "17 - 1\n",
      "18 - 1\n",
      "19 - 1\n",
      "20 - 1\n",
      "21 - 1\n",
      "22 - 1\n",
      "23 - 1\n",
      "24 - 1\n",
      "25 - 1\n",
      "26 - 1\n",
      "27 - 1\n",
      "28 - 1\n",
      "29 - 1\n",
      "30 - 1\n",
      "31 - 1\n",
      "32 - 1\n",
      "33 - 1\n",
      "34 - 1\n",
      "35 - 1\n",
      "36 - 1\n",
      "37 - 1\n",
      "38 - 1\n",
      "39 - 1\n",
      "40 - 1\n",
      "41 - 1\n",
      "42 - 1\n",
      "43 - 1\n",
      "44 - 1\n",
      "45 - 1\n",
      "46 - 1\n",
      "47 - 1\n",
      "48 - 1\n",
      "49 - 1\n",
      "50 - 1\n",
      "51 - 1\n",
      "52 - 1\n",
      "53 - 1\n",
      "54 - 1\n",
      "55 - 1\n",
      "56 - 1\n",
      "57 - 1\n",
      "58 - 1\n",
      "59 - 1\n",
      "60 - 1\n",
      "61 - 1\n",
      "62 - 1\n",
      "63 - 1\n",
      "64 - 1\n",
      "65 - 1\n",
      "66 - 1\n",
      "67 - 1\n",
      "68 - 1\n",
      "69 - 1\n",
      "70 - 1\n",
      "71 - 1\n",
      "72 - 1\n",
      "73 - 1\n",
      "74 - 1\n",
      "75 - 1\n",
      "76 - 1\n",
      "77 - 1\n",
      "78 - 1\n",
      "79 - 1\n",
      "\n",
      "BR0.52-CHI2.8-R2.file\n",
      "BR0.54-CHI2.8-R3.file\n",
      "BR0.52-CHI2.8-R5.file\n",
      "BR0.52-CHI2.8-R1.file\n",
      "BR0.50-CHI3.0-R5.file\n",
      "BR0.50-CHI2.8-R4.file\n",
      "BR0.52-CHI3.0-R2.file\n",
      "BR0.56-CHI3.0-R3.file\n",
      "BR0.54-CHI2.4-R3.file\n",
      "BR0.56-CHI2.6-R4.file\n",
      "BR0.50-CHI2.6-R4.file\n",
      "BR0.52-CHI2.6-R2.file\n",
      "BR0.56-CHI2.6-R2.file\n",
      "BR0.54-CHI2.8-R1.file\n",
      "BR0.52-CHI2.6-R5.file\n",
      "BR0.54-CHI2.6-R3.file\n",
      "BR0.50-CHI2.6-R2.file\n",
      "BR0.50-CHI2.6-R3.file\n",
      "BR0.52-CHI3.0-R5.file\n",
      "BR0.50-CHI2.6-R1.file\n",
      "BR0.54-CHI2.8-R2.file\n",
      "BR0.54-CHI2.6-R5.file\n",
      "BR0.56-CHI2.8-R1.file\n",
      "> creating deep copy\n",
      "> Done\n",
      "\n",
      "> removing edge weights\n"
     ]
    },
    {
     "data": {
      "application/vnd.jupyter.widget-view+json": {
       "model_id": "7bd18b396c364c91946351b81ada5ac3",
       "version_major": 2,
       "version_minor": 0
      },
      "text/plain": [
       "HBox(children=(FloatProgress(value=0.0, max=80.0), HTML(value='')))"
      ]
     },
     "metadata": {},
     "output_type": "display_data"
    },
    {
     "name": "stdout",
     "output_type": "stream",
     "text": [
      "\n",
      "> generating graph visualization images\n"
     ]
    },
    {
     "data": {
      "application/vnd.jupyter.widget-view+json": {
       "model_id": "dd67f468df2543db9e4549e79c3f9b34",
       "version_major": 2,
       "version_minor": 0
      },
      "text/plain": [
       "HBox(children=(FloatProgress(value=0.0, max=80.0), HTML(value='')))"
      ]
     },
     "metadata": {},
     "output_type": "display_data"
    },
    {
     "name": "stdout",
     "output_type": "stream",
     "text": [
      "0 - 3\n",
      "1 - 11\n",
      "2 - 2\n",
      "3 - 3\n",
      "4 - 11\n",
      "5 - 10\n",
      "6 - 9\n",
      "7 - 3\n",
      "8 - 1\n",
      "9 - 1\n",
      "10 - 1\n",
      "11 - 1\n",
      "12 - 1\n",
      "13 - 1\n",
      "14 - 1\n",
      "15 - 1\n",
      "16 - 1\n",
      "17 - 1\n",
      "18 - 1\n",
      "19 - 1\n",
      "20 - 1\n",
      "21 - 1\n",
      "22 - 1\n",
      "23 - 1\n",
      "24 - 1\n",
      "25 - 1\n",
      "26 - 1\n",
      "27 - 1\n",
      "28 - 1\n",
      "29 - 1\n",
      "30 - 1\n",
      "31 - 1\n",
      "32 - 1\n",
      "33 - 1\n",
      "34 - 1\n",
      "35 - 1\n",
      "36 - 1\n",
      "37 - 1\n",
      "38 - 1\n",
      "39 - 1\n",
      "40 - 1\n",
      "41 - 1\n",
      "42 - 1\n",
      "43 - 1\n",
      "44 - 1\n",
      "45 - 3\n",
      "46 - 1\n",
      "47 - 1\n",
      "48 - 1\n",
      "49 - 1\n",
      "50 - 1\n",
      "51 - 1\n",
      "52 - 1\n",
      "53 - 1\n",
      "54 - 1\n",
      "55 - 1\n",
      "56 - 1\n",
      "57 - 1\n",
      "58 - 2\n",
      "59 - 2\n",
      "60 - 2\n",
      "61 - 2\n",
      "62 - 2\n",
      "63 - 2\n",
      "64 - 2\n",
      "65 - 2\n",
      "66 - 2\n",
      "67 - 2\n",
      "68 - 2\n",
      "69 - 2\n",
      "70 - 2\n",
      "71 - 2\n",
      "72 - 2\n",
      "73 - 2\n",
      "74 - 2\n",
      "75 - 2\n",
      "76 - 2\n",
      "77 - 2\n",
      "78 - 2\n",
      "79 - 2\n",
      "\n",
      "BR0.52-CHI2.4-R1.file\n",
      "BR0.56-CHI2.4-R3.file\n",
      "BR0.52-CHI3.0-R1.file\n",
      "BR0.56-CHI2.4-R2.file\n",
      "BR0.50-CHI2.8-R5.file\n",
      "BR0.52-CHI2.6-R1.file\n",
      "BR0.54-CHI2.8-R4.file\n",
      "BR0.52-CHI2.8-R4.file\n",
      "BR0.50-CHI2.8-R1.file\n",
      "BR0.56-CHI2.6-R1.file\n",
      "BR0.50-CHI3.0-R1.file\n",
      "BR0.50-CHI3.0-R2.file\n",
      "BR0.50-CHI2.4-R1.file\n",
      "BR0.54-CHI2.4-R5.file\n",
      "BR0.52-CHI3.0-R4.file\n",
      "BR0.50-CHI2.4-R2.file\n",
      "\n"
     ]
    }
   ],
   "source": [
    "for trajectory in tqdm(output_dir.iterdir()):\n",
    "    print(trajectory.name)\n",
    "    if trajectory.name[:13] == 'BR0.56-CHI2.8':\n",
    "        graphs = pickle.load(open(trajectory, 'rb'))[:80]\n",
    "        # create a deep copy\n",
    "        print(\"> creating deep copy\")\n",
    "        graphs_without_edge_weights = copy.deepcopy(graphs)\n",
    "        print(\"> Done\\n\")\n",
    "\n",
    "        print(\"> removing edge weights\")\n",
    "        # remove all the edge weights of the copy\n",
    "        for graph in tqdm(graphs_without_edge_weights):\n",
    "            for edge in graph.edges:\n",
    "                node1, node2 = edge\n",
    "                del graph[node1][node2]['weight']\n",
    "\n",
    "\n",
    "        print(\"> generating graph visualization images\")\n",
    "        generate_graph_visualization_images(graphs_without_edge_weights, trajectory.name)"
   ]
  },
  {
   "cell_type": "markdown",
   "metadata": {},
   "source": [
    "---"
   ]
  },
  {
   "cell_type": "code",
   "execution_count": 4,
   "metadata": {},
   "outputs": [],
   "source": [
    "graphs = pickle.load(open(\"../outputs/pickle/graphs.file\", 'rb'))"
   ]
  }
 ],
 "metadata": {
  "kernelspec": {
   "display_name": "Python 3",
   "language": "python",
   "name": "python3"
  },
  "language_info": {
   "codemirror_mode": {
    "name": "ipython",
    "version": 3
   },
   "file_extension": ".py",
   "mimetype": "text/x-python",
   "name": "python",
   "nbconvert_exporter": "python",
   "pygments_lexer": "ipython3",
   "version": "3.6.9"
  }
 },
 "nbformat": 4,
 "nbformat_minor": 4
}
