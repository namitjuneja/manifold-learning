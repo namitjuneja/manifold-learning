{
 "cells": [
  {
   "cell_type": "markdown",
   "metadata": {},
   "source": [
    "# Converting Images into a Region Adjacency Graph\n",
    "---"
   ]
  },
  {
   "cell_type": "markdown",
   "metadata": {},
   "source": [
    "## Dependencies\n",
    "1. **skimage**\n",
    "  - for creating labelled components from the image (skimage.measure)\n",
    "  - for finding centroid of each label (skimage.measure)\n",
    "  - converting the labelled image into a RAG (skimage.future.graph)\n",
    "  \n",
    "2. **numpy**\n",
    "  - image array manipulation operations\n",
    "  \n",
    "3. **pickle**\n",
    "  - dumping the graphs in a file\n",
    "  \n",
    "4. **tqdm**\n",
    "  - for progress bars\n",
    "\n",
    "5. **cv2**\n",
    "  - create video files\n",
    "\n",
    "6. **networkx**\n",
    "  - for visualizing the graphs\n",
    "7. **os**\n",
    "  - saving images and videos\n",
    "8. **scipy**\n",
    "  - for developing kdtree to find lenght of shared boundary\n",
    "9. **copy**\n",
    "  - create a deep copy of the graphs and remove their edge \n",
    "  - weights for more visual plotting\n",
    "10. **pathlib**\n",
    "  - listing all the images and trajectories\n",
    "  "
   ]
  },
  {
   "cell_type": "code",
   "execution_count": 11,
   "metadata": {},
   "outputs": [
    {
     "name": "stdout",
     "output_type": "stream",
     "text": [
      "The autoreload extension is already loaded. To reload it, use:\n",
      "  %reload_ext autoreload\n"
     ]
    }
   ],
   "source": [
    "from skimage import measure, io, draw\n",
    "from skimage.color import rgb2gray\n",
    "from skimage.future import graph\n",
    "import numpy as np\n",
    "import pickle\n",
    "from tqdm.notebook import tqdm\n",
    "import cv2\n",
    "import networkx as nx\n",
    "import os\n",
    "from scipy.spatial import KDTree\n",
    "import copy\n",
    "from pathlib import Path\n",
    "from helper import *\n",
    "%load_ext autoreload\n",
    "%aimport helper\n",
    "%autoreload 1"
   ]
  },
  {
   "cell_type": "markdown",
   "metadata": {},
   "source": [
    "### Dev Dependencies"
   ]
  },
  {
   "cell_type": "code",
   "execution_count": 12,
   "metadata": {},
   "outputs": [
    {
     "data": {
      "text/plain": [
       "<Figure size 432x288 with 0 Axes>"
      ]
     },
     "metadata": {},
     "output_type": "display_data"
    }
   ],
   "source": [
    "# %matplotlib notebook\n",
    "from matplotlib import pyplot as plt\n",
    "\n",
    "plt.set_cmap('gray')\n",
    "import networkx\n",
    "from IPython.core.debugger import set_trace"
   ]
  },
  {
   "cell_type": "markdown",
   "metadata": {},
   "source": [
    "---"
   ]
  },
  {
   "cell_type": "markdown",
   "metadata": {},
   "source": [
    "## Utility Functions"
   ]
  },
  {
   "cell_type": "markdown",
   "metadata": {},
   "source": [
    "#### Draw RAG edges and nodes over the image"
   ]
  },
  {
   "cell_type": "code",
   "execution_count": 13,
   "metadata": {},
   "outputs": [],
   "source": [
    "def draw_edges(img, rag):\n",
    "    edge_img = img.copy() # to avoid modifying the original image\n",
    "    for edge in rag.edges:\n",
    "        # get the node pair for the edge\n",
    "        node_1, node_2 = edge\n",
    "        \n",
    "        # get the cordinated of the centroid of the node\n",
    "        x1, y1 = map(int, rag.nodes[node_1]['centroid'])\n",
    "        x2, y2 = map(int, rag.nodes[node_2]['centroid'])\n",
    "        \n",
    "        # draw the line joining the centroid of the 2 nodes\n",
    "        line_x, line_y = draw.line(x1,y1,x2,y2)\n",
    "        edge_img[line_x, line_y] = 127\n",
    " \n",
    "    return edge_img"
   ]
  },
  {
   "cell_type": "code",
   "execution_count": 14,
   "metadata": {},
   "outputs": [],
   "source": [
    "def draw_nodes(img, rag):\n",
    "    node_img = img.copy() # to avoid modifying the original image\n",
    "    for node in rag.nodes(data=True):\n",
    "        \n",
    "        # get the coordinates of the centroid of the node\n",
    "        node_x, node_y = node[1]['centroid']\n",
    "        \n",
    "        # draw the circle at the centroid of the node\n",
    "        circle_x, circle_y = draw.circle(node_x, node_y, 2)\n",
    "        node_img[circle_x-1, circle_y-1] = 127\n",
    " \n",
    "    return node_img"
   ]
  },
  {
   "cell_type": "markdown",
   "metadata": {},
   "source": [
    "#### Save graph overlay images\n",
    "Create output images containing the original image, labeled_image and graph overlayed over labeled image"
   ]
  },
  {
   "cell_type": "code",
   "execution_count": 15,
   "metadata": {},
   "outputs": [],
   "source": [
    "def generate_overalay_graph_images(img, label_img, graph_img, img_name, trajectory_name):\n",
    "    \"\"\"\n",
    "    Style 1 has 3 images stacked over each other. \n",
    "    The original image, the label image(where each blob has a different label) \n",
    "    and graph overlay image.\n",
    "    Args:\n",
    "        img: original grayscale image\n",
    "        label_img: labelled_image\n",
    "        graph_img: label_img with graph pverlay on it\n",
    "        img_name: name of tghe image\n",
    "        combined: store each trajectory images in a\n",
    "                  separate folder if False. Default=True.\n",
    "    Returns:\n",
    "        Boolean describing the success of the operation\n",
    "    \"\"\"\n",
    "    #combined_img = np.concatenate([img,label_img,graph_img], axis=0)\n",
    "    \n",
    "    fig = plt.figure(figsize=(10,5))\n",
    "    \n",
    "    # plot the original image\n",
    "    ax = fig.add_subplot(1, 3, 1)\n",
    "    ax.imshow(img, cmap=\"gray\")\n",
    "    ax.set_title(\"Original Image\")\n",
    "    \n",
    "    # Plot the labeled Image\n",
    "    ax = fig.add_subplot(1, 3, 2)\n",
    "    ax.imshow(label_img, cmap=\"nipy_spectral\")\n",
    "    ax.set_title(\"Labelled Image\")\n",
    "\n",
    "    # Plot the Graph Overlay Image\n",
    "    ax = fig.add_subplot(1, 3, 3)\n",
    "    ax.imshow(graph_img, cmap=\"nipy_spectral\")\n",
    "    ax.set_title(\"Graph Overlay Image\")\n",
    "    \n",
    "    title = f\"{trajectory_name} #{int(img_name)%80} ({img_name})\"\n",
    "    \n",
    "    fig.suptitle(title, fontsize=15, y=0.1)    \n",
    "    plt.tight_layout(rect=[0, 0.05, 1, 1])\n",
    "    \n",
    "    target_dir = Path(\"/home/namit/codes/Entropy-Isomap/outputs/square/graph_overlay/\")/trajectory_name\n",
    "    \n",
    "    # create if path does not exist\n",
    "    target_dir.mkdir(parents=True, exist_ok=True)\n",
    "    plt.savefig(target_dir/(img_name+\".png\"))\n",
    "    \n",
    "    plt.close()   \n"
   ]
  },
  {
   "cell_type": "markdown",
   "metadata": {},
   "source": [
    "#### Save graph videos\n",
    "Create a video of the saved images"
   ]
  },
  {
   "cell_type": "code",
   "execution_count": 16,
   "metadata": {},
   "outputs": [],
   "source": [
    "def generate_overalay_graph_video(source_dir, target_dir):\n",
    "    \"\"\"\n",
    "    Find all the images in a given \n",
    "    directory and create a video of them.\n",
    "    Args:\n",
    "        dir: path to the directory where all the images\n",
    "             are stored\n",
    "    \"\"\"\n",
    "    # read all the images from the source directory\n",
    "    source_dir += \"/*.jpg\" #asuming files are always written in jpg\n",
    "    imgs = io.imread_collection(source_dir, conserve_memory=True)\n",
    "    \n",
    "    # create a video writer in the target location\n",
    "    height, width, layers = imgs[0].shape\n",
    "    size = (width,height)\n",
    "    target_dir += \"/graph_overlay.avi\"\n",
    "    out = cv2.VideoWriter(target_dir,cv2.VideoWriter_fourcc(*'DIVX'), 15, size)\n",
    "    \n",
    "    # write the frames to the video writer \n",
    "    for img in imgs:\n",
    "        out.write(img)\n",
    "        out.write(img)\n",
    "    out.release()\n",
    "    "
   ]
  },
  {
   "cell_type": "markdown",
   "metadata": {},
   "source": [
    "#### Save networkx graph visualization images\n",
    "Graphs created using networkx's draw_networkx function"
   ]
  },
  {
   "cell_type": "code",
   "execution_count": 17,
   "metadata": {},
   "outputs": [],
   "source": [
    "def generate_graph_visualization_images(graphs, trajectory_name, combined=True):\n",
    "    \"\"\"\n",
    "    Save graph visualizations as images.\n",
    "    Args:\n",
    "        graphs: list of graphs to be visualized\n",
    "        combined: if False, directory name will\n",
    "                  be determined based on index number \n",
    "                  of the graph. Default=True.\n",
    "    \"\"\"\n",
    "    root_nodes = []\n",
    "    for graph_num,gg in enumerate(tqdm(graphs)):\n",
    "        \n",
    "        fig,axes = plt.subplots()\n",
    "        \n",
    "        # setting node size\n",
    "        node_size = [i[1]['area'] for i in gg.nodes(data=True)]\n",
    "        sum_node_size = sum(node_size)\n",
    "        node_size_normalized = [(i/sum_node_size)*5000 for i in node_size]\n",
    "        \n",
    "        # setting node color\n",
    "        node_color = []\n",
    "\n",
    "        for i in gg.nodes(data=True):\n",
    "            current_color = i[1]['color']\n",
    "            if current_color == 1:\n",
    "                # this is white\n",
    "                # set to light grey\n",
    "                node_color.append(np.array([0.7,0.7,0.7]))\n",
    "            elif current_color == 0:\n",
    "                # this is black\n",
    "                # set to dark grey\n",
    "                node_color.append(np.array([0.3,0.3,0.3]))\n",
    "            else:\n",
    "                # this should never happen\n",
    "                print(\"Unknown color of node.\")\n",
    "        \n",
    "        # setting node label\n",
    "        node_labels = {}\n",
    "        for index, size in enumerate(node_size):\n",
    "            node_labels[index+1] = f\"{size} ({index+1})\"\n",
    "            \n",
    "        # setting node edge colors\n",
    "        edgecolors = ['k']*len(node_color)\n",
    "        root_node = get_max_degree_node_color(gg)\n",
    "        print(f\"{graph_num} - {root_node}\")\n",
    "        try:\n",
    "            edgecolors[root_node-1] = 'y'\n",
    "        except:\n",
    "            nx.draw_kamada_kawai(graph)\n",
    "            return None\n",
    "        root_nodes.append(root_node)\n",
    "        \n",
    "        #set_trace()\n",
    "        \n",
    "        # create the graph and save it\n",
    "        aa = nx.draw_kamada_kawai(gg, \n",
    "                             node_size   = node_size_normalized, \n",
    "                             node_color  = node_color,\n",
    "                             edgecolors  = edgecolors,\n",
    "                             labels      = node_labels,\n",
    "                             with_labels = True,\n",
    "                             ax          = axes)\n",
    "        \n",
    "        target_dir = Path(\"/home/namit/codes/Entropy-Isomap/outputs/square/graph_visualization/\")/trajectory_name\n",
    "    \n",
    "        # create if path does not exist\n",
    "        target_dir.mkdir(parents=True, exist_ok=True)\n",
    "        \n",
    "        title = trajectory_name+f\" #{graph_num%80} ({graph_num})\"\n",
    "        plt.title(title, y=-0.1)\n",
    "        \n",
    "        plt.savefig(target_dir/(title+\".png\"))\n",
    "        \n",
    "        plt.cla()\n",
    "        plt.close()\n",
    "    return root_nodes\n",
    "    "
   ]
  },
  {
   "cell_type": "markdown",
   "metadata": {},
   "source": [
    "---"
   ]
  },
  {
   "cell_type": "markdown",
   "metadata": {},
   "source": [
    "## Generate Region Adjacency Graph (RAG)"
   ]
  },
  {
   "cell_type": "markdown",
   "metadata": {},
   "source": [
    "#### Steps\n",
    "1. Read the image, convert to grescale and thresh\n",
    "2. Assign labels to every black and white region(blob).\n",
    "3. Generate the Region Adjacency Graph(RAG).\n",
    "4. Add other attributes to the labels such as node area, color and centroid.\n",
    "5. Add weight of edges based on length of boundary shared between the 2 regions\n",
    "\n",
    "*Adaptive thresholding is not a good idea here because we need a constant threshold for all images as we will be calculating similarities in consecutive threshed images*"
   ]
  },
  {
   "cell_type": "code",
   "execution_count": 18,
   "metadata": {},
   "outputs": [],
   "source": [
    "def create_rag(imgs, trajectory_name, generate_overlay=False):\n",
    "    graphs = []\n",
    "    kdtree = {}\n",
    "    for index,img in enumerate(tqdm(imgs), start=0):\n",
    "\n",
    "        # convert to grayscale and threshold\n",
    "        gray_img = rgb2gray(img)\n",
    "        thresh_img = gray_img > 0.5\n",
    "\n",
    "        # generate disinct labels for every region\n",
    "        # background set to -1 so that black blobs \n",
    "        # do not neglected and are assigned a label\n",
    "        label_img = measure.label(thresh_img, background=-1)\n",
    "\n",
    "        # generate the Region Adjacency Graph\n",
    "        rag = graph.RAG(label_img)\n",
    "\n",
    "        # RAG doesn't add a node if there is only \n",
    "        # one label in label_image\n",
    "        if len(np.unique(label_img)) == 1:\n",
    "            rag.add_node(1)\n",
    "\n",
    "        # add centroid, area and color attributes \n",
    "        # to each node using regionprops\n",
    "        regions = measure.regionprops(label_img, thresh_img)\n",
    "        for region in regions:\n",
    "            rag.nodes[region['label']] ['area'] = region['area']\n",
    "            rag.nodes[region['label']] ['color'] = region['mean_intensity']\n",
    "            rag.nodes[region['label']] ['centroid'] = region['centroid']\n",
    "            rag.nodes[region['label']] ['perimeter'] = region['perimeter']\n",
    "            # will be used to count the number pixels shared on the boundary of 2 regions\n",
    "            kdtree[region['label']] = KDTree(region.coords)\n",
    "\n",
    "        # add weight of edges\n",
    "        # weight = number of neghbouring pixels \n",
    "        # of the two regions/nodes\n",
    "        for edge in rag.edges:\n",
    "            node1, node2 = edge\n",
    "            rag[node1][node2]['weight'] = kdtree[node1].count_neighbors(kdtree[node2], 1)\n",
    "\n",
    "\n",
    "        if generate_overlay:\n",
    "            graph_img = draw_edges(draw_nodes(label_img, rag), rag)\n",
    "            generate_overalay_graph_images(img, label_img, graph_img, str(index), trajectory_name)\n",
    "\n",
    "        graphs.append(rag)\n",
    "    return graphs"
   ]
  },
  {
   "cell_type": "code",
   "execution_count": 19,
   "metadata": {},
   "outputs": [
    {
     "data": {
      "application/vnd.jupyter.widget-view+json": {
       "model_id": "806a9ec3947a4be69c103d8ef1fd70e4",
       "version_major": 2,
       "version_minor": 0
      },
      "text/plain": [
       "HBox(children=(FloatProgress(value=1.0, bar_style='info', max=1.0), HTML(value='')))"
      ]
     },
     "metadata": {},
     "output_type": "display_data"
    },
    {
     "name": "stdout",
     "output_type": "stream",
     "text": [
      "BR0.54-CHI2.4-R3\n"
     ]
    },
    {
     "data": {
      "application/vnd.jupyter.widget-view+json": {
       "model_id": "70abca3c429e4cc98b2f42bc5d6e81d2",
       "version_major": 2,
       "version_minor": 0
      },
      "text/plain": [
       "HBox(children=(FloatProgress(value=0.0), HTML(value='')))"
      ]
     },
     "metadata": {},
     "output_type": "display_data"
    },
    {
     "name": "stdout",
     "output_type": "stream",
     "text": [
      "\n",
      "\n"
     ]
    }
   ],
   "source": [
    "# read all the images\n",
    "source_dir = Path(\"/home/namit/codes/Entropy-Isomap/outputs/images_square/\")\n",
    "output_dir = Path(\"/home/namit/codes/Entropy-Isomap/outputs/square/graphs/\")\n",
    "selected_trajectories = ['BR0.54-CHI2.4-R3']\n",
    "\n",
    "for trajectory in tqdm(source_dir.iterdir()):\n",
    "    if trajectory.name in selected_trajectories:\n",
    "        print(trajectory.name)\n",
    "        img_filenames = sorted([str(x) for x in trajectory.iterdir()])\n",
    "        imgs = io.imread_collection(img_filenames, conserve_memory=True)\n",
    "        graphs = create_rag(imgs, trajectory.name, generate_overlay=True)\n",
    "\n",
    "        output_dir.mkdir(parents=True, exist_ok=True)\n",
    "        pickle.dump(graphs, open(output_dir/(trajectory.name+'.file'), 'wb'))"
   ]
  },
  {
   "cell_type": "markdown",
   "metadata": {},
   "source": [
    "Generate video of all points combined and individual trajectories"
   ]
  },
  {
   "cell_type": "code",
   "execution_count": 53,
   "metadata": {},
   "outputs": [],
   "source": [
    "#generate_overalay_graph_video(\"../outputs/graph_overlay_combined_images/\", \n",
    "#                              \"../outputs/graph_overlay_combined_videos/\")\n",
    "\n",
    "# write the code for indivisual trajectories if it is needed"
   ]
  },
  {
   "cell_type": "markdown",
   "metadata": {},
   "source": [
    "Generate Networkx visualizations for each RAG\n",
    "\n",
    "(create a deepcopy of all the graphs first and remove their edges for plotting more understandable graphs)"
   ]
  },
  {
   "cell_type": "code",
   "execution_count": 10,
   "metadata": {},
   "outputs": [
    {
     "data": {
      "application/vnd.jupyter.widget-view+json": {
       "model_id": "c69b87d4b2fe4abca225451bfacb0732",
       "version_major": 2,
       "version_minor": 0
      },
      "text/plain": [
       "HBox(children=(FloatProgress(value=1.0, bar_style='info', max=1.0), HTML(value='')))"
      ]
     },
     "metadata": {},
     "output_type": "display_data"
    },
    {
     "name": "stdout",
     "output_type": "stream",
     "text": [
      "BR0.56-CHI2.4-R4.file\n",
      "> creating deep copy\n",
      "> Done\n",
      "\n",
      "> removing edge weights\n"
     ]
    },
    {
     "data": {
      "application/vnd.jupyter.widget-view+json": {
       "model_id": "e0ea2de1127d49eb816d1ae715d43aef",
       "version_major": 2,
       "version_minor": 0
      },
      "text/plain": [
       "HBox(children=(FloatProgress(value=0.0, max=80.0), HTML(value='')))"
      ]
     },
     "metadata": {},
     "output_type": "display_data"
    },
    {
     "name": "stdout",
     "output_type": "stream",
     "text": [
      "\n",
      "> generating graph visualization images\n"
     ]
    },
    {
     "data": {
      "application/vnd.jupyter.widget-view+json": {
       "model_id": "cb3d89e7b4f44c0bb863bf9ff7158d97",
       "version_major": 2,
       "version_minor": 0
      },
      "text/plain": [
       "HBox(children=(FloatProgress(value=0.0, max=80.0), HTML(value='')))"
      ]
     },
     "metadata": {},
     "output_type": "display_data"
    },
    {
     "name": "stdout",
     "output_type": "stream",
     "text": [
      "0 - 2\n",
      "1 - 2\n",
      "2 - 2\n",
      "3 - 2\n",
      "4 - 2\n",
      "5 - 2\n",
      "6 - 2\n",
      "7 - 6\n",
      "8 - 6\n",
      "9 - 6\n",
      "10 - 5\n",
      "11 - 23\n",
      "12 - 23\n",
      "13 - 3\n",
      "14 - 3\n",
      "15 - 3\n",
      "16 - 3\n",
      "17 - 3\n",
      "18 - 3\n",
      "19 - 3\n",
      "20 - 3\n",
      "21 - 3\n",
      "22 - 3\n",
      "23 - 4\n",
      "24 - 4\n",
      "25 - 4\n",
      "26 - 4\n",
      "27 - 4\n",
      "28 - 4\n",
      "29 - 4\n",
      "30 - 4\n",
      "31 - 4\n",
      "32 - 4\n",
      "33 - 4\n",
      "34 - 2\n",
      "35 - 2\n",
      "36 - 2\n",
      "37 - 2\n",
      "38 - 2\n",
      "39 - 2\n",
      "40 - 2\n",
      "41 - 2\n",
      "42 - 2\n",
      "43 - 2\n",
      "44 - 2\n",
      "45 - 2\n",
      "46 - 2\n",
      "47 - 2\n",
      "48 - 2\n",
      "49 - 2\n",
      "50 - 2\n",
      "51 - 2\n",
      "52 - 2\n",
      "53 - 2\n",
      "54 - 2\n",
      "55 - 2\n",
      "56 - 2\n",
      "57 - 2\n",
      "58 - 2\n",
      "59 - 2\n",
      "60 - 2\n",
      "61 - 2\n",
      "62 - 2\n",
      "63 - 2\n",
      "64 - 2\n",
      "65 - 2\n",
      "66 - 2\n",
      "67 - 2\n",
      "68 - 2\n",
      "69 - 2\n",
      "70 - 2\n",
      "71 - 2\n",
      "72 - 2\n",
      "73 - 2\n",
      "74 - 2\n",
      "75 - 2\n",
      "76 - 2\n",
      "77 - 2\n",
      "78 - 2\n",
      "79 - 2\n",
      "\n",
      "BR0.56-CHI2.4-R1.file\n",
      "> creating deep copy\n",
      "> Done\n",
      "\n",
      "> removing edge weights\n"
     ]
    },
    {
     "data": {
      "application/vnd.jupyter.widget-view+json": {
       "model_id": "3120b92cf0214ea8a674815905fe9c7e",
       "version_major": 2,
       "version_minor": 0
      },
      "text/plain": [
       "HBox(children=(FloatProgress(value=0.0, max=80.0), HTML(value='')))"
      ]
     },
     "metadata": {},
     "output_type": "display_data"
    },
    {
     "name": "stdout",
     "output_type": "stream",
     "text": [
      "\n",
      "> generating graph visualization images\n"
     ]
    },
    {
     "data": {
      "application/vnd.jupyter.widget-view+json": {
       "model_id": "b57d6dd046314528a0612757f9a28346",
       "version_major": 2,
       "version_minor": 0
      },
      "text/plain": [
       "HBox(children=(FloatProgress(value=0.0, max=80.0), HTML(value='')))"
      ]
     },
     "metadata": {},
     "output_type": "display_data"
    },
    {
     "name": "stdout",
     "output_type": "stream",
     "text": [
      "0 - 3\n",
      "1 - 2\n",
      "2 - 2\n",
      "3 - 2\n",
      "4 - 2\n",
      "5 - 2\n",
      "6 - 2\n",
      "7 - 2\n",
      "8 - 6\n",
      "9 - 6\n",
      "10 - 6\n",
      "11 - 6\n",
      "12 - 6\n",
      "13 - 6\n",
      "14 - 6\n",
      "15 - 6\n",
      "16 - 2\n",
      "17 - 2\n",
      "18 - 6\n",
      "19 - 6\n",
      "20 - 6\n",
      "21 - 6\n",
      "22 - 6\n",
      "23 - 6\n",
      "24 - 18\n",
      "25 - 17\n",
      "26 - 16\n",
      "27 - 16\n",
      "28 - 7\n",
      "29 - 6\n",
      "30 - 6\n",
      "31 - 6\n",
      "32 - 6\n",
      "33 - 6\n",
      "34 - 6\n",
      "35 - 3\n",
      "36 - 3\n",
      "37 - 1\n",
      "38 - 1\n",
      "39 - 1\n",
      "40 - 1\n",
      "41 - 1\n",
      "42 - 1\n",
      "43 - 1\n",
      "44 - 1\n",
      "45 - 1\n",
      "46 - 1\n",
      "47 - 1\n",
      "48 - 1\n",
      "49 - 1\n",
      "50 - 1\n",
      "51 - 1\n",
      "52 - 1\n",
      "53 - 1\n",
      "54 - 1\n",
      "55 - 1\n",
      "56 - 1\n",
      "57 - 1\n",
      "58 - 1\n",
      "59 - 1\n",
      "60 - 1\n",
      "61 - 1\n",
      "62 - 1\n",
      "63 - 1\n",
      "64 - 1\n",
      "65 - 1\n",
      "66 - 1\n",
      "67 - 1\n",
      "68 - 1\n",
      "69 - 1\n",
      "70 - 1\n",
      "71 - 1\n",
      "72 - 1\n",
      "73 - 1\n",
      "74 - 1\n",
      "75 - 1\n",
      "76 - 1\n",
      "77 - 1\n",
      "78 - 1\n",
      "79 - 1\n",
      "\n",
      "BR0.52-CHI2.4-R3.file\n",
      "> creating deep copy\n",
      "> Done\n",
      "\n",
      "> removing edge weights\n"
     ]
    },
    {
     "data": {
      "application/vnd.jupyter.widget-view+json": {
       "model_id": "7bd71e4d168a4156bb2bebd750ba0e05",
       "version_major": 2,
       "version_minor": 0
      },
      "text/plain": [
       "HBox(children=(FloatProgress(value=0.0, max=80.0), HTML(value='')))"
      ]
     },
     "metadata": {},
     "output_type": "display_data"
    },
    {
     "name": "stdout",
     "output_type": "stream",
     "text": [
      "\n",
      "> generating graph visualization images\n"
     ]
    },
    {
     "data": {
      "application/vnd.jupyter.widget-view+json": {
       "model_id": "8441c867d01746139ce8aca19b42e0a5",
       "version_major": 2,
       "version_minor": 0
      },
      "text/plain": [
       "HBox(children=(FloatProgress(value=0.0, max=80.0), HTML(value='')))"
      ]
     },
     "metadata": {},
     "output_type": "display_data"
    },
    {
     "name": "stdout",
     "output_type": "stream",
     "text": [
      "0 - 3\n",
      "1 - 3\n",
      "2 - 3\n",
      "3 - 3\n",
      "4 - 3\n",
      "5 - 3\n",
      "6 - 3\n",
      "7 - 3\n",
      "8 - 3\n",
      "9 - 3\n",
      "10 - 17\n",
      "11 - 2\n",
      "12 - 2\n",
      "13 - 2\n",
      "14 - 16\n",
      "15 - 16\n",
      "16 - 16\n",
      "17 - 16\n",
      "18 - 4\n",
      "19 - 4\n",
      "20 - 5\n",
      "21 - 15\n",
      "22 - 3\n",
      "23 - 3\n",
      "24 - 3\n",
      "25 - 3\n",
      "26 - 3\n",
      "27 - 3\n",
      "28 - 3\n",
      "29 - 3\n",
      "30 - 3\n",
      "31 - 5\n",
      "32 - 5\n",
      "33 - 5\n",
      "34 - 5\n",
      "35 - 5\n",
      "36 - 2\n",
      "37 - 2\n",
      "38 - 2\n",
      "39 - 2\n",
      "40 - 5\n",
      "41 - 5\n",
      "42 - 5\n",
      "43 - 5\n",
      "44 - 5\n",
      "45 - 5\n",
      "46 - 5\n",
      "47 - 5\n",
      "48 - 5\n",
      "49 - 5\n",
      "50 - 5\n",
      "51 - 5\n",
      "52 - 5\n",
      "53 - 5\n",
      "54 - 5\n",
      "55 - 5\n",
      "56 - 5\n",
      "57 - 5\n",
      "58 - 5\n",
      "59 - 5\n",
      "60 - 5\n",
      "61 - 5\n",
      "62 - 5\n",
      "63 - 5\n",
      "64 - 5\n",
      "65 - 5\n",
      "66 - 5\n",
      "67 - 5\n",
      "68 - 6\n",
      "69 - 6\n",
      "70 - 6\n",
      "71 - 6\n",
      "72 - 6\n",
      "73 - 6\n",
      "74 - 6\n",
      "75 - 6\n",
      "76 - 6\n",
      "77 - 6\n",
      "78 - 6\n",
      "79 - 6\n",
      "\n",
      "BR0.54-CHI2.4-R3.file\n",
      "> creating deep copy\n",
      "> Done\n",
      "\n",
      "> removing edge weights\n"
     ]
    },
    {
     "data": {
      "application/vnd.jupyter.widget-view+json": {
       "model_id": "6150c3bf72ba4552902baf391366495a",
       "version_major": 2,
       "version_minor": 0
      },
      "text/plain": [
       "HBox(children=(FloatProgress(value=0.0, max=80.0), HTML(value='')))"
      ]
     },
     "metadata": {},
     "output_type": "display_data"
    },
    {
     "name": "stdout",
     "output_type": "stream",
     "text": [
      "\n",
      "> generating graph visualization images\n"
     ]
    },
    {
     "data": {
      "application/vnd.jupyter.widget-view+json": {
       "model_id": "b22d5184a9ae440ea0bc649852255b2d",
       "version_major": 2,
       "version_minor": 0
      },
      "text/plain": [
       "HBox(children=(FloatProgress(value=0.0, max=80.0), HTML(value='')))"
      ]
     },
     "metadata": {},
     "output_type": "display_data"
    },
    {
     "name": "stdout",
     "output_type": "stream",
     "text": [
      "0 - 1\n",
      "1 - 1\n",
      "2 - 1\n",
      "3 - 1\n",
      "4 - 1\n",
      "5 - 2\n",
      "6 - 2\n",
      "7 - 2\n",
      "8 - 2\n",
      "9 - 2\n",
      "10 - 2\n",
      "11 - 2\n",
      "12 - 2\n",
      "13 - 2\n",
      "14 - 2\n",
      "15 - 2\n",
      "16 - 2\n",
      "17 - 2\n",
      "18 - 2\n",
      "19 - 2\n",
      "20 - 2\n",
      "21 - 2\n",
      "22 - 2\n",
      "23 - 2\n",
      "24 - 2\n",
      "25 - 2\n",
      "26 - 2\n",
      "27 - 2\n",
      "28 - 2\n",
      "29 - 2\n",
      "30 - 2\n",
      "31 - 2\n",
      "32 - 2\n",
      "33 - 2\n",
      "34 - 2\n",
      "35 - 2\n",
      "36 - 2\n",
      "37 - 2\n",
      "38 - 2\n",
      "39 - 2\n",
      "40 - 2\n",
      "41 - 2\n",
      "42 - 2\n",
      "43 - 2\n",
      "44 - 2\n",
      "45 - 2\n",
      "46 - 2\n",
      "47 - 2\n",
      "48 - 2\n",
      "49 - 2\n",
      "50 - 2\n",
      "51 - 2\n",
      "52 - 2\n",
      "53 - 2\n",
      "54 - 2\n",
      "55 - 2\n",
      "56 - 2\n",
      "57 - 2\n",
      "58 - 2\n",
      "59 - 2\n",
      "60 - 2\n",
      "61 - 2\n",
      "62 - 2\n",
      "63 - 2\n",
      "64 - 2\n",
      "65 - 2\n",
      "66 - 2\n",
      "67 - 2\n",
      "68 - 2\n",
      "69 - 2\n",
      "70 - 2\n",
      "71 - 2\n",
      "72 - 2\n",
      "73 - 2\n",
      "74 - 2\n",
      "75 - 2\n",
      "76 - 2\n",
      "77 - 2\n",
      "78 - 2\n",
      "79 - 2\n",
      "\n",
      "BR0.52-CHI2.4-R1.file\n",
      "> creating deep copy\n",
      "> Done\n",
      "\n",
      "> removing edge weights\n"
     ]
    },
    {
     "data": {
      "application/vnd.jupyter.widget-view+json": {
       "model_id": "fe4e1c179fd7439db972475c18847862",
       "version_major": 2,
       "version_minor": 0
      },
      "text/plain": [
       "HBox(children=(FloatProgress(value=0.0, max=80.0), HTML(value='')))"
      ]
     },
     "metadata": {},
     "output_type": "display_data"
    },
    {
     "name": "stdout",
     "output_type": "stream",
     "text": [
      "\n",
      "> generating graph visualization images\n"
     ]
    },
    {
     "data": {
      "application/vnd.jupyter.widget-view+json": {
       "model_id": "12a70d6962c24ba4a769f22a5e356c42",
       "version_major": 2,
       "version_minor": 0
      },
      "text/plain": [
       "HBox(children=(FloatProgress(value=0.0, max=80.0), HTML(value='')))"
      ]
     },
     "metadata": {},
     "output_type": "display_data"
    },
    {
     "name": "stdout",
     "output_type": "stream",
     "text": [
      "0 - 1\n",
      "1 - 3\n",
      "2 - 2\n",
      "3 - 3\n",
      "4 - 2\n",
      "5 - 2\n",
      "6 - 1\n",
      "7 - 1\n",
      "8 - 1\n",
      "9 - 1\n",
      "10 - 1\n",
      "11 - 1\n",
      "12 - 1\n",
      "13 - 1\n",
      "14 - 1\n",
      "15 - 1\n",
      "16 - 1\n",
      "17 - 1\n",
      "18 - 1\n",
      "19 - 1\n",
      "20 - 1\n",
      "21 - 1\n",
      "22 - 1\n",
      "23 - 1\n",
      "24 - 1\n",
      "25 - 1\n",
      "26 - 1\n",
      "27 - 1\n",
      "28 - 1\n",
      "29 - 1\n",
      "30 - 1\n",
      "31 - 1\n",
      "32 - 1\n",
      "33 - 1\n",
      "34 - 1\n",
      "35 - 1\n",
      "36 - 1\n",
      "37 - 1\n",
      "38 - 1\n",
      "39 - 1\n",
      "40 - 1\n",
      "41 - 1\n",
      "42 - 1\n",
      "43 - 1\n",
      "44 - 1\n",
      "45 - 1\n",
      "46 - 1\n",
      "47 - 1\n",
      "48 - 1\n",
      "49 - 1\n",
      "50 - 1\n",
      "51 - 1\n",
      "52 - 1\n",
      "53 - 1\n",
      "54 - 1\n",
      "55 - 1\n",
      "56 - 1\n",
      "57 - 1\n",
      "58 - 1\n",
      "59 - 1\n",
      "60 - 1\n",
      "61 - 1\n",
      "62 - 1\n",
      "63 - 1\n",
      "64 - 1\n",
      "65 - 1\n",
      "66 - 1\n",
      "67 - 1\n",
      "68 - 1\n",
      "69 - 1\n",
      "70 - 1\n",
      "71 - 1\n",
      "72 - 1\n",
      "73 - 1\n",
      "74 - 1\n",
      "75 - 1\n",
      "76 - 1\n",
      "77 - 1\n",
      "78 - 1\n",
      "79 - 1\n",
      "\n",
      "BR0.54-CHI2.4-R5.file\n",
      "> creating deep copy\n",
      "> Done\n",
      "\n",
      "> removing edge weights\n"
     ]
    },
    {
     "data": {
      "application/vnd.jupyter.widget-view+json": {
       "model_id": "57a8b71c05164c73b020f96c53392602",
       "version_major": 2,
       "version_minor": 0
      },
      "text/plain": [
       "HBox(children=(FloatProgress(value=0.0, max=80.0), HTML(value='')))"
      ]
     },
     "metadata": {},
     "output_type": "display_data"
    },
    {
     "name": "stdout",
     "output_type": "stream",
     "text": [
      "\n",
      "> generating graph visualization images\n"
     ]
    },
    {
     "data": {
      "application/vnd.jupyter.widget-view+json": {
       "model_id": "9e085bad45144d32a29d535a46e07e36",
       "version_major": 2,
       "version_minor": 0
      },
      "text/plain": [
       "HBox(children=(FloatProgress(value=0.0, max=80.0), HTML(value='')))"
      ]
     },
     "metadata": {},
     "output_type": "display_data"
    },
    {
     "name": "stdout",
     "output_type": "stream",
     "text": [
      "0 - 2\n",
      "1 - 5\n",
      "2 - 4\n",
      "3 - 4\n",
      "4 - 5\n",
      "5 - 6\n",
      "6 - 7\n",
      "7 - 7\n",
      "8 - 7\n",
      "9 - 7\n",
      "10 - 2\n",
      "11 - 2\n",
      "12 - 2\n",
      "13 - 2\n",
      "14 - 2\n",
      "15 - 2\n",
      "16 - 2\n",
      "17 - 2\n",
      "18 - 2\n",
      "19 - 2\n",
      "20 - 2\n",
      "21 - 2\n",
      "22 - 2\n",
      "23 - 2\n",
      "24 - 2\n",
      "25 - 2\n",
      "26 - 2\n",
      "27 - 2\n",
      "28 - 2\n",
      "29 - 2\n",
      "30 - 2\n",
      "31 - 2\n",
      "32 - 2\n",
      "33 - 2\n",
      "34 - 2\n",
      "35 - 2\n",
      "36 - 2\n",
      "37 - 2\n",
      "38 - 2\n",
      "39 - 2\n",
      "40 - 2\n",
      "41 - 2\n",
      "42 - 2\n",
      "43 - 2\n",
      "44 - 2\n",
      "45 - 2\n",
      "46 - 2\n",
      "47 - 2\n",
      "48 - 2\n",
      "49 - 2\n",
      "50 - 2\n",
      "51 - 2\n",
      "52 - 2\n",
      "53 - 2\n",
      "54 - 2\n",
      "55 - 2\n",
      "56 - 2\n",
      "57 - 2\n",
      "58 - 2\n",
      "59 - 2\n",
      "60 - 2\n",
      "61 - 2\n",
      "62 - 2\n",
      "63 - 2\n",
      "64 - 2\n",
      "65 - 2\n",
      "66 - 2\n",
      "67 - 2\n",
      "68 - 2\n",
      "69 - 2\n",
      "70 - 2\n",
      "71 - 2\n",
      "72 - 2\n",
      "73 - 2\n",
      "74 - 2\n",
      "75 - 2\n",
      "76 - 2\n",
      "77 - 2\n",
      "78 - 2\n",
      "79 - 2\n",
      "\n",
      "\n"
     ]
    }
   ],
   "source": [
    "for trajectory in tqdm(output_dir.iterdir()):\n",
    "    print(trajectory.name)\n",
    "    graphs = pickle.load(open(trajectory, 'rb'))[:80]\n",
    "    # create a deep copy\n",
    "    print(\"> creating deep copy\")\n",
    "    graphs_without_edge_weights = copy.deepcopy(graphs)\n",
    "    print(\"> Done\\n\")\n",
    "\n",
    "    print(\"> removing edge weights\")\n",
    "    # remove all the edge weights of the copy\n",
    "    for graph in tqdm(graphs_without_edge_weights):\n",
    "        for edge in graph.edges:\n",
    "            node1, node2 = edge\n",
    "            del graph[node1][node2]['weight']\n",
    "\n",
    "\n",
    "    print(\"> generating graph visualization images\")\n",
    "    generate_graph_visualization_images(graphs_without_edge_weights, trajectory.name)"
   ]
  },
  {
   "cell_type": "markdown",
   "metadata": {},
   "source": [
    "---"
   ]
  },
  {
   "cell_type": "code",
   "execution_count": 4,
   "metadata": {},
   "outputs": [],
   "source": [
    "graphs = pickle.load(open(\"../outputs/pickle/graphs.file\", 'rb'))"
   ]
  }
 ],
 "metadata": {
  "kernelspec": {
   "display_name": "Python 3",
   "language": "python",
   "name": "python3"
  },
  "language_info": {
   "codemirror_mode": {
    "name": "ipython",
    "version": 3
   },
   "file_extension": ".py",
   "mimetype": "text/x-python",
   "name": "python",
   "nbconvert_exporter": "python",
   "pygments_lexer": "ipython3",
   "version": "3.6.8"
  }
 },
 "nbformat": 4,
 "nbformat_minor": 4
}
