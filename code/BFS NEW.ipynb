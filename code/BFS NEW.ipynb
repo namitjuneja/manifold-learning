{
 "cells": [
  {
   "cell_type": "code",
   "execution_count": 45,
   "metadata": {},
   "outputs": [],
   "source": [
    "import pickle\n",
    "import numpy as np\n",
    "from tqdm.notebook import tqdm\n",
    "from sklearn.metrics import pairwise_distances\n",
    "from pathlib import Path\n",
    "import networkx as nx\n",
    "from IPython.core.debugger import set_trace\n",
    "from matplotlib import pyplot as plt\n",
    "from matplotlib.patches import Patch\n",
    "%matplotlib widget\n",
    "import copy\n",
    "from helper import *\n",
    "%reload_ext autoreload\n",
    "%aimport helper\n",
    "%autoreload 1"
   ]
  },
  {
   "cell_type": "code",
   "execution_count": 90,
   "metadata": {},
   "outputs": [],
   "source": [
    "#trajectories = [('0.56','2.8','1'),('0.56','2.8','2'),('0.56','2.8','3'),('0.56','2.8','4'),('0.56','2.8','5')]\n",
    "trajectories = [('0.56','2.8','5')]\n",
    "start_slice = 0"
   ]
  },
  {
   "cell_type": "code",
   "execution_count": 91,
   "metadata": {},
   "outputs": [
    {
     "name": "stdout",
     "output_type": "stream",
     "text": [
      "> 80 points loaded from file BR0.56-CHI2.8-R5.file.\n"
     ]
    }
   ],
   "source": [
    "vectors = []\n",
    "for trajectory in trajectories:\n",
    "    \n",
    "    phi = trajectory[0]\n",
    "    chi = trajectory[1]\n",
    "    replica = trajectory[2]\n",
    "    \n",
    "    # load graphs for the trajectory\n",
    "    graphs = get_graph_from_file(phi, chi, replica)[start_slice:]\n",
    "\n",
    "    # traverse the graph and create vector\n",
    "    vectors += generate_vectors(graphs)"
   ]
  },
  {
   "cell_type": "code",
   "execution_count": 92,
   "metadata": {},
   "outputs": [],
   "source": [
    "D = generate_distance_matrix(vectors)"
   ]
  },
  {
   "cell_type": "code",
   "execution_count": 93,
   "metadata": {},
   "outputs": [
    {
     "data": {
      "application/vnd.jupyter.widget-view+json": {
       "model_id": "04be171ee5be40a1a8bf9184ce848931",
       "version_major": 2,
       "version_minor": 0
      },
      "text/plain": [
       "Canvas(toolbar=Toolbar(toolitems=[('Home', 'Reset original view', 'home', 'home'), ('Back', 'Back to previous …"
      ]
     },
     "metadata": {},
     "output_type": "display_data"
    }
   ],
   "source": [
    "plot_distance_graph(D, 34, start_slice=start_slice)"
   ]
  },
  {
   "cell_type": "code",
   "execution_count": 98,
   "metadata": {},
   "outputs": [
    {
     "name": "stderr",
     "output_type": "stream",
     "text": [
      "/home/namit/codes/Entropy-Isomap/code/helper.py:108: RuntimeWarning: More than 20 figures have been opened. Figures created through the pyplot interface (`matplotlib.pyplot.figure`) are retained until explicitly closed and may consume too much memory. (To control this warning, see the rcParam `figure.max_open_warning`).\n",
      "  fig = plt.figure()\n"
     ]
    },
    {
     "data": {
      "application/vnd.jupyter.widget-view+json": {
       "model_id": "0f84dbf4ab034ca9b9e7e9fb1c3fc5ce",
       "version_major": 2,
       "version_minor": 0
      },
      "text/plain": [
       "Canvas(toolbar=Toolbar(toolitems=[('Home', 'Reset original view', 'home', 'home'), ('Back', 'Back to previous …"
      ]
     },
     "metadata": {},
     "output_type": "display_data"
    },
    {
     "data": {
      "text/plain": [
       "Text(0.5, 1.0, 'Distance Matrix (Sliced)')"
      ]
     },
     "execution_count": 98,
     "metadata": {},
     "output_type": "execute_result"
    }
   ],
   "source": [
    "plot_distance_matrix(D[20:, 20:])\n",
    "plt.title(\"Distance Matrix (Sliced)\")"
   ]
  },
  {
   "cell_type": "code",
   "execution_count": 87,
   "metadata": {},
   "outputs": [],
   "source": [
    "vector_1 = 34\n",
    "vector_2 = 114"
   ]
  },
  {
   "cell_type": "code",
   "execution_count": 88,
   "metadata": {
    "jupyter": {
     "source_hidden": true
    }
   },
   "outputs": [
    {
     "data": {
      "application/vnd.jupyter.widget-view+json": {
       "model_id": "a3c89a18e8ce43cfaf39a2320a234eb6",
       "version_major": 2,
       "version_minor": 0
      },
      "text/plain": [
       "Canvas(toolbar=Toolbar(toolitems=[('Home', 'Reset original view', 'home', 'home'), ('Back', 'Back to previous …"
      ]
     },
     "metadata": {},
     "output_type": "display_data"
    }
   ],
   "source": [
    "padded_vectors = generate_padded_vectors([vectors[vector_1], vectors[vector_2]])\n",
    "fig, ax = plt.subplots(figsize=(12,2))\n",
    "ticks = np.arange(0, len(padded_vectors[0]), 20)\n",
    "minor_ticks = np.arange(0, len(padded_vectors[0]), 5)\n",
    "ax.set_xticks(ticks)\n",
    "ax.set_xticks(ticks, minor=True)\n",
    "ax.set_yticklabels(['',f'vector #{vector_1}', f'vector #{vector_2}'])\n",
    "plt.grid(True, axis='x', linestyle='-',zorder=0)\n",
    "\n",
    "plt.setp(ax.get_xminorticklabels(), visible=False)\n",
    "\n",
    "plt.xlabel(\"Vector Dimension\")\n",
    "plt.title(\"Comparing vectors post padding\")\n",
    "\n",
    "legend = [Patch(facecolor=[8/255,46/255,20/255],     edgecolor='k',label='Black Node'),\n",
    "          Patch(facecolor=[232/255,236/255,236/255], edgecolor='k',label='White Node'),\n",
    "          Patch(facecolor=[255/255,90/255,95/255],   edgecolor='k',label='Padding')]\n",
    "plt.legend(handles=legend, bbox_to_anchor=(1,0), loc=\"lower right\", bbox_transform=fig.transFigure, ncol=3)\n",
    "\n",
    "plt.tight_layout()\n",
    "\n",
    "\n",
    "\n",
    "for i in range(len(padded_vectors[0])):\n",
    "    if padded_vectors[0][i]==0:\n",
    "        c1 = [255/255,90/255,95/255]\n",
    "    elif padded_vectors[0][i]>0:\n",
    "        c1 = [232/255,236/255,236/255]\n",
    "    else:\n",
    "        c1 = [8/255,46/255,20/255]\n",
    "        \n",
    "    if padded_vectors[1][i]==0:\n",
    "        c2 = [255/255,90/255,95/255]\n",
    "    elif padded_vectors[1][i]>0:\n",
    "        c2 = [232/255,236/255,236/255]\n",
    "    else:\n",
    "        c2 = [8/255,46/255,20/255]\n",
    "        \n",
    "    color=[c1,c2]\n",
    "    plt.barh([0,1], [1,1], left=i, color=color, height=0.75, orientation='horizontal',zorder=3)\n",
    "plt.show()"
   ]
  },
  {
   "cell_type": "code",
   "execution_count": 49,
   "metadata": {},
   "outputs": [],
   "source": [
    "vector_1 = 43\n",
    "vector_2 = 44"
   ]
  },
  {
   "cell_type": "code",
   "execution_count": 50,
   "metadata": {
    "jupyter": {
     "source_hidden": true
    }
   },
   "outputs": [
    {
     "data": {
      "application/vnd.jupyter.widget-view+json": {
       "model_id": "91241cca15b84dde95103269925ab2c1",
       "version_major": 2,
       "version_minor": 0
      },
      "text/plain": [
       "Canvas(toolbar=Toolbar(toolitems=[('Home', 'Reset original view', 'home', 'home'), ('Back', 'Back to previous …"
      ]
     },
     "metadata": {},
     "output_type": "display_data"
    }
   ],
   "source": [
    "padded_vectors = generate_padded_vectors([vectors[vector_1], vectors[vector_2]])\n",
    "fig, ax = plt.subplots(figsize=(12,2))\n",
    "ticks = np.arange(0, len(padded_vectors[0]), 20)\n",
    "minor_ticks = np.arange(0, len(padded_vectors[0]), 5)\n",
    "ax.set_xticks(ticks)\n",
    "ax.set_xticks(ticks, minor=True)\n",
    "ax.set_yticklabels(['',f'vector #{vector_1}', f'vector #{vector_2}'])\n",
    "plt.grid(True, axis='x', linestyle='-',zorder=0)\n",
    "\n",
    "plt.setp(ax.get_xminorticklabels(), visible=False)\n",
    "\n",
    "plt.xlabel(\"Vector Dimension\")\n",
    "plt.title(\"Comparing vectors post padding\")\n",
    "\n",
    "legend = [Patch(facecolor=[8/255,46/255,20/255],     edgecolor='k',label='Black Node'),\n",
    "          Patch(facecolor=[232/255,236/255,236/255], edgecolor='k',label='White Node'),\n",
    "          Patch(facecolor=[255/255,90/255,95/255],   edgecolor='k',label='Padding')]\n",
    "plt.legend(handles=legend, bbox_to_anchor=(1,0), loc=\"lower right\", bbox_transform=fig.transFigure, ncol=3)\n",
    "\n",
    "plt.tight_layout()\n",
    "\n",
    "\n",
    "\n",
    "for i in range(len(padded_vectors[0])):\n",
    "    if padded_vectors[0][i]==0:\n",
    "        c1 = [255/255,90/255,95/255]\n",
    "    elif padded_vectors[0][i]>0:\n",
    "        c1 = [232/255,236/255,236/255]\n",
    "    else:\n",
    "        c1 = [8/255,46/255,20/255]\n",
    "        \n",
    "    if padded_vectors[1][i]==0:\n",
    "        c2 = [255/255,90/255,95/255]\n",
    "    elif padded_vectors[1][i]>0:\n",
    "        c2 = [232/255,236/255,236/255]\n",
    "    else:\n",
    "        c2 = [8/255,46/255,20/255]\n",
    "        \n",
    "    color=[c1,c2]\n",
    "    plt.barh([0,1], [1,1], left=i, color=color, height=0.75, orientation='horizontal',zorder=3)\n",
    "plt.show()"
   ]
  }
 ],
 "metadata": {
  "kernelspec": {
   "display_name": "Python 3",
   "language": "python",
   "name": "python3"
  },
  "language_info": {
   "codemirror_mode": {
    "name": "ipython",
    "version": 3
   },
   "file_extension": ".py",
   "mimetype": "text/x-python",
   "name": "python",
   "nbconvert_exporter": "python",
   "pygments_lexer": "ipython3",
   "version": "3.6.9"
  }
 },
 "nbformat": 4,
 "nbformat_minor": 4
}
