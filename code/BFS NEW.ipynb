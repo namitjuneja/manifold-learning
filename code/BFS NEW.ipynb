{
 "cells": [
  {
   "cell_type": "code",
<<<<<<< Updated upstream
   "execution_count": 45,
=======
   "execution_count": 1,
>>>>>>> Stashed changes
   "metadata": {},
   "outputs": [],
   "source": [
    "import pickle\n",
    "import numpy as np\n",
    "from tqdm.notebook import tqdm\n",
    "from sklearn.metrics import pairwise_distances\n",
    "from pathlib import Path\n",
    "import networkx as nx\n",
    "from IPython.core.debugger import set_trace\n",
    "from matplotlib import pyplot as plt\n",
    "from matplotlib.patches import Patch\n",
    "%matplotlib widget\n",
    "import copy\n",
    "from helper import *\n",
    "%reload_ext autoreload\n",
    "%aimport helper\n",
    "%autoreload 1"
   ]
  },
  {
   "cell_type": "code",
<<<<<<< Updated upstream
   "execution_count": 90,
=======
   "execution_count": 2,
>>>>>>> Stashed changes
   "metadata": {},
   "outputs": [],
   "source": [
    "#trajectories = [('0.56','2.8','1'),('0.56','2.8','2'),('0.56','2.8','3'),('0.56','2.8','4'),('0.56','2.8','5')]\n",
<<<<<<< Updated upstream
    "trajectories = [('0.56','2.8','5')]\n",
=======
    "trajectories = [('0.54','2.4','3')]\n",
>>>>>>> Stashed changes
    "start_slice = 0"
   ]
  },
  {
   "cell_type": "code",
<<<<<<< Updated upstream
   "execution_count": 91,
=======
   "execution_count": 3,
>>>>>>> Stashed changes
   "metadata": {},
   "outputs": [
    {
     "name": "stdout",
     "output_type": "stream",
     "text": [
<<<<<<< Updated upstream
      "> 80 points loaded from file BR0.56-CHI2.8-R5.file.\n"
=======
      "> 80 points loaded from file BR0.54-CHI2.4-R3.file.\n"
>>>>>>> Stashed changes
     ]
    }
   ],
   "source": [
    "vectors = []\n",
    "for trajectory in trajectories:\n",
    "    \n",
    "    phi = trajectory[0]\n",
    "    chi = trajectory[1]\n",
    "    replica = trajectory[2]\n",
    "    \n",
    "    # load graphs for the trajectory\n",
    "    graphs = get_graph_from_file(phi, chi, replica)[start_slice:]\n",
    "\n",
    "    # traverse the graph and create vector\n",
<<<<<<< Updated upstream
    "    vectors += generate_vectors(graphs)"
=======
    "    vector, traversal_orders = generate_vectors(graphs)\n",
    "    vectors += vector # just stacking vectors one after the other\n",
    "    trajectory_traversals.append(traversal_orders)"
   ]
  },
  {
   "cell_type": "code",
   "execution_count": 105,
   "metadata": {
    "collapsed": true,
    "jupyter": {
     "outputs_hidden": true,
     "source_hidden": true
    }
   },
   "outputs": [
    {
     "name": "stdout",
     "output_type": "stream",
     "text": [
      "[1, 2, 18, 14, 11, 26, 27, 15, 16, 7, 22, 6, 23, 21, 30, 25, 12, 17, 13, 10, 29, 24, 33, 3, 20, 32, 19, 31, 28, 8, 9, 5, 4]\n",
      "[1, 35, 26, 18, 24, 23, 13, 9, 16, 28, 15, 17, 27, 5, 34, 19, 21, 20, 11, 31, 6, 29, 7, 22, 33, 12, 14, 32, 8, 30, 10, 4, 25, 2, 3]\n"
     ]
    }
   ],
   "source": [
    "print(trajectory_traversals[0][58])\n",
    "print(trajectory_traversals[1][58])"
>>>>>>> Stashed changes
   ]
  },
  {
   "cell_type": "code",
<<<<<<< Updated upstream
   "execution_count": 92,
=======
   "execution_count": 31,
   "metadata": {
    "jupyter": {
     "source_hidden": true
    }
   },
   "outputs": [],
   "source": [
    "import pandas as pd"
   ]
  },
  {
   "cell_type": "code",
   "execution_count": 41,
   "metadata": {
    "collapsed": true,
    "jupyter": {
     "outputs_hidden": true,
     "source_hidden": true
    }
   },
   "outputs": [
    {
     "name": "stdout",
     "output_type": "stream",
     "text": [
      "        node(R1)  weight/surface(R1)\n",
      "0   14367.000000                   1\n",
      "1      -4.632653                  23\n",
      "2      -4.960000                  22\n",
      "3      -5.076577                  16\n",
      "4      -5.294118                  13\n",
      "5      -5.585492                  15\n",
      "6      -5.778947                  24\n",
      "7      -5.939655                   7\n",
      "8      -6.043478                   2\n",
      "9      -6.146341                  20\n",
      "10     -6.184000                  19\n",
      "11     -6.206667                   6\n",
      "12     -6.373134                   5\n",
      "13     -9.176101                   3\n",
      "14    -11.311688                   8\n",
      "15      6.152941                   4\n",
      "16     48.719178                   9\n",
      "17     -4.231481                  17\n",
      "18     -4.576923                  11\n",
      "19     -5.280702                  21\n",
      "20     -5.320388                  18\n",
      "21     -5.524691                  10\n",
      "22     -5.661017                  25\n",
      "23     -5.715596                  14\n",
      "24     -6.153846                  12\n"
     ]
    }
   ],
   "source": [
    "print(pd.DataFrame({\"node(R1)\": vectors[58], \"weight/surface(R1)\": trajectory_traversals[0][58]}))"
   ]
  },
  {
   "cell_type": "code",
   "execution_count": 42,
   "metadata": {
    "collapsed": true,
    "jupyter": {
     "outputs_hidden": true,
     "source_hidden": true
    }
   },
   "outputs": [
    {
     "name": "stdout",
     "output_type": "stream",
     "text": [
      "       node(R2)  weight/surface(R2)\n",
      "0   6034.666667                   3\n",
      "1     -4.595745                  26\n",
      "2     -4.695652                   4\n",
      "3     -4.870968                  17\n",
      "4     -5.245283                   8\n",
      "5     -5.300000                   7\n",
      "6     -5.343284                  13\n",
      "7     -5.384615                  21\n",
      "8     -5.405660                  11\n",
      "9     -5.558673                  14\n",
      "10    -5.596491                  24\n",
      "11    -5.612403                  12\n",
      "12    -5.700000                   5\n",
      "13    -5.902655                  16\n",
      "14    -6.118852                   6\n",
      "15    -8.004065                  18\n",
      "16    -8.551020                   9\n",
      "17    -8.751381                  19\n",
      "18   -11.759740                   2\n",
      "19     5.045455                  20\n",
      "20     6.188406                  10\n",
      "21     8.228571                  23\n",
      "22    11.773333                   1\n",
      "23    -4.000000                  25\n",
      "24    -5.800000                  15\n",
      "25    -6.692308                  22\n"
     ]
    }
   ],
   "source": [
    "print(pd.DataFrame({\"node(R2)\": vectors[80+58], \"weight/surface(R2)\": trajectory_traversals[1][58]}))"
   ]
  },
  {
   "cell_type": "code",
   "execution_count": 50,
   "metadata": {
    "collapsed": true,
    "jupyter": {
     "outputs_hidden": true,
     "source_hidden": true
    }
   },
   "outputs": [
    {
     "name": "stdout",
     "output_type": "stream",
     "text": [
      "    padded vct 1  padded vct 2\n",
      "0   14367.000000   6034.666667\n",
      "1      -4.632653     -4.595745\n",
      "2      -4.960000     -4.695652\n",
      "3      -5.076577     -4.870968\n",
      "4      -5.294118     -5.245283\n",
      "5      -5.585492     -5.300000\n",
      "6      -5.778947     -5.343284\n",
      "7      -5.939655     -5.384615\n",
      "8      -6.043478     -5.405660\n",
      "9      -6.146341     -5.558673\n",
      "10     -6.184000     -5.596491\n",
      "11     -6.206667     -5.612403\n",
      "12     -6.373134     -5.700000\n",
      "13     -9.176101     -5.902655\n",
      "14    -11.311688     -6.118852\n",
      "15      0.000000     -8.004065\n",
      "16      0.000000     -8.551020\n",
      "17      0.000000     -8.751381\n",
      "18      0.000000    -11.759740\n",
      "19      6.152941      5.045455\n",
      "20     48.719178      6.188406\n",
      "21     -4.231481      0.000000\n",
      "22     -4.576923      0.000000\n",
      "23     -5.280702      0.000000\n",
      "24     -5.320388      0.000000\n",
      "25     -5.524691      0.000000\n",
      "26     -5.661017      0.000000\n",
      "27     -5.715596      0.000000\n",
      "28     -6.153846      0.000000\n",
      "29      0.000000      8.228571\n",
      "30      0.000000     11.773333\n",
      "31      0.000000     -4.000000\n",
      "32      0.000000     -5.800000\n",
      "33      0.000000     -6.692308\n"
     ]
    }
   ],
   "source": [
    "pv1, pv2 = generate_padded_vectors([vectors[58], vectors[80+58]])\n",
    "\n",
    "print(pd.DataFrame({\"padded vct 1\": pv1, \"padded vct 2\": pv2}))"
   ]
  },
  {
   "cell_type": "code",
   "execution_count": 53,
   "metadata": {
    "collapsed": true,
    "jupyter": {
     "outputs_hidden": true,
     "source_hidden": true
    }
   },
   "outputs": [
    {
     "name": "stdout",
     "output_type": "stream",
     "text": [
      "> 80 points loaded from file BR0.52-CHI2.4-R1.file.\n",
      "> 80 points loaded from file BR0.52-CHI2.4-R3.file.\n"
     ]
    }
   ],
   "source": [
    "g1 = get_graph_from_file('0.52', '2.4', '1')[58]\n",
    "g2 = get_graph_from_file('0.52', '2.4', '3')[58]"
   ]
  },
  {
   "cell_type": "code",
   "execution_count": 64,
   "metadata": {
    "collapsed": true,
    "jupyter": {
     "outputs_hidden": true,
     "source_hidden": true
    }
   },
   "outputs": [
    {
     "data": {
      "text/plain": [
       "(10,\n",
       " {'area': 427,\n",
       "  'color': 1.0,\n",
       "  'centroid': (9.920374707259953, 262.2997658079625),\n",
       "  'perimeter': 78.38477631085024})"
      ]
     },
     "execution_count": 64,
     "metadata": {},
     "output_type": "execute_result"
    }
   ],
   "source": [
    "list(g2.nodes(data=True))[9]"
   ]
  },
  {
   "cell_type": "code",
   "execution_count": 4,
>>>>>>> Stashed changes
   "metadata": {},
   "outputs": [],
   "source": [
    "D = generate_distance_matrix(vectors)"
   ]
  },
  {
   "cell_type": "code",
<<<<<<< Updated upstream
   "execution_count": 93,
=======
   "execution_count": 8,
>>>>>>> Stashed changes
   "metadata": {},
   "outputs": [
    {
     "data": {
      "application/vnd.jupyter.widget-view+json": {
<<<<<<< Updated upstream
       "model_id": "04be171ee5be40a1a8bf9184ce848931",
=======
       "model_id": "3c53c3594fc0469ea4514c7c888a2085",
>>>>>>> Stashed changes
       "version_major": 2,
       "version_minor": 0
      },
      "text/plain": [
       "Canvas(toolbar=Toolbar(toolitems=[('Home', 'Reset original view', 'home', 'home'), ('Back', 'Back to previous …"
      ]
     },
     "metadata": {},
     "output_type": "display_data"
    }
   ],
   "source": [
    "plot_distance_graph(D, 34, start_slice=start_slice)"
   ]
  },
  {
   "cell_type": "code",
<<<<<<< Updated upstream
   "execution_count": 98,
   "metadata": {},
   "outputs": [
    {
     "name": "stderr",
     "output_type": "stream",
     "text": [
      "/home/namit/codes/Entropy-Isomap/code/helper.py:108: RuntimeWarning: More than 20 figures have been opened. Figures created through the pyplot interface (`matplotlib.pyplot.figure`) are retained until explicitly closed and may consume too much memory. (To control this warning, see the rcParam `figure.max_open_warning`).\n",
      "  fig = plt.figure()\n"
     ]
=======
   "execution_count": 6,
   "metadata": {
    "collapsed": true,
    "jupyter": {
     "outputs_hidden": true
    }
   },
   "outputs": [
    {
     "data": {
      "application/vnd.jupyter.widget-view+json": {
       "model_id": "681da9f846bf4b5485e0b19db9c7bf15",
       "version_major": 2,
       "version_minor": 0
      },
      "text/plain": [
       "Canvas(toolbar=Toolbar(toolitems=[('Home', 'Reset original view', 'home', 'home'), ('Back', 'Back to previous …"
      ]
     },
     "metadata": {},
     "output_type": "display_data"
>>>>>>> Stashed changes
    },
    {
     "name": "stderr",
     "output_type": "stream",
     "text": [
      "/home/namit/codes/Entropy-Isomap/code/helper.py:111: UserWarning: Attempting to set identical left == right == -0.5 results in singular transformations; automatically expanding.\n",
      "  plt.imshow(D)\n"
     ]
    },
    {
     "data": {
<<<<<<< Updated upstream
      "application/vnd.jupyter.widget-view+json": {
       "model_id": "0f84dbf4ab034ca9b9e7e9fb1c3fc5ce",
=======
      "text/plain": [
       "Text(0, 0.5, 'Points in Trajectory R1')"
      ]
     },
     "execution_count": 6,
     "metadata": {},
     "output_type": "execute_result"
    }
   ],
   "source": [
    "plot_distance_matrix(D[:80, 80:])\n",
    "plt.title(\"Distance Matrix BR0.56-CHI2.4 (R1 & R4)\")\n",
    "plt.xlabel(\"Points in Trajectory R4\")\n",
    "plt.ylabel(\"Points in Trajectory R1\")"
   ]
  },
  {
   "cell_type": "code",
   "execution_count": 7,
   "metadata": {},
   "outputs": [
    {
     "data": {
      "application/vnd.jupyter.widget-view+json": {
       "model_id": "64f8af1d06354140ade0f8b255e44852",
>>>>>>> Stashed changes
       "version_major": 2,
       "version_minor": 0
      },
      "text/plain": [
       "Canvas(toolbar=Toolbar(toolitems=[('Home', 'Reset original view', 'home', 'home'), ('Back', 'Back to previous …"
      ]
     },
     "metadata": {},
     "output_type": "display_data"
    },
    {
     "data": {
      "text/plain": [
       "Text(0.5, 1.0, 'Distance Matrix (Sliced)')"
      ]
     },
<<<<<<< Updated upstream
     "execution_count": 98,
=======
     "execution_count": 7,
>>>>>>> Stashed changes
     "metadata": {},
     "output_type": "execute_result"
    }
   ],
   "source": [
    "plot_distance_matrix(D[20:, 20:])\n",
    "plt.title(\"Distance Matrix (Sliced)\")"
   ]
  },
  {
   "cell_type": "code",
   "execution_count": 87,
   "metadata": {},
   "outputs": [],
   "source": [
    "vector_1 = 34\n",
    "vector_2 = 114"
   ]
  },
  {
   "cell_type": "code",
   "execution_count": 88,
   "metadata": {
    "jupyter": {
     "source_hidden": true
    }
   },
   "outputs": [
    {
     "data": {
      "application/vnd.jupyter.widget-view+json": {
       "model_id": "a3c89a18e8ce43cfaf39a2320a234eb6",
       "version_major": 2,
       "version_minor": 0
      },
      "text/plain": [
       "Canvas(toolbar=Toolbar(toolitems=[('Home', 'Reset original view', 'home', 'home'), ('Back', 'Back to previous …"
      ]
     },
     "metadata": {},
     "output_type": "display_data"
    }
   ],
   "source": [
    "padded_vectors = generate_padded_vectors([vectors[vector_1], vectors[vector_2]])\n",
    "fig, ax = plt.subplots(figsize=(12,2))\n",
    "ticks = np.arange(0, len(padded_vectors[0]), 20)\n",
    "minor_ticks = np.arange(0, len(padded_vectors[0]), 5)\n",
    "ax.set_xticks(ticks)\n",
    "ax.set_xticks(ticks, minor=True)\n",
    "ax.set_yticklabels(['',f'vector #{vector_1}', f'vector #{vector_2}'])\n",
    "plt.grid(True, axis='x', linestyle='-',zorder=0)\n",
    "\n",
    "plt.setp(ax.get_xminorticklabels(), visible=False)\n",
    "\n",
    "plt.xlabel(\"Vector Dimension\")\n",
    "plt.title(\"Comparing vectors post padding\")\n",
    "\n",
    "legend = [Patch(facecolor=[8/255,46/255,20/255],     edgecolor='k',label='Black Node'),\n",
    "          Patch(facecolor=[232/255,236/255,236/255], edgecolor='k',label='White Node'),\n",
    "          Patch(facecolor=[255/255,90/255,95/255],   edgecolor='k',label='Padding')]\n",
    "plt.legend(handles=legend, bbox_to_anchor=(1,0), loc=\"lower right\", bbox_transform=fig.transFigure, ncol=3)\n",
    "\n",
    "plt.tight_layout()\n",
    "\n",
    "\n",
    "\n",
    "for i in range(len(padded_vectors[0])):\n",
    "    if padded_vectors[0][i]==0:\n",
    "        c1 = [255/255,90/255,95/255]\n",
    "    elif padded_vectors[0][i]>0:\n",
    "        c1 = [232/255,236/255,236/255]\n",
    "    else:\n",
    "        c1 = [8/255,46/255,20/255]\n",
    "        \n",
    "    if padded_vectors[1][i]==0:\n",
    "        c2 = [255/255,90/255,95/255]\n",
    "    elif padded_vectors[1][i]>0:\n",
    "        c2 = [232/255,236/255,236/255]\n",
    "    else:\n",
    "        c2 = [8/255,46/255,20/255]\n",
    "        \n",
    "    color=[c1,c2]\n",
    "    plt.barh([0,1], [1,1], left=i, color=color, height=0.75, orientation='horizontal',zorder=3)\n",
    "plt.show()"
   ]
  },
  {
   "cell_type": "code",
   "execution_count": 49,
   "metadata": {},
   "outputs": [],
   "source": [
    "vector_1 = 43\n",
    "vector_2 = 44"
   ]
  },
  {
   "cell_type": "code",
   "execution_count": 50,
   "metadata": {
    "jupyter": {
     "source_hidden": true
    }
   },
   "outputs": [
    {
     "data": {
      "application/vnd.jupyter.widget-view+json": {
       "model_id": "91241cca15b84dde95103269925ab2c1",
       "version_major": 2,
       "version_minor": 0
      },
      "text/plain": [
       "Canvas(toolbar=Toolbar(toolitems=[('Home', 'Reset original view', 'home', 'home'), ('Back', 'Back to previous …"
      ]
     },
     "metadata": {},
     "output_type": "display_data"
    }
   ],
   "source": [
    "padded_vectors = generate_padded_vectors([vectors[vector_1], vectors[vector_2]])\n",
    "fig, ax = plt.subplots(figsize=(12,2))\n",
    "ticks = np.arange(0, len(padded_vectors[0]), 20)\n",
    "minor_ticks = np.arange(0, len(padded_vectors[0]), 5)\n",
    "ax.set_xticks(ticks)\n",
    "ax.set_xticks(ticks, minor=True)\n",
    "ax.set_yticklabels(['',f'vector #{vector_1}', f'vector #{vector_2}'])\n",
    "plt.grid(True, axis='x', linestyle='-',zorder=0)\n",
    "\n",
    "plt.setp(ax.get_xminorticklabels(), visible=False)\n",
    "\n",
    "plt.xlabel(\"Vector Dimension\")\n",
    "plt.title(\"Comparing vectors post padding\")\n",
    "\n",
    "legend = [Patch(facecolor=[8/255,46/255,20/255],     edgecolor='k',label='Black Node'),\n",
    "          Patch(facecolor=[232/255,236/255,236/255], edgecolor='k',label='White Node'),\n",
    "          Patch(facecolor=[255/255,90/255,95/255],   edgecolor='k',label='Padding')]\n",
    "plt.legend(handles=legend, bbox_to_anchor=(1,0), loc=\"lower right\", bbox_transform=fig.transFigure, ncol=3)\n",
    "\n",
    "plt.tight_layout()\n",
    "\n",
    "\n",
    "\n",
    "for i in range(len(padded_vectors[0])):\n",
    "    if padded_vectors[0][i]==0:\n",
    "        c1 = [255/255,90/255,95/255]\n",
    "    elif padded_vectors[0][i]>0:\n",
    "        c1 = [232/255,236/255,236/255]\n",
    "    else:\n",
    "        c1 = [8/255,46/255,20/255]\n",
    "        \n",
    "    if padded_vectors[1][i]==0:\n",
    "        c2 = [255/255,90/255,95/255]\n",
    "    elif padded_vectors[1][i]>0:\n",
    "        c2 = [232/255,236/255,236/255]\n",
    "    else:\n",
    "        c2 = [8/255,46/255,20/255]\n",
    "        \n",
    "    color=[c1,c2]\n",
    "    plt.barh([0,1], [1,1], left=i, color=color, height=0.75, orientation='horizontal',zorder=3)\n",
    "plt.show()"
   ]
  }
 ],
 "metadata": {
  "kernelspec": {
   "display_name": "Python 3",
   "language": "python",
   "name": "python3"
  },
  "language_info": {
   "codemirror_mode": {
    "name": "ipython",
    "version": 3
   },
   "file_extension": ".py",
   "mimetype": "text/x-python",
   "name": "python",
   "nbconvert_exporter": "python",
   "pygments_lexer": "ipython3",
   "version": "3.6.9"
  }
 },
 "nbformat": 4,
 "nbformat_minor": 4
}
