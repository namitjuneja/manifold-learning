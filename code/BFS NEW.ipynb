{
 "cells": [
  {
   "cell_type": "code",
   "execution_count": 69,
   "metadata": {},
   "outputs": [],
   "source": [
    "import pickle\n",
    "import numpy as np\n",
    "from tqdm.notebook import tqdm\n",
    "from sklearn.metrics import pairwise_distances\n",
    "from pathlib import Path\n",
    "import networkx as nx\n",
    "from IPython.core.debugger import set_trace\n",
    "from matplotlib import pyplot as plt\n",
    "%matplotlib widget\n",
    "import copy\n",
    "from helper import *\n",
    "%reload_ext autoreload\n",
    "%aimport helper\n",
    "%autoreload 1"
   ]
  },
  {
   "cell_type": "code",
   "execution_count": 91,
   "metadata": {},
   "outputs": [],
   "source": [
    "#trajectories = [('0.56','2.8','1'),('0.56','2.8','2'),('0.56','2.8','3'),('0.56','2.8','4'),('0.56','2.8','5')]\n",
    "trajectories = [('0.56','2.8','5')]\n",
    "start_slice = 0"
   ]
  },
  {
   "cell_type": "code",
   "execution_count": 89,
   "metadata": {},
   "outputs": [
    {
     "name": "stdout",
     "output_type": "stream",
     "text": [
      "> 80 points loaded from file BR0.56-CHI2.8-R5.file.\n"
     ]
    }
   ],
   "source": [
    "vectors = []\n",
    "for trajectory in trajectories:\n",
    "    \n",
    "    phi = trajectory[0]\n",
    "    chi = trajectory[1]\n",
    "    replica = trajectory[2]\n",
    "    \n",
    "    # load graphs for the trajectory\n",
    "    graphs = get_graph_from_file(phi, chi, replica)[start_slice:]\n",
    "\n",
    "    # traverse the graph and create vector\n",
    "    vectors += generate_vectors(graphs)\n",
    "\n",
    "# pad the vector\n",
    "padded_vectors = generate_padded_vectors(vectors)"
   ]
  },
  {
   "cell_type": "code",
   "execution_count": 99,
   "metadata": {},
   "outputs": [
    {
     "data": {
      "application/vnd.jupyter.widget-view+json": {
       "model_id": "48669f61470b45ba953ddf34cf0c48c1",
       "version_major": 2,
       "version_minor": 0
      },
      "text/plain": [
       "Canvas(toolbar=Toolbar(toolitems=[('Home', 'Reset original view', 'home', 'home'), ('Back', 'Back to previous …"
      ]
     },
     "metadata": {},
     "output_type": "display_data"
    },
    {
     "data": {
      "text/plain": [
       "Text(0.5, 1.0, 'After layerwise padding')"
      ]
     },
     "execution_count": 99,
     "metadata": {},
     "output_type": "execute_result"
    }
   ],
   "source": [
    "fig = plt.figure(figsize=(10,4))\n",
    "\n",
    "fig.add_subplot(1,2,1)\n",
    "yy = [i.shape[0] for i in vectors]\n",
    "xx = range(len(yy))\n",
    "plt.bar(xx,yy)\n",
    "plt.xlabel(\"Trajectory #\")\n",
    "plt.ylabel(\"Vector length\")\n",
    "plt.title(\"Before padding\")\n",
    "\n",
    "fig.add_subplot(1,2,2)\n",
    "yy = [i.shape[0] for i in padded_vectors]\n",
    "xx = range(len(yy))\n",
    "plt.bar(xx,yy)\n",
    "plt.xlabel(\"Trajectory #\")\n",
    "plt.ylabel(\"Vector length\")\n",
    "plt.title(\"After layerwise padding\")"
   ]
  },
  {
   "cell_type": "code",
   "execution_count": 101,
   "metadata": {},
   "outputs": [
    {
     "data": {
      "application/vnd.jupyter.widget-view+json": {
       "model_id": "3297a4c30ae24d8daa88d827c7537714",
       "version_major": 2,
       "version_minor": 0
      },
      "text/plain": [
       "Canvas(toolbar=Toolbar(toolitems=[('Home', 'Reset original view', 'home', 'home'), ('Back', 'Back to previous …"
      ]
     },
     "metadata": {},
     "output_type": "display_data"
    }
   ],
   "source": [
    "D = pairwise_distances(padded_vectors, metric='manhattan')\n",
    "#plot_distance_matrix(D)\n",
    "plot_distance_graph(D, 34, start_slice=start_slice)"
   ]
  },
  {
   "cell_type": "code",
   "execution_count": 102,
   "metadata": {},
   "outputs": [
    {
     "data": {
      "application/vnd.jupyter.widget-view+json": {
       "model_id": "bac3632847b84585a0177144a8562a66",
       "version_major": 2,
       "version_minor": 0
      },
      "text/plain": [
       "Canvas(toolbar=Toolbar(toolitems=[('Home', 'Reset original view', 'home', 'home'), ('Back', 'Back to previous …"
      ]
     },
     "metadata": {},
     "output_type": "display_data"
    }
   ],
   "source": [
    "plot_distance_matrix(D)"
   ]
  }
 ],
 "metadata": {
  "kernelspec": {
   "display_name": "Python 3",
   "language": "python",
   "name": "python3"
  },
  "language_info": {
   "codemirror_mode": {
    "name": "ipython",
    "version": 3
   },
   "file_extension": ".py",
   "mimetype": "text/x-python",
   "name": "python",
   "nbconvert_exporter": "python",
   "pygments_lexer": "ipython3",
   "version": "3.6.9"
  }
 },
 "nbformat": 4,
 "nbformat_minor": 4
}
