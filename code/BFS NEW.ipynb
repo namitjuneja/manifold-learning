{
 "cells": [
  {
   "cell_type": "code",
   "execution_count": 14,
   "metadata": {},
   "outputs": [],
   "source": [
    "import pickle\n",
    "import numpy as np\n",
    "from tqdm.notebook import tqdm\n",
    "from sklearn.metrics import pairwise_distances\n",
    "from pathlib import Path\n",
    "import networkx as nx\n",
    "from IPython.core.debugger import set_trace\n",
    "from matplotlib import pyplot as plt\n",
    "%matplotlib widget\n",
    "import copy\n",
    "from helper import *\n",
    "%reload_ext autoreload\n",
    "%aimport helper\n",
    "%autoreload 1"
   ]
  },
  {
   "cell_type": "code",
   "execution_count": 15,
   "metadata": {},
   "outputs": [],
   "source": [
    "#trajectories = [('0.56','2.8','1'),('0.56','2.8','2'),('0.56','2.8','3'),('0.56','2.8','4'),('0.56','2.8','5')]\n",
    "trajectories = [('0.56','2.8','5')]\n",
    "start_slice = 0"
   ]
  },
  {
   "cell_type": "code",
   "execution_count": 16,
   "metadata": {},
   "outputs": [
    {
     "name": "stdout",
     "output_type": "stream",
     "text": [
      "> 80 points loaded from file BR0.56-CHI2.8-R5.file.\n"
     ]
    }
   ],
   "source": [
    "vectors = []\n",
    "for trajectory in trajectories:\n",
    "    \n",
    "    phi = trajectory[0]\n",
    "    chi = trajectory[1]\n",
    "    replica = trajectory[2]\n",
    "    \n",
    "    # load graphs for the trajectory\n",
    "    graphs = get_graph_from_file(phi, chi, replica)[start_slice:]\n",
    "\n",
    "    # traverse the graph and create vector\n",
    "    vectors += generate_vectors(graphs)\n",
    "\n",
    "# pad the vector (this will do global layerwise padding)\n",
    "# padded_vectors = generate_padded_vectors(vectors)"
   ]
  },
  {
   "cell_type": "code",
   "execution_count": 53,
   "metadata": {
    "collapsed": true,
    "jupyter": {
     "outputs_hidden": true
    }
   },
   "outputs": [
    {
     "name": "stdout",
     "output_type": "stream",
     "text": [
      "0 1 [ True  True  True  True  True  True  True  True  True  True  True  True\n",
      "  True  True  True  True  True  True  True  True  True  True  True  True\n",
      "  True  True  True  True  True  True  True  True  True  True  True  True\n",
      "  True  True  True  True  True  True  True  True  True  True  True  True\n",
      "  True  True  True  True  True  True  True  True  True  True  True  True\n",
      "  True  True  True  True  True  True  True  True  True  True  True  True\n",
      "  True  True  True  True  True  True  True  True  True  True  True  True\n",
      "  True  True  True  True  True  True  True  True  True  True  True  True\n",
      "  True  True  True  True  True  True  True  True  True  True  True  True\n",
      "  True  True  True  True  True  True  True  True  True  True  True  True\n",
      "  True  True  True  True  True  True  True  True  True  True  True  True\n",
      "  True  True  True  True  True  True  True  True  True  True  True  True\n",
      "  True  True  True  True  True  True  True  True  True  True  True  True\n",
      "  True  True  True  True  True  True  True  True  True  True  True  True\n",
      "  True  True  True  True  True  True  True  True  True  True  True  True\n",
      "  True  True  True  True  True  True  True  True  True  True  True  True\n",
      "  True  True  True  True  True  True  True  True  True  True  True  True\n",
      "  True  True  True  True  True  True  True  True  True  True  True  True\n",
      "  True  True  True  True  True  True  True  True  True  True  True  True\n",
      "  True  True  True  True  True  True  True  True  True  True  True  True\n",
      "  True  True  True  True  True  True  True  True  True  True  True  True\n",
      "  True  True  True  True  True  True  True  True  True  True  True  True\n",
      "  True  True  True  True  True  True  True  True  True  True  True  True\n",
      "  True  True  True  True  True  True  True  True  True  True  True  True\n",
      "  True  True  True  True  True  True  True  True  True  True  True  True\n",
      "  True  True  True  True  True  True  True  True  True  True  True  True\n",
      "  True  True  True  True  True  True  True  True  True  True  True  True\n",
      "  True  True  True  True  True  True  True  True  True  True  True  True\n",
      "  True  True  True  True  True  True  True  True  True  True  True  True\n",
      "  True  True  True  True  True  True  True  True  True  True  True  True\n",
      "  True  True  True  True  True  True  True  True  True  True  True  True\n",
      "  True  True  True  True  True  True  True  True  True  True  True  True\n",
      "  True  True  True  True  True  True  True  True  True  True  True  True\n",
      "  True  True  True  True  True  True  True  True  True  True  True  True\n",
      "  True  True  True  True  True  True  True  True  True  True  True  True\n",
      "  True  True  True  True  True  True  True  True  True  True  True  True\n",
      "  True  True  True  True  True  True  True  True  True  True  True  True\n",
      "  True  True  True  True  True  True  True  True  True  True  True  True\n",
      "  True  True  True  True  True  True  True  True  True  True  True  True\n",
      "  True  True  True  True  True  True  True  True  True  True]\n"
     ]
    }
   ],
   "source": [
    "a = generate_distance_matrix(vectors)"
   ]
  },
  {
   "cell_type": "code",
   "execution_count": 54,
   "metadata": {},
   "outputs": [],
   "source": [
    "v1,v2 = a"
   ]
  },
  {
   "cell_type": "code",
   "execution_count": 60,
   "metadata": {},
   "outputs": [
    {
     "data": {
      "text/plain": [
       "478"
      ]
     },
     "execution_count": 60,
     "metadata": {},
     "output_type": "execute_result"
    }
   ],
   "source": [
    "len(list(v1))"
   ]
  },
  {
   "cell_type": "code",
   "execution_count": 64,
   "metadata": {},
   "outputs": [
    {
     "data": {
      "application/vnd.jupyter.widget-view+json": {
       "model_id": "0df1425b92ce484ea4e24ce110f81aa0",
       "version_major": 2,
       "version_minor": 0
      },
      "text/plain": [
       "Canvas(toolbar=Toolbar(toolitems=[('Home', 'Reset original view', 'home', 'home'), ('Back', 'Back to previous …"
      ]
     },
     "metadata": {},
     "output_type": "display_data"
    },
    {
     "data": {
      "text/plain": [
       "<BarContainer object of 473 artists>"
      ]
     },
     "execution_count": 64,
     "metadata": {},
     "output_type": "execute_result"
    }
   ],
   "source": [
    "plt.figure()\n",
    "plt.bar(range(len(v1)-5), v1[5:])"
   ]
  },
  {
   "cell_type": "code",
   "execution_count": 65,
   "metadata": {},
   "outputs": [
    {
     "data": {
      "application/vnd.jupyter.widget-view+json": {
       "model_id": "5f7a3814f6e047fa89b44e057793f27a",
       "version_major": 2,
       "version_minor": 0
      },
      "text/plain": [
       "Canvas(toolbar=Toolbar(toolitems=[('Home', 'Reset original view', 'home', 'home'), ('Back', 'Back to previous …"
      ]
     },
     "metadata": {},
     "output_type": "display_data"
    },
    {
     "data": {
      "text/plain": [
       "<BarContainer object of 473 artists>"
      ]
     },
     "execution_count": 65,
     "metadata": {},
     "output_type": "execute_result"
    }
   ],
   "source": [
    "plt.figure()\n",
    "plt.bar(range(len(v2)-5), v2[5:])"
   ]
  },
  {
   "cell_type": "code",
   "execution_count": 45,
   "metadata": {},
   "outputs": [
    {
     "name": "stdout",
     "output_type": "stream",
     "text": [
      "[array([2.34020000e+04, 1.35714286e+00, 2.77777778e+00, 3.32352941e+00,\n",
      "       5.53703704e+00, 5.91803279e+00, 6.28448276e+00, 6.30303030e+00,\n",
      "       6.96666667e+00, 7.20000000e+00, 7.31578947e+00, 7.74820144e+00,\n",
      "       7.85135135e+00, 8.10465116e+00, 8.32300885e+00, 8.38257576e+00,\n",
      "       8.38755981e+00, 8.46590909e+00, 8.63888889e+00, 9.00884956e+00,\n",
      "       9.65306122e+00]), array([2.34020000e+04, 1.35714286e+00, 2.77777778e+00, 3.32352941e+00,\n",
      "       5.53703704e+00, 5.91803279e+00, 6.28448276e+00, 6.30303030e+00,\n",
      "       6.96666667e+00, 7.20000000e+00, 7.31578947e+00, 7.74820144e+00,\n",
      "       7.85135135e+00, 8.10465116e+00, 8.32300885e+00, 8.38257576e+00,\n",
      "       8.38755981e+00, 8.46590909e+00, 8.63888889e+00, 9.00884956e+00,\n",
      "       9.65306122e+00])]\n",
      "[array([2.34020000e+04, 1.35714286e+00, 2.77777778e+00, 3.32352941e+00,\n",
      "       5.53703704e+00, 5.91803279e+00, 6.28448276e+00, 6.30303030e+00,\n",
      "       6.96666667e+00, 7.20000000e+00, 7.31578947e+00, 7.74820144e+00,\n",
      "       7.85135135e+00, 8.10465116e+00, 8.32300885e+00, 8.38257576e+00,\n",
      "       8.38755981e+00, 8.46590909e+00, 8.63888889e+00, 9.00884956e+00,\n",
      "       9.65306122e+00]), array([2.34020000e+04, 1.35714286e+00, 2.77777778e+00, 3.32352941e+00,\n",
      "       5.53703704e+00, 5.91803279e+00, 6.28448276e+00, 6.30303030e+00,\n",
      "       6.96666667e+00, 7.20000000e+00, 7.31578947e+00, 7.74820144e+00,\n",
      "       7.85135135e+00, 8.10465116e+00, 8.32300885e+00, 8.38257576e+00,\n",
      "       8.38755981e+00, 8.46590909e+00, 8.63888889e+00, 9.00884956e+00,\n",
      "       9.65306122e+00])]\n",
      "[ True  True  True  True  True  True  True  True  True  True  True  True\n",
      "  True  True  True  True  True  True  True  True  True]\n"
     ]
    }
   ],
   "source": [
    "print(v1)\n",
    "print(v2)\n",
    "print(v1[0]==v2[0])"
   ]
  },
  {
   "cell_type": "code",
   "execution_count": 5,
   "metadata": {},
   "outputs": [
    {
     "data": {
      "application/vnd.jupyter.widget-view+json": {
       "model_id": "be9284483a8648be99531b160617d50b",
       "version_major": 2,
       "version_minor": 0
      },
      "text/plain": [
       "Canvas(toolbar=Toolbar(toolitems=[('Home', 'Reset original view', 'home', 'home'), ('Back', 'Back to previous …"
      ]
     },
     "metadata": {},
     "output_type": "display_data"
    }
   ],
   "source": [
    "D = pairwise_distances(padded_vectors, metric='manhattan')\n",
    "#plot_distance_matrix(D)\n",
    "plot_distance_graph(D, 34, start_slice=start_slice)"
   ]
  },
  {
   "cell_type": "code",
   "execution_count": null,
   "metadata": {},
   "outputs": [],
   "source": [
    "plot_distance_matrix(D)"
   ]
  }
 ],
 "metadata": {
  "kernelspec": {
   "display_name": "Python 3",
   "language": "python",
   "name": "python3"
  },
  "language_info": {
   "codemirror_mode": {
    "name": "ipython",
    "version": 3
   },
   "file_extension": ".py",
   "mimetype": "text/x-python",
   "name": "python",
   "nbconvert_exporter": "python",
   "pygments_lexer": "ipython3",
   "version": "3.6.8"
  }
 },
 "nbformat": 4,
 "nbformat_minor": 4
}
