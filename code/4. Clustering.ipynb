{
 "cells": [
  {
   "cell_type": "code",
   "execution_count": 9,
   "metadata": {},
   "outputs": [],
   "source": [
    "from helper import *\n",
    "from sklearn.metrics import pairwise_distances # for computing manhattan distance of padded vectors\n",
    "from scipy.cluster.hierarchy import linkage, dendrogram  # implementing hieararchical clustering and plotting it\n",
    "from matplotlib import pyplot as plt\n",
    "%matplotlib widget"
   ]
  },
  {
   "cell_type": "markdown",
   "metadata": {},
   "source": [
    "#### List all the trajectories"
   ]
  },
  {
   "cell_type": "code",
   "execution_count": 10,
   "metadata": {},
   "outputs": [],
   "source": [
    "trajectories = [('0.52','2.4','1'),('0.52','2.4','3')]\n",
    "start_slice = 20"
   ]
  },
  {
   "cell_type": "markdown",
   "metadata": {},
   "source": [
    "#### Run Priority BFS"
   ]
  },
  {
   "cell_type": "code",
   "execution_count": 3,
   "metadata": {},
   "outputs": [
    {
     "name": "stdout",
     "output_type": "stream",
     "text": [
      "> 80 points loaded from file BR0.52-CHI2.4-R1.file.\n",
      "> 80 points loaded from file BR0.52-CHI2.4-R3.file.\n"
     ]
    }
   ],
   "source": [
    "vectors = []\n",
    "for trajectory in trajectories:\n",
    "    \n",
    "    phi = trajectory[0]\n",
    "    chi = trajectory[1]\n",
    "    replica = trajectory[2]\n",
    "    \n",
    "    # load graphs for the trajectory\n",
    "    graphs = get_graph_from_file(phi, chi, replica)[start_slice:]\n",
    "\n",
    "    # traverse the graph and create vector\n",
    "    vectors += generate_vectors(graphs)"
   ]
  },
  {
   "cell_type": "markdown",
   "metadata": {},
   "source": [
    "#### Define a distance function\n",
    "- performs layerwise padding\n",
    "- computes the L2 distance of the 2 padded vectors"
   ]
  },
  {
   "cell_type": "code",
   "execution_count": 4,
   "metadata": {},
   "outputs": [],
   "source": [
    "def layerwise_distance(vector1, vector2):\n",
    "    \"\"\"\n",
    "    args:\n",
    "        vector1 (ndarray): first vector\n",
    "        vector2 (ndarray): second vector\n",
    "    return:\n",
    "        distance (int): scalar l2 distance between the 2 vectors after they are padded layerwise\n",
    "    \"\"\"\n",
    "    \n",
    "    # trim all the trailing zeroes that were added to make the \n",
    "    # input work with linkage function that requires equal dimensional vectors\n",
    "    vector1 = np.trim_zeros(vector1, 'b')\n",
    "    vector2 = np.trim_zeros(vector2, 'b')\n",
    "    \n",
    "    padded_vectors = generate_padded_vectors([vector1,vector2])\n",
    "    \n",
    "    distance = pairwise_distances(padded_vectors, metric='manhattan')[0][1]\n",
    "    \n",
    "    return distance\n",
    "    "
   ]
  },
  {
   "cell_type": "markdown",
   "metadata": {},
   "source": [
    "linkage only accepts vectors of same length\n",
    "\n",
    "so I am front padding all the vectors with the max dimension (experimantally)\n",
    "\n",
    "and trying to observe the results"
   ]
  },
  {
   "cell_type": "code",
   "execution_count": 5,
   "metadata": {},
   "outputs": [],
   "source": [
    "max_dimension = max(map(len, vectors))\n",
    "front_padded_vectors = []\n",
    "for vector in vectors:\n",
    "    front_padded_vectors.append(front_pad(vector, max_dimension))"
   ]
  },
  {
   "cell_type": "code",
   "execution_count": 6,
   "metadata": {},
   "outputs": [],
   "source": [
    "clusters = linkage(front_padded_vectors, metric=layerwise_distance)"
   ]
  },
  {
   "cell_type": "code",
   "execution_count": 11,
   "metadata": {},
   "outputs": [
    {
     "data": {
      "application/vnd.jupyter.widget-view+json": {
       "model_id": "b2446ed698e64feea892e5381feeef60",
       "version_major": 2,
       "version_minor": 0
      },
      "text/plain": [
       "Canvas(toolbar=Toolbar(toolitems=[('Home', 'Reset original view', 'home', 'home'), ('Back', 'Back to previous …"
      ]
     },
     "metadata": {},
     "output_type": "display_data"
    }
   ],
   "source": [
    "# calculate full dendrogram\n",
    "plt.figure(figsize=(13, 10))\n",
    "plt.title('Hierarchical Clustering Dendrogram')\n",
    "plt.xlabel('sample index')\n",
    "plt.ylabel('distance')\n",
    "dendrogram(\n",
    "    Z=clusters,\n",
    "    leaf_rotation=90.,  # rotates the x axis labels\n",
    "    leaf_font_size=8.,  # font size for the x axis labels\n",
    ")\n",
    "plt.show()\n",
    "\n"
   ]
  },
  {
   "cell_type": "code",
   "execution_count": null,
   "metadata": {},
   "outputs": [],
   "source": []
  }
 ],
 "metadata": {
  "kernelspec": {
   "display_name": "Python 3",
   "language": "python",
   "name": "python3"
  },
  "language_info": {
   "codemirror_mode": {
    "name": "ipython",
    "version": 3
   },
   "file_extension": ".py",
   "mimetype": "text/x-python",
   "name": "python",
   "nbconvert_exporter": "python",
   "pygments_lexer": "ipython3",
   "version": "3.6.8"
  }
 },
 "nbformat": 4,
 "nbformat_minor": 4
}
